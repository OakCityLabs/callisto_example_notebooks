{
  "cells": [
    {
      "metadata": {
        "jupyter_d1": {
          "position": 0,
          "uuid": "b304131f-e6bc-4ff2-b875-8c3e1cb35157",
          "execution_state": "idle",
          "path": null,
          "working_directory": null,
          "notebook_uuid": "1648cbed-5b80-4805-98bb-bec4d190d18d",
          "name": null
        }
      },
      "id": "0b8025e8",
      "source": "import pandas as pd\n",
      "cell_type": "code",
      "execution_count": 1,
      "outputs": []
    },
    {
      "metadata": {
        "jupyter_d1": {
          "position": 1,
          "uuid": "1a2d465f-12a8-4a64-b3fe-a8f220348556",
          "execution_state": "idle",
          "path": null,
          "working_directory": null,
          "notebook_uuid": "1648cbed-5b80-4805-98bb-bec4d190d18d",
          "name": null
        }
      },
      "id": "2c742be9",
      "source": "df = pd.read_csv('books.csv')\ndf.head()\n",
      "cell_type": "code",
      "execution_count": 2,
      "outputs": [
        {
          "metadata": {},
          "data": {
            "text/plain": "          isbn13      isbn10           title subtitle   \n0  9780002005883  0002005883          Gilead      NaN  \\\n1  9780002261982  0002261987    Spider's Web  A Novel   \n2  9780006163831  0006163831    The One Tree      NaN   \n3  9780006178736  0006178731  Rage of angels      NaN   \n4  9780006280897  0006280897  The Four Loves      NaN   \n\n                           authors                     categories   \n0               Marilynne Robinson                        Fiction  \\\n1  Charles Osborne;Agatha Christie  Detective and mystery stories   \n2             Stephen R. Donaldson               American fiction   \n3                   Sidney Sheldon                        Fiction   \n4              Clive Staples Lewis                 Christian life   \n\n                                           thumbnail   \n0  http://books.google.com/books/content?id=KQZCP...  \\\n1  http://books.google.com/books/content?id=gA5GP...   \n2  http://books.google.com/books/content?id=OmQaw...   \n3  http://books.google.com/books/content?id=FKo2T...   \n4  http://books.google.com/books/content?id=XhQ5X...   \n\n                                         description  published_year   \n0  A NOVEL THAT READERS and critics have been eag...          2004.0  \\\n1  A new 'Christie for Christmas' -- a full-lengt...          2000.0   \n2  Volume Two of Stephen Donaldson's acclaimed se...          1982.0   \n3  A memorable, mesmerizing heroine Jennifer -- b...          1993.0   \n4  Lewis' work on the nature of love divides love...          2002.0   \n\n   average_rating  num_pages  ratings_count  \n0            3.85      247.0          361.0  \n1            3.83      241.0         5164.0  \n2            3.97      479.0          172.0  \n3            3.93      512.0        29532.0  \n4            4.15      170.0        33684.0  ",
            "application/vnd.dataresource+json": {
              "schema": {
                "pandas_version": "1.4.0",
                "primaryKey": [
                  "index"
                ],
                "fields": [
                  {
                    "name": "index",
                    "type": "integer"
                  },
                  {
                    "name": "isbn13",
                    "type": "integer"
                  },
                  {
                    "name": "isbn10",
                    "type": "string"
                  },
                  {
                    "name": "title",
                    "type": "string"
                  },
                  {
                    "name": "subtitle",
                    "type": "string"
                  },
                  {
                    "name": "authors",
                    "type": "string"
                  },
                  {
                    "name": "categories",
                    "type": "string"
                  },
                  {
                    "name": "thumbnail",
                    "type": "string"
                  },
                  {
                    "name": "description",
                    "type": "string"
                  },
                  {
                    "name": "published_year",
                    "type": "number"
                  },
                  {
                    "name": "average_rating",
                    "type": "number"
                  },
                  {
                    "name": "num_pages",
                    "type": "number"
                  },
                  {
                    "name": "ratings_count",
                    "type": "number"
                  }
                ]
              },
              "data": [
                {
                  "description": "A NOVEL THAT READERS and critics have been eagerly anticipating for over a decade, Gilead is an astonishingly imagined story of remarkable lives. John Ames is a preacher, the son of a preacher and the grandson (both maternal and paternal) of preachers. It’s 1956 in Gilead, Iowa, towards the end of the Reverend Ames’s life, and he is absorbed in recording his family’s story, a legacy for the young son he will never see grow up. Haunted by his grandfather’s presence, John tells of the rift between his grandfather and his father: the elder, an angry visionary who fought for the abolitionist cause, and his son, an ardent pacifist. He is troubled, too, by his prodigal namesake, Jack (John Ames) Boughton, his best friend’s lost son who returns to Gilead searching for forgiveness and redemption. Told in John Ames’s joyous, rambling voice that finds beauty, humour and truth in the smallest of life’s details, Gilead is a song of celebration and acceptance of the best and the worst the world has to offer. At its heart is a tale of the sacred bonds between fathers and sons, pitch-perfect in style and story, set to dazzle critics and readers alike.",
                  "categories": "Fiction",
                  "published_year": 2004,
                  "subtitle": null,
                  "index": 0,
                  "isbn13": 9780002005883,
                  "authors": "Marilynne Robinson",
                  "average_rating": 3.85,
                  "title": "Gilead",
                  "ratings_count": 361,
                  "thumbnail": "http://books.google.com/books/content?id=KQZCPgAACAAJ&printsec=frontcover&img=1&zoom=1&source=gbs_api",
                  "isbn10": "0002005883",
                  "num_pages": 247
                },
                {
                  "description": "A new 'Christie for Christmas' -- a full-length novel adapted from her acclaimed play by Charles Osborne Following BLACK COFFEE and THE UNEXPECTED GUEST comes the final Agatha Christie play novelisation, bringing her superb storytelling to a new legion of fans. Clarissa, the wife of a Foreign Office diplomat, is given to daydreaming. 'Supposing I were to come down one morning and find a dead body in the library, what should I do?' she muses. Clarissa has her chance to find out when she discovers a body in the drawing-room of her house in Kent. Desperate to dispose of the body before her husband comes home with an important foreign politician, Clarissa persuades her three house guests to become accessories and accomplices. It seems that the murdered man was not unknown to certain members of the house party (but which ones?), and the search begins for the murderer and the motive, while at the same time trying to persuade a police inspector that there has been no murder at all... SPIDER'S WEB was written in 1954 specifically for Margaret Lockwood and opened first at the Theatre Royal Nottingham before moving to the Savoy Theatre in London on 14 December 1954. With THE MOUSETRAP and WI",
                  "categories": "Detective and mystery stories",
                  "published_year": 2000,
                  "subtitle": "A Novel",
                  "index": 1,
                  "isbn13": 9780002261982,
                  "authors": "Charles Osborne;Agatha Christie",
                  "average_rating": 3.83,
                  "title": "Spider's Web",
                  "ratings_count": 5164,
                  "thumbnail": "http://books.google.com/books/content?id=gA5GPgAACAAJ&printsec=frontcover&img=1&zoom=1&source=gbs_api",
                  "isbn10": "0002261987",
                  "num_pages": 241
                },
                {
                  "description": "Volume Two of Stephen Donaldson's acclaimed second trilogy featuing the compelling anti-hero Thomas Covenant.",
                  "published_year": 1982,
                  "index": 2,
                  "subtitle": null,
                  "categories": "American fiction",
                  "isbn13": 9780006163831,
                  "authors": "Stephen R. Donaldson",
                  "average_rating": 3.97,
                  "title": "The One Tree",
                  "ratings_count": 172,
                  "thumbnail": "http://books.google.com/books/content?id=OmQawwEACAAJ&printsec=frontcover&img=1&zoom=1&source=gbs_api",
                  "isbn10": "0006163831",
                  "num_pages": 479
                },
                {
                  "description": "A memorable, mesmerizing heroine Jennifer -- brilliant, beautiful, an attorney on the way up until the Mafia's schemes win her the hatred of an implacable enemy -- and a love more destructive than hate. A dangerous, dramatic world The Dark Arena of organized crime and flashbulb lit courtrooms where ambitious prosecutors begin their climb to political power.",
                  "published_year": 1993,
                  "index": 3,
                  "subtitle": null,
                  "categories": "Fiction",
                  "isbn13": 9780006178736,
                  "authors": "Sidney Sheldon",
                  "average_rating": 3.93,
                  "title": "Rage of angels",
                  "ratings_count": 29532,
                  "thumbnail": "http://books.google.com/books/content?id=FKo2TgANz74C&printsec=frontcover&img=1&zoom=1&source=gbs_api",
                  "isbn10": "0006178731",
                  "num_pages": 512
                },
                {
                  "description": "Lewis' work on the nature of love divides love into four categories; Affection, Friendship, Eros and Charity. The first three come naturally to humanity. Charity, however, the Gift-love of God, is divine, and without this supernatural love, the natural loves become distorted and even dangerous.",
                  "published_year": 2002,
                  "index": 4,
                  "subtitle": null,
                  "categories": "Christian life",
                  "isbn13": 9780006280897,
                  "authors": "Clive Staples Lewis",
                  "average_rating": 4.15,
                  "title": "The Four Loves",
                  "ratings_count": 33684,
                  "thumbnail": "http://books.google.com/books/content?id=XhQ5XsFcpGIC&printsec=frontcover&img=1&zoom=1&source=gbs_api",
                  "isbn10": "0006280897",
                  "num_pages": 170
                }
              ]
            },
            "text/html": "<div>\n<style scoped>\n    .dataframe tbody tr th:only-of-type {\n        vertical-align: middle;\n    }\n\n    .dataframe tbody tr th {\n        vertical-align: top;\n    }\n\n    .dataframe thead th {\n        text-align: right;\n    }\n</style>\n<table border=\"1\" class=\"dataframe\">\n  <thead>\n    <tr style=\"text-align: right;\">\n      <th></th>\n      <th>isbn13</th>\n      <th>isbn10</th>\n      <th>title</th>\n      <th>subtitle</th>\n      <th>authors</th>\n      <th>categories</th>\n      <th>thumbnail</th>\n      <th>description</th>\n      <th>published_year</th>\n      <th>average_rating</th>\n      <th>num_pages</th>\n      <th>ratings_count</th>\n    </tr>\n  </thead>\n  <tbody>\n    <tr>\n      <th>0</th>\n      <td>9780002005883</td>\n      <td>0002005883</td>\n      <td>Gilead</td>\n      <td>NaN</td>\n      <td>Marilynne Robinson</td>\n      <td>Fiction</td>\n      <td>http://books.google.com/books/content?id=KQZCP...</td>\n      <td>A NOVEL THAT READERS and critics have been eag...</td>\n      <td>2004.0</td>\n      <td>3.85</td>\n      <td>247.0</td>\n      <td>361.0</td>\n    </tr>\n    <tr>\n      <th>1</th>\n      <td>9780002261982</td>\n      <td>0002261987</td>\n      <td>Spider's Web</td>\n      <td>A Novel</td>\n      <td>Charles Osborne;Agatha Christie</td>\n      <td>Detective and mystery stories</td>\n      <td>http://books.google.com/books/content?id=gA5GP...</td>\n      <td>A new 'Christie for Christmas' -- a full-lengt...</td>\n      <td>2000.0</td>\n      <td>3.83</td>\n      <td>241.0</td>\n      <td>5164.0</td>\n    </tr>\n    <tr>\n      <th>2</th>\n      <td>9780006163831</td>\n      <td>0006163831</td>\n      <td>The One Tree</td>\n      <td>NaN</td>\n      <td>Stephen R. Donaldson</td>\n      <td>American fiction</td>\n      <td>http://books.google.com/books/content?id=OmQaw...</td>\n      <td>Volume Two of Stephen Donaldson's acclaimed se...</td>\n      <td>1982.0</td>\n      <td>3.97</td>\n      <td>479.0</td>\n      <td>172.0</td>\n    </tr>\n    <tr>\n      <th>3</th>\n      <td>9780006178736</td>\n      <td>0006178731</td>\n      <td>Rage of angels</td>\n      <td>NaN</td>\n      <td>Sidney Sheldon</td>\n      <td>Fiction</td>\n      <td>http://books.google.com/books/content?id=FKo2T...</td>\n      <td>A memorable, mesmerizing heroine Jennifer -- b...</td>\n      <td>1993.0</td>\n      <td>3.93</td>\n      <td>512.0</td>\n      <td>29532.0</td>\n    </tr>\n    <tr>\n      <th>4</th>\n      <td>9780006280897</td>\n      <td>0006280897</td>\n      <td>The Four Loves</td>\n      <td>NaN</td>\n      <td>Clive Staples Lewis</td>\n      <td>Christian life</td>\n      <td>http://books.google.com/books/content?id=XhQ5X...</td>\n      <td>Lewis' work on the nature of love divides love...</td>\n      <td>2002.0</td>\n      <td>4.15</td>\n      <td>170.0</td>\n      <td>33684.0</td>\n    </tr>\n  </tbody>\n</table>\n</div>"
          },
          "output_type": "execute_result",
          "execution_count": 2
        }
      ]
    },
    {
      "metadata": {
        "jupyter_d1": {
          "position": 2,
          "uuid": "85bbc7e3-887f-4d36-a1a9-50ec866a6072",
          "execution_state": "idle",
          "path": null,
          "working_directory": null,
          "notebook_uuid": "1648cbed-5b80-4805-98bb-bec4d190d18d",
          "name": null
        }
      },
      "id": "51b2bcc2",
      "source": "df[[\"title\", \"authors\"]]\n",
      "cell_type": "code",
      "execution_count": 3,
      "outputs": [
        {
          "metadata": {},
          "data": {
            "text/html": "<div>\n<style scoped>\n    .dataframe tbody tr th:only-of-type {\n        vertical-align: middle;\n    }\n\n    .dataframe tbody tr th {\n        vertical-align: top;\n    }\n\n    .dataframe thead th {\n        text-align: right;\n    }\n</style>\n<table border=\"1\" class=\"dataframe\">\n  <thead>\n    <tr style=\"text-align: right;\">\n      <th></th>\n      <th>title</th>\n      <th>authors</th>\n    </tr>\n  </thead>\n  <tbody>\n    <tr>\n      <th>0</th>\n      <td>Gilead</td>\n      <td>Marilynne Robinson</td>\n    </tr>\n    <tr>\n      <th>1</th>\n      <td>Spider's Web</td>\n      <td>Charles Osborne;Agatha Christie</td>\n    </tr>\n    <tr>\n      <th>2</th>\n      <td>The One Tree</td>\n      <td>Stephen R. Donaldson</td>\n    </tr>\n    <tr>\n      <th>3</th>\n      <td>Rage of angels</td>\n      <td>Sidney Sheldon</td>\n    </tr>\n    <tr>\n      <th>4</th>\n      <td>The Four Loves</td>\n      <td>Clive Staples Lewis</td>\n    </tr>\n    <tr>\n      <th>...</th>\n      <td>...</td>\n      <td>...</td>\n    </tr>\n    <tr>\n      <th>6805</th>\n      <td>I Am that</td>\n      <td>Sri Nisargadatta Maharaj;Sudhakar S. Dikshit</td>\n    </tr>\n    <tr>\n      <th>6806</th>\n      <td>Secrets Of The Heart</td>\n      <td>Khalil Gibran</td>\n    </tr>\n    <tr>\n      <th>6807</th>\n      <td>Fahrenheit 451</td>\n      <td>Ray Bradbury</td>\n    </tr>\n    <tr>\n      <th>6808</th>\n      <td>The Berlin Phenomenology</td>\n      <td>Georg Wilhelm Friedrich Hegel</td>\n    </tr>\n    <tr>\n      <th>6809</th>\n      <td>'I'm Telling You Stories'</td>\n      <td>Helena Grice;Tim Woods</td>\n    </tr>\n  </tbody>\n</table>\n<p>6810 rows × 2 columns</p>\n</div>",
            "application/vnd.dataresource+json": {
              "schema": {
                "pandas_version": "1.4.0",
                "primaryKey": [
                  "index"
                ],
                "fields": [
                  {
                    "name": "index",
                    "type": "integer"
                  },
                  {
                    "name": "title",
                    "type": "string"
                  },
                  {
                    "name": "authors",
                    "type": "string"
                  }
                ]
              },
              "data": [
                {
                  "authors": "Marilynne Robinson",
                  "index": 0,
                  "title": "Gilead"
                },
                {
                  "index": 1,
                  "authors": "Charles Osborne;Agatha Christie",
                  "title": "Spider's Web"
                },
                {
                  "index": 2,
                  "authors": "Stephen R. Donaldson",
                  "title": "The One Tree"
                },
                {
                  "index": 3,
                  "authors": "Sidney Sheldon",
                  "title": "Rage of angels"
                },
                {
                  "authors": "Clive Staples Lewis",
                  "index": 4,
                  "title": "The Four Loves"
                },
                {
                  "authors": "Clive Staples Lewis",
                  "index": 5,
                  "title": "The Problem of Pain"
                },
                {
                  "authors": "Agatha Christie",
                  "index": 6,
                  "title": "An Autobiography"
                },
                {
                  "index": 7,
                  "authors": "Richard Hall",
                  "title": "Empires of the Monsoon"
                },
                {
                  "index": 8,
                  "authors": "Stephen R. Donaldson",
                  "title": "The Gap Into Madness"
                },
                {
                  "authors": "Sidney Sheldon",
                  "index": 9,
                  "title": "Master of the Game"
                },
                {
                  "index": 10,
                  "authors": "Sidney Sheldon",
                  "title": "If Tomorrow Comes"
                },
                {
                  "index": 11,
                  "authors": "Robin Hobb",
                  "title": "Assassin's Apprentice"
                },
                {
                  "authors": "Janny Wurts",
                  "index": 12,
                  "title": "Warhost of Vastmark"
                },
                {
                  "index": 13,
                  "authors": "Terence Hanbury White",
                  "title": "The Once and Future King"
                },
                {
                  "authors": "Raymond E. Feist;Joel Rosenberg",
                  "index": 14,
                  "title": "Murder in LaMut"
                },
                {
                  "index": 15,
                  "authors": "Raymond E. Feist;S. M. Stirling",
                  "title": "Jimmy the Hand"
                },
                {
                  "authors": "Margaret Weis;Tracy Hickman",
                  "index": 16,
                  "title": "Well of Darkness"
                },
                {
                  "index": 17,
                  "authors": "Agatha Christie",
                  "title": "Witness for the Prosecution & Selected Plays"
                },
                {
                  "authors": "Philippa Gregory",
                  "index": 18,
                  "title": "The Little House"
                },
                {
                  "index": 19,
                  "authors": "Susan Howatch",
                  "title": "Mystical Paths"
                },
                {
                  "authors": "Susan Howatch",
                  "index": 20,
                  "title": "Glittering Images"
                },
                {
                  "index": 21,
                  "authors": "Susan Howatch",
                  "title": "Glamorous Powers"
                },
                {
                  "index": 22,
                  "authors": "Robin Hobb",
                  "title": "The Mad Ship"
                },
                {
                  "authors": "Patrick O'Brian",
                  "index": 23,
                  "title": "Post Captain"
                },
                {
                  "index": 24,
                  "authors": "Patrick O'Brian",
                  "title": "The Reverse of the Medal"
                },
                {
                  "index": 25,
                  "authors": "Agatha Christie",
                  "title": "Miss Marple"
                },
                {
                  "authors": "Kim Stanley Robinson",
                  "index": 26,
                  "title": "The Years of Rice and Salt"
                },
                {
                  "index": 27,
                  "authors": "Michael Marshall Smith",
                  "title": "Spares"
                },
                {
                  "index": 28,
                  "authors": "Tess Gerritsen",
                  "title": "Gravity"
                },
                {
                  "authors": "Philippa Gregory",
                  "index": 29,
                  "title": "The Wise Woman"
                },
                {
                  "index": 30,
                  "authors": "Jessica Adams;Chris Manby;Fiona Walker",
                  "title": "Girls' Night in"
                },
                {
                  "index": 31,
                  "authors": "Joan Didion",
                  "title": "The White Album"
                },
                {
                  "authors": "Amy Tan",
                  "index": 32,
                  "title": "The Bonesetter's Daughter"
                },
                {
                  "authors": "Thomas L. Friedman",
                  "index": 33,
                  "title": "The Lexus and the Olive Tree"
                },
                {
                  "authors": "Frank McCourt",
                  "index": 34,
                  "title": "'Tis"
                },
                {
                  "authors": "Mark Haddon;Peter Sutton",
                  "index": 35,
                  "title": "Ocean Star Express"
                },
                {
                  "index": 36,
                  "authors": "Joan Aiken",
                  "title": "A Small Pinch of Weather"
                },
                {
                  "authors": "Elinor Mary Brent-Dyer",
                  "index": 37,
                  "title": "The Princess of the Chalet School"
                },
                {
                  "index": 38,
                  "authors": "Peter Straub",
                  "title": "Koko"
                },
                {
                  "authors": "John Ronald Reuel Tolkien",
                  "index": 39,
                  "title": "Tree and Leaf"
                },
                {
                  "index": 40,
                  "authors": "Agatha Christie",
                  "title": "Partners in Crime"
                },
                {
                  "index": 41,
                  "authors": "Agatha Christie",
                  "title": "Murder in Mesopotamia"
                },
                {
                  "index": 42,
                  "authors": "Jude Fisher",
                  "title": "The Lord of the Rings, the Return of the King"
                },
                {
                  "index": 43,
                  "authors": "Douglas Coupland",
                  "title": "All Families are Psychotic"
                },
                {
                  "index": 44,
                  "authors": "Agatha Christie",
                  "title": "Death in the Clouds"
                },
                {
                  "authors": "Agatha Christie",
                  "index": 45,
                  "title": "Appointment with Death"
                },
                {
                  "index": 46,
                  "authors": "Agatha Christie",
                  "title": "Hallowe'en Party"
                },
                {
                  "index": 47,
                  "authors": "Agatha Christie",
                  "title": "Hercule Poirot's Christmas"
                },
                {
                  "authors": "Agatha Christie",
                  "index": 48,
                  "title": "The Big Four"
                },
                {
                  "authors": "Agatha Christie",
                  "index": 49,
                  "title": "The Thirteen Problems"
                },
                {
                  "index": 50,
                  "authors": "Agatha Christie",
                  "title": "They Do it with Mirrors"
                },
                {
                  "index": 51,
                  "authors": "Agatha Christie",
                  "title": "A Murder is Announced"
                },
                {
                  "authors": "Agatha Christie",
                  "index": 52,
                  "title": "The Mirror Crack'd from Side to Side"
                },
                {
                  "index": 53,
                  "authors": "Agatha Christie",
                  "title": "Mrs McGinty's Dead"
                },
                {
                  "authors": "Agatha Christie",
                  "index": 54,
                  "title": "Taken at the Flood"
                },
                {
                  "index": 55,
                  "authors": "Agatha Christie",
                  "title": "The Hollow"
                },
                {
                  "index": 56,
                  "authors": "Agatha Christie",
                  "title": "Third Girl"
                },
                {
                  "authors": "Agatha Christie",
                  "index": 57,
                  "title": "The Secret of Chimneys"
                },
                {
                  "index": 58,
                  "authors": "J. R. R. Tolkien",
                  "title": "The Lord of the Rings"
                },
                {
                  "authors": "Louis Menand",
                  "index": 59,
                  "title": "The Metaphysical Club"
                }
              ]
            },
            "text/plain": "                          title                                       authors\n0                        Gilead                            Marilynne Robinson\n1                  Spider's Web               Charles Osborne;Agatha Christie\n2                  The One Tree                          Stephen R. Donaldson\n3                Rage of angels                                Sidney Sheldon\n4                The Four Loves                           Clive Staples Lewis\n...                         ...                                           ...\n6805                  I Am that  Sri Nisargadatta Maharaj;Sudhakar S. Dikshit\n6806       Secrets Of The Heart                                 Khalil Gibran\n6807             Fahrenheit 451                                  Ray Bradbury\n6808   The Berlin Phenomenology                 Georg Wilhelm Friedrich Hegel\n6809  'I'm Telling You Stories'                        Helena Grice;Tim Woods\n\n[6810 rows x 2 columns]"
          },
          "output_type": "execute_result",
          "execution_count": 3
        }
      ]
    },
    {
      "metadata": {
        "jupyter_d1": {
          "position": 3,
          "uuid": "1d1d0445-6ffa-4664-8e23-9ad785637d26",
          "execution_state": "idle",
          "path": null,
          "working_directory": null,
          "notebook_uuid": "1648cbed-5b80-4805-98bb-bec4d190d18d",
          "name": null
        }
      },
      "id": "cbd1f1a5",
      "source": "df.tail(6)\n",
      "cell_type": "code",
      "execution_count": 4,
      "outputs": [
        {
          "metadata": {},
          "data": {
            "text/plain": "             isbn13      isbn10   \n6804  9788179921623  817992162X  \\\n6805  9788185300535  8185300534   \n6806  9788185944609  8185944601   \n6807  9788445074879  8445074873   \n6808  9789027712059  9027712050   \n6809  9789042003408  9042003405   \n\n                                                  title   \n6804  The Monk Who Sold His Ferrari: A Fable About F...  \\\n6805                                          I Am that   \n6806                               Secrets Of The Heart   \n6807                                     Fahrenheit 451   \n6808                           The Berlin Phenomenology   \n6809                          'I'm Telling You Stories'   \n\n                                            subtitle   \n6804                                             NaN  \\\n6805             Talks with Sri Nisargadatta Maharaj   \n6806                                             NaN   \n6807                                             NaN   \n6808                                             NaN   \n6809  Jeanette Winterson and the Politics of Reading   \n\n                                           authors          categories   \n6804                                  Robin Sharma    Health & Fitness  \\\n6805  Sri Nisargadatta Maharaj;Sudhakar S. Dikshit          Philosophy   \n6806                                 Khalil Gibran           Mysticism   \n6807                                  Ray Bradbury        Book burning   \n6808                 Georg Wilhelm Friedrich Hegel             History   \n6809                        Helena Grice;Tim Woods  Literary Criticism   \n\n                                              thumbnail   \n6804  http://books.google.com/books/content?id=c_7mf...  \\\n6805  http://books.google.com/books/content?id=Fv_JP...   \n6806  http://books.google.com/books/content?id=XcrVp...   \n6807                                                NaN   \n6808  http://books.google.com/books/content?id=Vy7Sk...   \n6809  http://books.google.com/books/content?id=2lVyR...   \n\n                                            description  published_year   \n6804  Wisdom to Create a Life of Passion, Purpose, a...          2003.0  \\\n6805  This collection of the timeless teachings of o...          1999.0   \n6806                                                NaN          1993.0   \n6807                                                NaN          2004.0   \n6808  Since the three volume edition ofHegel's Philo...          1981.0   \n6809  This is a jubilant and rewarding collection of...          1998.0   \n\n      average_rating  num_pages  ratings_count  \n6804            3.82      198.0         1568.0  \n6805            4.51      531.0          104.0  \n6806            4.08       74.0          324.0  \n6807            3.98      186.0         5733.0  \n6808            0.00      210.0            0.0  \n6809            3.70      136.0           10.0  ",
            "application/vnd.dataresource+json": {
              "schema": {
                "pandas_version": "1.4.0",
                "primaryKey": [
                  "index"
                ],
                "fields": [
                  {
                    "name": "index",
                    "type": "integer"
                  },
                  {
                    "name": "isbn13",
                    "type": "integer"
                  },
                  {
                    "name": "isbn10",
                    "type": "string"
                  },
                  {
                    "name": "title",
                    "type": "string"
                  },
                  {
                    "name": "subtitle",
                    "type": "string"
                  },
                  {
                    "name": "authors",
                    "type": "string"
                  },
                  {
                    "name": "categories",
                    "type": "string"
                  },
                  {
                    "name": "thumbnail",
                    "type": "string"
                  },
                  {
                    "name": "description",
                    "type": "string"
                  },
                  {
                    "name": "published_year",
                    "type": "number"
                  },
                  {
                    "name": "average_rating",
                    "type": "number"
                  },
                  {
                    "name": "num_pages",
                    "type": "number"
                  },
                  {
                    "name": "ratings_count",
                    "type": "number"
                  }
                ]
              },
              "data": [
                {
                  "description": "Wisdom to Create a Life of Passion, Purpose, and Peace This inspiring tale provides a step-by-step approach to living with greater courage, balance, abundance, and joy. A wonderfully crafted fable, The Monk Who Sold His Ferrari tells the extraordinary story of Julian Mantle, a lawyer forced to confront the spiritual crisis of his out-of-balance life. On a life-changing odyssey to an ancient culture, he discovers powerful, wise, and practical lessons that teach us to: Develop joyful thoughts Follow our life's mission and calling Cultivate self-discipline and act courageously Value time as our most important commodity Nourish our relationships, and – live fully, one day at a time A FABLE ABOUT FULFILLING YOUR DREAMS AND REACHING YOUR DESTINY",
                  "categories": "Health & Fitness",
                  "published_year": 2003,
                  "index": 6804,
                  "subtitle": null,
                  "isbn13": 9788179921623,
                  "authors": "Robin Sharma",
                  "average_rating": 3.82,
                  "title": "The Monk Who Sold His Ferrari: A Fable About Fulfilling Your Dreams & Reaching Your Destiny",
                  "ratings_count": 1568,
                  "thumbnail": "http://books.google.com/books/content?id=c_7mf7bAe6YC&printsec=frontcover&img=1&zoom=1&source=gbs_api",
                  "isbn10": "817992162X",
                  "num_pages": 198
                },
                {
                  "description": "This collection of the timeless teachings of one of the greatest sages of India, is a testament to the uniqueness of the seer's life and work. The book (now in its ninth printing) continues to draw new audiences and to enlighten anxious seekers for self-realisation. Sri Nisargadatta Maharaj was a teacher who did not propound any ideology or religion but gently unwrapped the mystery of the self. His message is simple, direct and yet sublime. The book preserves his dialogues with the followers who came from around the world seeking guidance in destroying false identities. The sage's sole concern was with human suffering and the ending of suffering. It was his mission to guide the individual to an understanding of his true nature and the timelessness of being. He taught that mind must recognise and penetrate its own state of being, not 'being this or that, here or there, then or now', but just timeless being. This is a legacy from a unique teacher who helps the reader to a clearer understanding of himself.",
                  "categories": "Philosophy",
                  "published_year": 1999,
                  "index": 6805,
                  "subtitle": "Talks with Sri Nisargadatta Maharaj",
                  "isbn13": 9788185300535,
                  "authors": "Sri Nisargadatta Maharaj;Sudhakar S. Dikshit",
                  "average_rating": 4.51,
                  "title": "I Am that",
                  "ratings_count": 104,
                  "thumbnail": "http://books.google.com/books/content?id=Fv_JPQAACAAJ&printsec=frontcover&img=1&zoom=1&source=gbs_api",
                  "isbn10": "8185300534",
                  "num_pages": 531
                },
                {
                  "description": null,
                  "categories": "Mysticism",
                  "published_year": 1993,
                  "index": 6806,
                  "subtitle": null,
                  "isbn13": 9788185944609,
                  "authors": "Khalil Gibran",
                  "average_rating": 4.08,
                  "title": "Secrets Of The Heart",
                  "ratings_count": 324,
                  "thumbnail": "http://books.google.com/books/content?id=XcrVpL1byOkC&printsec=frontcover&img=1&zoom=1&source=gbs_api",
                  "isbn10": "8185944601",
                  "num_pages": 74
                },
                {
                  "description": null,
                  "categories": "Book burning",
                  "published_year": 2004,
                  "index": 6807,
                  "subtitle": null,
                  "isbn13": 9788445074879,
                  "authors": "Ray Bradbury",
                  "average_rating": 3.98,
                  "title": "Fahrenheit 451",
                  "ratings_count": 5733,
                  "thumbnail": null,
                  "isbn10": "8445074873",
                  "num_pages": 186
                },
                {
                  "description": "Since the three volume edition ofHegel's Philosophy of Subjective Spirit (1978, 19792) has been so well received, I have been encouraged to select that part of it most suitable for teaching purposes, and to publish it here as a separate work. As a teaching text, the Berlin Phenomenology has several important advan­ tages. Unlike so many ofHegel's writings, must notably theJena Phenomeno­ logy of 1807, it is concise and to the point, and concemed with issues already familiar to most students of philosophy. Since it consists for the most part of a searching and radical analysis of Kant's epistemology, Fichte's ethics and Schelling's system-building, it provides tirst-rate insight into Hegel's assessment of his immedi~te predecessors. When considered in context, as part of the Encyclopaedia if the Philosophical Sciences, it enables us to distinguish dearly between the systematic, the logical and the psychological aspects of Hegelianism, and is therefore also relevant to some of the central issues in modem phenomenology. It is to be hoped that the introduction and notes prepared for the present edition will prove helpful to both teachers and students. Every effort has been ma de to produce a thoroughly reliable ba sic text and an accurate translation. The text published in 1978 was prepared at the Hegel Archive in Bochum from photocopies, and I am most grateful to the Central Interfaculty of the Erasmus University, Rotterdam, for having made it possible for me to check the printed version against the original manuscripts.",
                  "categories": "History",
                  "published_year": 1981,
                  "index": 6808,
                  "subtitle": null,
                  "isbn13": 9789027712059,
                  "authors": "Georg Wilhelm Friedrich Hegel",
                  "average_rating": 0,
                  "title": "The Berlin Phenomenology",
                  "ratings_count": 0,
                  "thumbnail": "http://books.google.com/books/content?id=Vy7SkjvmfLMC&printsec=frontcover&img=1&zoom=1&edge=curl&source=gbs_api",
                  "isbn10": "9027712050",
                  "num_pages": 210
                },
                {
                  "description": "This is a jubilant and rewarding collection of Winterson scholarship--a superb group of essays from a host of fine authors.",
                  "categories": "Literary Criticism",
                  "published_year": 1998,
                  "index": 6809,
                  "subtitle": "Jeanette Winterson and the Politics of Reading",
                  "isbn13": 9789042003408,
                  "authors": "Helena Grice;Tim Woods",
                  "average_rating": 3.7,
                  "title": "'I'm Telling You Stories'",
                  "ratings_count": 10,
                  "thumbnail": "http://books.google.com/books/content?id=2lVyRH0TWugC&printsec=frontcover&img=1&zoom=1&edge=curl&source=gbs_api",
                  "isbn10": "9042003405",
                  "num_pages": 136
                }
              ]
            },
            "text/html": "<div>\n<style scoped>\n    .dataframe tbody tr th:only-of-type {\n        vertical-align: middle;\n    }\n\n    .dataframe tbody tr th {\n        vertical-align: top;\n    }\n\n    .dataframe thead th {\n        text-align: right;\n    }\n</style>\n<table border=\"1\" class=\"dataframe\">\n  <thead>\n    <tr style=\"text-align: right;\">\n      <th></th>\n      <th>isbn13</th>\n      <th>isbn10</th>\n      <th>title</th>\n      <th>subtitle</th>\n      <th>authors</th>\n      <th>categories</th>\n      <th>thumbnail</th>\n      <th>description</th>\n      <th>published_year</th>\n      <th>average_rating</th>\n      <th>num_pages</th>\n      <th>ratings_count</th>\n    </tr>\n  </thead>\n  <tbody>\n    <tr>\n      <th>6804</th>\n      <td>9788179921623</td>\n      <td>817992162X</td>\n      <td>The Monk Who Sold His Ferrari: A Fable About F...</td>\n      <td>NaN</td>\n      <td>Robin Sharma</td>\n      <td>Health &amp; Fitness</td>\n      <td>http://books.google.com/books/content?id=c_7mf...</td>\n      <td>Wisdom to Create a Life of Passion, Purpose, a...</td>\n      <td>2003.0</td>\n      <td>3.82</td>\n      <td>198.0</td>\n      <td>1568.0</td>\n    </tr>\n    <tr>\n      <th>6805</th>\n      <td>9788185300535</td>\n      <td>8185300534</td>\n      <td>I Am that</td>\n      <td>Talks with Sri Nisargadatta Maharaj</td>\n      <td>Sri Nisargadatta Maharaj;Sudhakar S. Dikshit</td>\n      <td>Philosophy</td>\n      <td>http://books.google.com/books/content?id=Fv_JP...</td>\n      <td>This collection of the timeless teachings of o...</td>\n      <td>1999.0</td>\n      <td>4.51</td>\n      <td>531.0</td>\n      <td>104.0</td>\n    </tr>\n    <tr>\n      <th>6806</th>\n      <td>9788185944609</td>\n      <td>8185944601</td>\n      <td>Secrets Of The Heart</td>\n      <td>NaN</td>\n      <td>Khalil Gibran</td>\n      <td>Mysticism</td>\n      <td>http://books.google.com/books/content?id=XcrVp...</td>\n      <td>NaN</td>\n      <td>1993.0</td>\n      <td>4.08</td>\n      <td>74.0</td>\n      <td>324.0</td>\n    </tr>\n    <tr>\n      <th>6807</th>\n      <td>9788445074879</td>\n      <td>8445074873</td>\n      <td>Fahrenheit 451</td>\n      <td>NaN</td>\n      <td>Ray Bradbury</td>\n      <td>Book burning</td>\n      <td>NaN</td>\n      <td>NaN</td>\n      <td>2004.0</td>\n      <td>3.98</td>\n      <td>186.0</td>\n      <td>5733.0</td>\n    </tr>\n    <tr>\n      <th>6808</th>\n      <td>9789027712059</td>\n      <td>9027712050</td>\n      <td>The Berlin Phenomenology</td>\n      <td>NaN</td>\n      <td>Georg Wilhelm Friedrich Hegel</td>\n      <td>History</td>\n      <td>http://books.google.com/books/content?id=Vy7Sk...</td>\n      <td>Since the three volume edition ofHegel's Philo...</td>\n      <td>1981.0</td>\n      <td>0.00</td>\n      <td>210.0</td>\n      <td>0.0</td>\n    </tr>\n    <tr>\n      <th>6809</th>\n      <td>9789042003408</td>\n      <td>9042003405</td>\n      <td>'I'm Telling You Stories'</td>\n      <td>Jeanette Winterson and the Politics of Reading</td>\n      <td>Helena Grice;Tim Woods</td>\n      <td>Literary Criticism</td>\n      <td>http://books.google.com/books/content?id=2lVyR...</td>\n      <td>This is a jubilant and rewarding collection of...</td>\n      <td>1998.0</td>\n      <td>3.70</td>\n      <td>136.0</td>\n      <td>10.0</td>\n    </tr>\n  </tbody>\n</table>\n</div>"
          },
          "output_type": "execute_result",
          "execution_count": 4
        }
      ]
    },
    {
      "metadata": {
        "jupyter_d1": {
          "position": 4,
          "uuid": "0d1ea5e7-5141-4dae-acaa-36cffe98e06d",
          "execution_state": "idle",
          "path": null,
          "working_directory": null,
          "notebook_uuid": "1648cbed-5b80-4805-98bb-bec4d190d18d",
          "name": null
        }
      },
      "id": "e0fecaf4",
      "source": "df[(df.average_rating < 2) & (df.num_pages > 200)]\n",
      "cell_type": "code",
      "execution_count": 5,
      "outputs": [
        {
          "metadata": {},
          "data": {
            "text/plain": "             isbn13      isbn10                                   title   \n4088  9780684806372  0684806371                        American writers  \\\n5213  9780812927634  081292763X      Random House Crossword Megaomnibus   \n6071  9781564741578  1564741575                      Laguna, I Love You   \n6739  9781932206104  1932206108                         How to Meditate   \n6788  9783540292128  3540292128  Enzyme-Catalyzed Synthesis of Polymers   \n6808  9789027712059  9027712050                The Berlin Phenomenology   \n\n                                               subtitle   \n4088                                                NaN  \\\n5213                                                NaN   \n6071                             The Best of \"Our Town\"   \n6739  An Anthology of Talks on Meditation and \"Medit...   \n6788                                                NaN   \n6808                                                NaN   \n\n                                         authors                 categories   \n4088                                  Gale Group  Biography & Autobiography  \\\n5213                  United Feature Syndication                      Games   \n6071                                   John Weld                    History   \n6739                              Frederick Lenz                 Meditation   \n6788  Shiro Kobayashi;Helmut Ritter;David Kaplan                    Science   \n6808               Georg Wilhelm Friedrich Hegel                    History   \n\n                                              thumbnail   \n4088  http://books.google.com/books/content?id=-ACmy...  \\\n5213  http://books.google.com/books/content?id=CD8MA...   \n6071  http://books.google.com/books/content?id=U8mdA...   \n6739  http://books.google.com/books/content?id=HhTVA...   \n6788  http://books.google.com/books/content?id=WXOym...   \n6808  http://books.google.com/books/content?id=Vy7Sk...   \n\n                                            description  published_year   \n4088  Contains biographical and critical essays on t...          2001.0  \\\n5213  his new series contains crosswords slightly le...          1997.0   \n6071                                                NaN          1996.0   \n6739  How to Meditate is a transcript all of Rama's,...          2004.0   \n6788                                                NaN          2006.0   \n6808  Since the three volume edition ofHegel's Philo...          1981.0   \n\n      average_rating  num_pages  ratings_count  \n4088             0.0      400.0            0.0  \n5213             0.0      336.0            0.0  \n6071             0.0      285.0            0.0  \n6739             0.0      228.0            0.0  \n6788             0.0      254.0            0.0  \n6808             0.0      210.0            0.0  ",
            "application/vnd.dataresource+json": {
              "schema": {
                "pandas_version": "1.4.0",
                "primaryKey": [
                  "index"
                ],
                "fields": [
                  {
                    "name": "index",
                    "type": "integer"
                  },
                  {
                    "name": "isbn13",
                    "type": "integer"
                  },
                  {
                    "name": "isbn10",
                    "type": "string"
                  },
                  {
                    "name": "title",
                    "type": "string"
                  },
                  {
                    "name": "subtitle",
                    "type": "string"
                  },
                  {
                    "name": "authors",
                    "type": "string"
                  },
                  {
                    "name": "categories",
                    "type": "string"
                  },
                  {
                    "name": "thumbnail",
                    "type": "string"
                  },
                  {
                    "name": "description",
                    "type": "string"
                  },
                  {
                    "name": "published_year",
                    "type": "number"
                  },
                  {
                    "name": "average_rating",
                    "type": "number"
                  },
                  {
                    "name": "num_pages",
                    "type": "number"
                  },
                  {
                    "name": "ratings_count",
                    "type": "number"
                  }
                ]
              },
              "data": [
                {
                  "description": "Contains biographical and critical essays on the work of important American writers. Presents scholar-signed essays prepared by experts in the field.",
                  "categories": "Biography & Autobiography",
                  "published_year": 2001,
                  "subtitle": null,
                  "index": 4088,
                  "isbn13": 9780684806372,
                  "authors": "Gale Group",
                  "average_rating": 0,
                  "title": "American writers",
                  "ratings_count": 0,
                  "thumbnail": "http://books.google.com/books/content?id=-ACmyoVIwxkC&printsec=frontcover&img=1&zoom=1&source=gbs_api",
                  "isbn10": "0684806371",
                  "num_pages": 400
                },
                {
                  "description": "his new series contains crosswords slightly less taxing than those in The New York Times. Originally published by United Feature Syndicate, these crosswords have appeared in many of America's highest-circulation newspapers.",
                  "categories": "Games",
                  "published_year": 1997,
                  "subtitle": null,
                  "index": 5213,
                  "isbn13": 9780812927634,
                  "authors": "United Feature Syndication",
                  "average_rating": 0,
                  "title": "Random House Crossword Megaomnibus",
                  "ratings_count": 0,
                  "thumbnail": "http://books.google.com/books/content?id=CD8MAAAACAAJ&printsec=frontcover&img=1&zoom=1&source=gbs_api",
                  "isbn10": "081292763X",
                  "num_pages": 336
                },
                {
                  "description": null,
                  "categories": "History",
                  "published_year": 1996,
                  "subtitle": "The Best of \"Our Town\"",
                  "index": 6071,
                  "isbn13": 9781564741578,
                  "authors": "John Weld",
                  "average_rating": 0,
                  "title": "Laguna, I Love You",
                  "ratings_count": 0,
                  "thumbnail": "http://books.google.com/books/content?id=U8mdAAAACAAJ&printsec=frontcover&img=1&zoom=1&source=gbs_api",
                  "isbn10": "1564741575",
                  "num_pages": 285
                },
                {
                  "description": "How to Meditate is a transcript all of Rama's, Dr. Frederick Lenz recorded talks on meditation. It also includes his book of lyrical poetry : \"The Bridge is Flowing but the River is Not.\" How to Meditate provides a full range of meditation techniques, knowledge and wisdom to deepen meditation practice and understand meditation's essential role in daily life. This volume is excellent for both newcomers and longtime meditators. Open the book at any time to any page, and you will receive your daily quota of inspiration.",
                  "categories": "Meditation",
                  "published_year": 2004,
                  "subtitle": "An Anthology of Talks on Meditation and \"Meditation: the Bridge is Flowing But the River is Not\"",
                  "index": 6739,
                  "isbn13": 9781932206104,
                  "authors": "Frederick Lenz",
                  "average_rating": 0,
                  "title": "How to Meditate",
                  "ratings_count": 0,
                  "thumbnail": "http://books.google.com/books/content?id=HhTVAAAACAAJ&printsec=frontcover&img=1&zoom=1&source=gbs_api",
                  "isbn10": "1932206108",
                  "num_pages": 228
                },
                {
                  "description": null,
                  "categories": "Science",
                  "published_year": 2006,
                  "subtitle": null,
                  "index": 6788,
                  "isbn13": 9783540292128,
                  "authors": "Shiro Kobayashi;Helmut Ritter;David Kaplan",
                  "average_rating": 0,
                  "title": "Enzyme-Catalyzed Synthesis of Polymers",
                  "ratings_count": 0,
                  "thumbnail": "http://books.google.com/books/content?id=WXOym0xs3vYC&printsec=frontcover&img=1&zoom=1&edge=curl&source=gbs_api",
                  "isbn10": "3540292128",
                  "num_pages": 254
                },
                {
                  "description": "Since the three volume edition ofHegel's Philosophy of Subjective Spirit (1978, 19792) has been so well received, I have been encouraged to select that part of it most suitable for teaching purposes, and to publish it here as a separate work. As a teaching text, the Berlin Phenomenology has several important advan­ tages. Unlike so many ofHegel's writings, must notably theJena Phenomeno­ logy of 1807, it is concise and to the point, and concemed with issues already familiar to most students of philosophy. Since it consists for the most part of a searching and radical analysis of Kant's epistemology, Fichte's ethics and Schelling's system-building, it provides tirst-rate insight into Hegel's assessment of his immedi~te predecessors. When considered in context, as part of the Encyclopaedia if the Philosophical Sciences, it enables us to distinguish dearly between the systematic, the logical and the psychological aspects of Hegelianism, and is therefore also relevant to some of the central issues in modem phenomenology. It is to be hoped that the introduction and notes prepared for the present edition will prove helpful to both teachers and students. Every effort has been ma de to produce a thoroughly reliable ba sic text and an accurate translation. The text published in 1978 was prepared at the Hegel Archive in Bochum from photocopies, and I am most grateful to the Central Interfaculty of the Erasmus University, Rotterdam, for having made it possible for me to check the printed version against the original manuscripts.",
                  "categories": "History",
                  "published_year": 1981,
                  "subtitle": null,
                  "index": 6808,
                  "isbn13": 9789027712059,
                  "authors": "Georg Wilhelm Friedrich Hegel",
                  "average_rating": 0,
                  "title": "The Berlin Phenomenology",
                  "ratings_count": 0,
                  "thumbnail": "http://books.google.com/books/content?id=Vy7SkjvmfLMC&printsec=frontcover&img=1&zoom=1&edge=curl&source=gbs_api",
                  "isbn10": "9027712050",
                  "num_pages": 210
                }
              ]
            },
            "text/html": "<div>\n<style scoped>\n    .dataframe tbody tr th:only-of-type {\n        vertical-align: middle;\n    }\n\n    .dataframe tbody tr th {\n        vertical-align: top;\n    }\n\n    .dataframe thead th {\n        text-align: right;\n    }\n</style>\n<table border=\"1\" class=\"dataframe\">\n  <thead>\n    <tr style=\"text-align: right;\">\n      <th></th>\n      <th>isbn13</th>\n      <th>isbn10</th>\n      <th>title</th>\n      <th>subtitle</th>\n      <th>authors</th>\n      <th>categories</th>\n      <th>thumbnail</th>\n      <th>description</th>\n      <th>published_year</th>\n      <th>average_rating</th>\n      <th>num_pages</th>\n      <th>ratings_count</th>\n    </tr>\n  </thead>\n  <tbody>\n    <tr>\n      <th>4088</th>\n      <td>9780684806372</td>\n      <td>0684806371</td>\n      <td>American writers</td>\n      <td>NaN</td>\n      <td>Gale Group</td>\n      <td>Biography &amp; Autobiography</td>\n      <td>http://books.google.com/books/content?id=-ACmy...</td>\n      <td>Contains biographical and critical essays on t...</td>\n      <td>2001.0</td>\n      <td>0.0</td>\n      <td>400.0</td>\n      <td>0.0</td>\n    </tr>\n    <tr>\n      <th>5213</th>\n      <td>9780812927634</td>\n      <td>081292763X</td>\n      <td>Random House Crossword Megaomnibus</td>\n      <td>NaN</td>\n      <td>United Feature Syndication</td>\n      <td>Games</td>\n      <td>http://books.google.com/books/content?id=CD8MA...</td>\n      <td>his new series contains crosswords slightly le...</td>\n      <td>1997.0</td>\n      <td>0.0</td>\n      <td>336.0</td>\n      <td>0.0</td>\n    </tr>\n    <tr>\n      <th>6071</th>\n      <td>9781564741578</td>\n      <td>1564741575</td>\n      <td>Laguna, I Love You</td>\n      <td>The Best of \"Our Town\"</td>\n      <td>John Weld</td>\n      <td>History</td>\n      <td>http://books.google.com/books/content?id=U8mdA...</td>\n      <td>NaN</td>\n      <td>1996.0</td>\n      <td>0.0</td>\n      <td>285.0</td>\n      <td>0.0</td>\n    </tr>\n    <tr>\n      <th>6739</th>\n      <td>9781932206104</td>\n      <td>1932206108</td>\n      <td>How to Meditate</td>\n      <td>An Anthology of Talks on Meditation and \"Medit...</td>\n      <td>Frederick Lenz</td>\n      <td>Meditation</td>\n      <td>http://books.google.com/books/content?id=HhTVA...</td>\n      <td>How to Meditate is a transcript all of Rama's,...</td>\n      <td>2004.0</td>\n      <td>0.0</td>\n      <td>228.0</td>\n      <td>0.0</td>\n    </tr>\n    <tr>\n      <th>6788</th>\n      <td>9783540292128</td>\n      <td>3540292128</td>\n      <td>Enzyme-Catalyzed Synthesis of Polymers</td>\n      <td>NaN</td>\n      <td>Shiro Kobayashi;Helmut Ritter;David Kaplan</td>\n      <td>Science</td>\n      <td>http://books.google.com/books/content?id=WXOym...</td>\n      <td>NaN</td>\n      <td>2006.0</td>\n      <td>0.0</td>\n      <td>254.0</td>\n      <td>0.0</td>\n    </tr>\n    <tr>\n      <th>6808</th>\n      <td>9789027712059</td>\n      <td>9027712050</td>\n      <td>The Berlin Phenomenology</td>\n      <td>NaN</td>\n      <td>Georg Wilhelm Friedrich Hegel</td>\n      <td>History</td>\n      <td>http://books.google.com/books/content?id=Vy7Sk...</td>\n      <td>Since the three volume edition ofHegel's Philo...</td>\n      <td>1981.0</td>\n      <td>0.0</td>\n      <td>210.0</td>\n      <td>0.0</td>\n    </tr>\n  </tbody>\n</table>\n</div>"
          },
          "output_type": "execute_result",
          "execution_count": 5
        }
      ]
    },
    {
      "metadata": {
        "jupyter_d1": {
          "position": 5,
          "uuid": "968cc07f-4dda-42ba-8e9e-2d551d44a915",
          "execution_state": "idle",
          "path": null,
          "working_directory": null,
          "notebook_uuid": "1648cbed-5b80-4805-98bb-bec4d190d18d",
          "name": null
        }
      },
      "id": "f7ebcb02",
      "source": "df[df.title.str.startswith('G')]\n",
      "cell_type": "code",
      "execution_count": 6,
      "outputs": [
        {
          "metadata": {},
          "data": {
            "text/html": "<div>\n<style scoped>\n    .dataframe tbody tr th:only-of-type {\n        vertical-align: middle;\n    }\n\n    .dataframe tbody tr th {\n        vertical-align: top;\n    }\n\n    .dataframe thead th {\n        text-align: right;\n    }\n</style>\n<table border=\"1\" class=\"dataframe\">\n  <thead>\n    <tr style=\"text-align: right;\">\n      <th></th>\n      <th>isbn13</th>\n      <th>isbn10</th>\n      <th>title</th>\n      <th>subtitle</th>\n      <th>authors</th>\n      <th>categories</th>\n      <th>thumbnail</th>\n      <th>description</th>\n      <th>published_year</th>\n      <th>average_rating</th>\n      <th>num_pages</th>\n      <th>ratings_count</th>\n    </tr>\n  </thead>\n  <tbody>\n    <tr>\n      <th>0</th>\n      <td>9780002005883</td>\n      <td>0002005883</td>\n      <td>Gilead</td>\n      <td>NaN</td>\n      <td>Marilynne Robinson</td>\n      <td>Fiction</td>\n      <td>http://books.google.com/books/content?id=KQZCP...</td>\n      <td>A NOVEL THAT READERS and critics have been eag...</td>\n      <td>2004.0</td>\n      <td>3.85</td>\n      <td>247.0</td>\n      <td>361.0</td>\n    </tr>\n    <tr>\n      <th>20</th>\n      <td>9780006496892</td>\n      <td>000649689X</td>\n      <td>Glittering Images</td>\n      <td>NaN</td>\n      <td>Susan Howatch</td>\n      <td>English fiction</td>\n      <td>http://books.google.com/books/content?id=rDHbn...</td>\n      <td>It is 1937, and Charles Ashworth, a Canon to t...</td>\n      <td>1996.0</td>\n      <td>4.07</td>\n      <td>512.0</td>\n      <td>2045.0</td>\n    </tr>\n    <tr>\n      <th>21</th>\n      <td>9780006496922</td>\n      <td>000649692X</td>\n      <td>Glamorous Powers</td>\n      <td>NaN</td>\n      <td>Susan Howatch</td>\n      <td>Clergy</td>\n      <td>http://books.google.com/books/content?id=_bhPY...</td>\n      <td>Reissue of the author's most famous and well-l...</td>\n      <td>1996.0</td>\n      <td>4.20</td>\n      <td>512.0</td>\n      <td>1441.0</td>\n    </tr>\n    <tr>\n      <th>28</th>\n      <td>9780006513087</td>\n      <td>0006513085</td>\n      <td>Gravity</td>\n      <td>NaN</td>\n      <td>Tess Gerritsen</td>\n      <td>Science fiction</td>\n      <td>http://books.google.com/books/content?id=KI66c...</td>\n      <td>Emma Watson a research physician has been trai...</td>\n      <td>2004.0</td>\n      <td>4.04</td>\n      <td>342.0</td>\n      <td>8024.0</td>\n    </tr>\n    <tr>\n      <th>30</th>\n      <td>9780006514855</td>\n      <td>0006514855</td>\n      <td>Girls' Night in</td>\n      <td>NaN</td>\n      <td>Jessica Adams;Chris Manby;Fiona Walker</td>\n      <td>American fiction</td>\n      <td>http://books.google.com/books/content?id=xLwHH...</td>\n      <td>'Girls' Night In' features stories about growi...</td>\n      <td>2000.0</td>\n      <td>3.26</td>\n      <td>586.0</td>\n      <td>140.0</td>\n    </tr>\n    <tr>\n      <th>...</th>\n      <td>...</td>\n      <td>...</td>\n      <td>...</td>\n      <td>...</td>\n      <td>...</td>\n      <td>...</td>\n      <td>...</td>\n      <td>...</td>\n      <td>...</td>\n      <td>...</td>\n      <td>...</td>\n      <td>...</td>\n    </tr>\n    <tr>\n      <th>6556</th>\n      <td>9781845760182</td>\n      <td>1845760182</td>\n      <td>Ghost in the Shell</td>\n      <td>NaN</td>\n      <td>Masamune Shirow</td>\n      <td>NaN</td>\n      <td>http://books.google.com/books/content?id=9tMeP...</td>\n      <td>Deep into the 21st century, the line between m...</td>\n      <td>2006.0</td>\n      <td>4.18</td>\n      <td>368.0</td>\n      <td>59.0</td>\n    </tr>\n    <tr>\n      <th>6578</th>\n      <td>9781857027129</td>\n      <td>1857027124</td>\n      <td>Galileo's Daughter</td>\n      <td>A Drama of Science, Faith and Love</td>\n      <td>Dava Sobel</td>\n      <td>Astronomers</td>\n      <td>http://books.google.com/books/content?id=SEpCr...</td>\n      <td>While Galileo Galilei was under house arrest, ...</td>\n      <td>2000.0</td>\n      <td>3.76</td>\n      <td>448.0</td>\n      <td>117.0</td>\n    </tr>\n    <tr>\n      <th>6678</th>\n      <td>9781892284891</td>\n      <td>1892284898</td>\n      <td>Guilty But Insane</td>\n      <td>NaN</td>\n      <td>Poppy Z. Brite</td>\n      <td>Biography &amp; Autobiography</td>\n      <td>http://books.google.com/books/content?id=gPGvP...</td>\n      <td>NaN</td>\n      <td>2001.0</td>\n      <td>3.97</td>\n      <td>185.0</td>\n      <td>118.0</td>\n    </tr>\n    <tr>\n      <th>6688</th>\n      <td>9781895176407</td>\n      <td>1895176409</td>\n      <td>Galapagos, a Natural History</td>\n      <td>NaN</td>\n      <td>Michael Hume Jackson</td>\n      <td>History</td>\n      <td>http://books.google.com/books/content?id=NXS8c...</td>\n      <td>This book details the natural history of the p...</td>\n      <td>1993.0</td>\n      <td>3.87</td>\n      <td>336.0</td>\n      <td>93.0</td>\n    </tr>\n    <tr>\n      <th>6798</th>\n      <td>9787506435673</td>\n      <td>7506435675</td>\n      <td>Good Fight</td>\n      <td>NaN</td>\n      <td>Judd Winick;Matthew Clark</td>\n      <td>Juvenile Fiction</td>\n      <td>http://books.google.com/books/content?id=xGPZA...</td>\n      <td>Presents the adventures of a new group of hero...</td>\n      <td>2007.0</td>\n      <td>NaN</td>\n      <td>NaN</td>\n      <td>NaN</td>\n    </tr>\n  </tbody>\n</table>\n<p>151 rows × 12 columns</p>\n</div>",
            "application/vnd.dataresource+json": {
              "schema": {
                "pandas_version": "1.4.0",
                "primaryKey": [
                  "index"
                ],
                "fields": [
                  {
                    "name": "index",
                    "type": "integer"
                  },
                  {
                    "name": "isbn13",
                    "type": "integer"
                  },
                  {
                    "name": "isbn10",
                    "type": "string"
                  },
                  {
                    "name": "title",
                    "type": "string"
                  },
                  {
                    "name": "subtitle",
                    "type": "string"
                  },
                  {
                    "name": "authors",
                    "type": "string"
                  },
                  {
                    "name": "categories",
                    "type": "string"
                  },
                  {
                    "name": "thumbnail",
                    "type": "string"
                  },
                  {
                    "name": "description",
                    "type": "string"
                  },
                  {
                    "name": "published_year",
                    "type": "number"
                  },
                  {
                    "name": "average_rating",
                    "type": "number"
                  },
                  {
                    "name": "num_pages",
                    "type": "number"
                  },
                  {
                    "name": "ratings_count",
                    "type": "number"
                  }
                ]
              },
              "data": [
                {
                  "description": "A NOVEL THAT READERS and critics have been eagerly anticipating for over a decade, Gilead is an astonishingly imagined story of remarkable lives. John Ames is a preacher, the son of a preacher and the grandson (both maternal and paternal) of preachers. It’s 1956 in Gilead, Iowa, towards the end of the Reverend Ames’s life, and he is absorbed in recording his family’s story, a legacy for the young son he will never see grow up. Haunted by his grandfather’s presence, John tells of the rift between his grandfather and his father: the elder, an angry visionary who fought for the abolitionist cause, and his son, an ardent pacifist. He is troubled, too, by his prodigal namesake, Jack (John Ames) Boughton, his best friend’s lost son who returns to Gilead searching for forgiveness and redemption. Told in John Ames’s joyous, rambling voice that finds beauty, humour and truth in the smallest of life’s details, Gilead is a song of celebration and acceptance of the best and the worst the world has to offer. At its heart is a tale of the sacred bonds between fathers and sons, pitch-perfect in style and story, set to dazzle critics and readers alike.",
                  "categories": "Fiction",
                  "published_year": 2004,
                  "subtitle": null,
                  "index": 0,
                  "isbn13": 9780002005883,
                  "authors": "Marilynne Robinson",
                  "average_rating": 3.85,
                  "title": "Gilead",
                  "ratings_count": 361,
                  "thumbnail": "http://books.google.com/books/content?id=KQZCPgAACAAJ&printsec=frontcover&img=1&zoom=1&source=gbs_api",
                  "isbn10": "0002005883",
                  "num_pages": 247
                },
                {
                  "description": "It is 1937, and Charles Ashworth, a Canon to the Archbishop of Canterbury, is sent to untangle a web of self-delusion and corruption at the episcopal palace of the charismatic Bishop of Starbridge.",
                  "categories": "English fiction",
                  "published_year": 1996,
                  "subtitle": null,
                  "index": 20,
                  "isbn13": 9780006496892,
                  "authors": "Susan Howatch",
                  "average_rating": 4.07,
                  "title": "Glittering Images",
                  "ratings_count": 2045,
                  "thumbnail": "http://books.google.com/books/content?id=rDHbn0ORKhQC&printsec=frontcover&img=1&zoom=1&source=gbs_api",
                  "isbn10": "000649689X",
                  "num_pages": 512
                },
                {
                  "description": "Reissue of the author's most famous and well-loved work, the Starbridge series, six self-contained yet interconnected novels that explore the history of the Church of England through the 20th century.",
                  "categories": "Clergy",
                  "published_year": 1996,
                  "subtitle": null,
                  "index": 21,
                  "isbn13": 9780006496922,
                  "authors": "Susan Howatch",
                  "average_rating": 4.2,
                  "title": "Glamorous Powers",
                  "ratings_count": 1441,
                  "thumbnail": "http://books.google.com/books/content?id=_bhPYWs6RrYC&printsec=frontcover&img=1&zoom=1&source=gbs_api",
                  "isbn10": "000649692X",
                  "num_pages": 512
                },
                {
                  "description": "Emma Watson a research physician has been training for the mission of a lifetime: to study living organisms in the microgravity of space. But the true and lethal nature of the experiment has not been revealed to NASA and once aboard the space station things start to go wrong. A culture of single-celled Archaeons, gathered from the deep sea, begin to rapidly multiply and infect the crew - with deadly and agonising results. As her estranged husband and ground crew at NASA work against the clock to launch a rescue Emma stuggles to contain the lethal microbe. But with the contagion threatening Earth's population, there are those who would leave the astronauts stranded in orbit, quarantined aboard the station.",
                  "categories": "Science fiction",
                  "published_year": 2004,
                  "subtitle": null,
                  "index": 28,
                  "isbn13": 9780006513087,
                  "authors": "Tess Gerritsen",
                  "average_rating": 4.04,
                  "title": "Gravity",
                  "ratings_count": 8024,
                  "thumbnail": "http://books.google.com/books/content?id=KI66cH39n6sC&printsec=frontcover&img=1&zoom=1&source=gbs_api",
                  "isbn10": "0006513085",
                  "num_pages": 342
                },
                {
                  "description": "'Girls' Night In' features stories about growing up, growing out of, moving out, moving on, falling apart and getting it all together. So turn off your cell phone and curl up on the couch: this is one 'Girls' Night In' you won't want to miss.",
                  "categories": "American fiction",
                  "published_year": 2000,
                  "subtitle": null,
                  "index": 30,
                  "isbn13": 9780006514855,
                  "authors": "Jessica Adams;Chris Manby;Fiona Walker",
                  "average_rating": 3.26,
                  "title": "Girls' Night in",
                  "ratings_count": 140,
                  "thumbnail": "http://books.google.com/books/content?id=xLwHHQAACAAJ&printsec=frontcover&img=1&zoom=1&source=gbs_api",
                  "isbn10": "0006514855",
                  "num_pages": 586
                },
                {
                  "description": "Arch-swindler Moist Van Lipwig never believed his confidence crimes were hanging offenses -- until he found himself with a noose tightly around his neck, dropping through a trapdoor, and falling into ... a government job? By all rights, Moist should have met his maker. Instead, it's Lord Vetinari, supreme ruler of Ankh-Morpork, who promptly offers him a job as Postmaster. Since his only other option is a nonliving one, Moist accepts the position -- and the hulking golem watchdog who comes along with it, just in case Moist was considering abandoning his responsibilities prematurely. Getting the moribund Postal Service up and running again, however, may be a near-impossible task, what with literally mountains of decades-old undelivered mail clogging every nook and cranny of the broken-down post office building; and with only a few creaky old postmen and one rather unstable, pin-obsessed youth available to deliver it. Worse still, Moist could swear the mail is talking to him. Worst of all, it means taking on the gargantuan, money-hungry Grand Trunk clacks communication monopoly and its bloodthirsty piratical head, Mr. Reacher Gilt. But it says on the building neither rain nor snow nor glo m of ni t ... Inspiring words (admittedly, some of the bronze letters have been stolen), and for once in his wretched life Moist is going to fight. And if the bold and impossible are what's called for, he'll do it -- in order to move the mail, continue breathing, get the girl, and specially deliver that invaluable commodity that every human being (not to mention troll, dwarf, and, yes, even golem) requires: hope.",
                  "categories": "Fiction",
                  "published_year": 2004,
                  "subtitle": "A Novel of Discworld",
                  "index": 120,
                  "isbn13": 9780060013134,
                  "authors": "Terry Pratchett",
                  "average_rating": 4.38,
                  "title": "Going Postal",
                  "ratings_count": 924,
                  "thumbnail": "http://books.google.com/books/content?id=5xRh5kkS84UC&printsec=frontcover&img=1&zoom=1&source=gbs_api",
                  "isbn10": "0060013133",
                  "num_pages": 377
                },
                {
                  "description": "Gold is the final and crowning achievement of the fifty-year career of science fiction's transcendent genius, the world-famous author who defined the field of science fiction for its practitioners, its millions of readers, and the world at large. The first section contains stories that range from the humorous to the profound, at the heart of which is the title story, \"Gold,\" a moving and revealing drama about a writer who gambles everything on a chance at immortality: a gamble Asimov himself made -- and won. The second section contains the grand master's ruminations on the SF genre itself. And the final section is comprised of Asimov's thoughts on the craft and writing of science fiction.",
                  "categories": "Fiction",
                  "published_year": 2003,
                  "subtitle": "The Final Science Fiction Collection",
                  "index": 183,
                  "isbn13": 9780060556525,
                  "authors": "Isaac Asimov",
                  "average_rating": 3.99,
                  "title": "Gold",
                  "ratings_count": 2393,
                  "thumbnail": "http://books.google.com/books/content?id=td_ulwEACAAJ&printsec=frontcover&img=1&zoom=1&source=gbs_api",
                  "isbn10": "0060556528",
                  "num_pages": 416
                },
                {
                  "description": "Billy Budd, Sailor and Bartleby, the Scrivener are two of the most revered shorter works of fiction in history. Here, they are collected along with 19 other stories in a beautifully redesigned collection that represents the best short work of an American master.As Warner Berthoff writes in his introduction to this volume, \"It is hard to think of a major novelist or storyteller who is not also a first-rate entertainer . . . a master, according to choice, of high comedy, of one or another robust species of expressive humour, or of some special variety of the preposterous, the grotesque, the absurd. And Melville, certainly, is no exception. A kind of vigorous supervisory humour is his natural idiom as a writer, and one particular attraction of his shorter work is the fresh further display it offers of this prime element in his literary character.\"",
                  "categories": "Fiction",
                  "published_year": 2004,
                  "subtitle": null,
                  "index": 203,
                  "isbn13": 9780060586546,
                  "authors": "Herman Melville",
                  "average_rating": 4.02,
                  "title": "Great Short Works of Herman Melville",
                  "ratings_count": 401,
                  "thumbnail": "http://books.google.com/books/content?id=6WgbDCDIe-QC&printsec=frontcover&img=1&zoom=1&source=gbs_api",
                  "isbn10": "0060586540",
                  "num_pages": 512
                },
                {
                  "description": "In a great green room, tucked away in bed, is a little bunny. \"Goodnight room, goodnight moon.\" And to all the familiar things in the softly lit room -- to the picture of the three little bears sitting on chairs, to the clocks and his socks, to themittens and the kittens, toeverything one by one -- the little bunny says goodnight. In this classic of children's literature, beloved by generations of readers and listeners, the quiet poetry of the words and the gentle, lulling illustrations combine to make a perfect book for the end of the day.",
                  "categories": "Juvenile Fiction",
                  "published_year": 2005,
                  "subtitle": null,
                  "index": 261,
                  "isbn13": 9780060775858,
                  "authors": "Margaret Wise Brown",
                  "average_rating": 4.27,
                  "title": "Goodnight Moon 60th Anniversary Edition",
                  "ratings_count": 264013,
                  "thumbnail": "http://books.google.com/books/content?id=lLYOrikgtJoC&printsec=frontcover&img=1&zoom=1&source=gbs_api",
                  "isbn10": "0060775858",
                  "num_pages": 32
                },
                {
                  "description": "According to The Nice and Accurate Prophecies of Agnes Nutter, Witch (the world's only completely accurate book of prophecies, written in 1655, before she exploded), the world will end on a Saturday. Next Saturday, in fact. Just before dinner. So the armies of Good and Evil are amassing, Atlantis is rising, frogs are falling, tempers are flaring. Everything appears to be going according to Divine Plan. Except a somewhat fussy angel and a fast-living demon—both of whom have lived amongst Earth's mortals since The Beginning and have grown rather fond of the lifestyle—are not actually looking forward to the coming Rapture. And someone seems to have misplaced the Antichrist . . .",
                  "categories": "Fiction",
                  "published_year": 2006,
                  "subtitle": "The Nice and Accurate Prophecies of Agnes Nutter, Witch",
                  "index": 300,
                  "isbn13": 9780060853983,
                  "authors": "Neil Gaiman;Terry Pratchett",
                  "average_rating": 4.25,
                  "title": "Good Omens",
                  "ratings_count": 373135,
                  "thumbnail": "http://books.google.com/books/content?id=7erEbfDOcgkC&printsec=frontcover&img=1&zoom=1&source=gbs_api",
                  "isbn10": "0060853980",
                  "num_pages": 412
                },
                {
                  "description": "The genome's been mapped. But what does it mean? Arguably the most significant scientific discovery of the new century, the mapping of the twenty-three pairs of chromosomes that make up the human genome raises almost as many questions as it answers. Questions that will profoundly impact the way we think about disease, about longevity, and about free will. Questions that will affect the rest of your life. Genome offers extraordinary insight into the ramifications of this incredible breakthrough. By picking one newly discovered gene from each pair of chromosomes and telling its story, Matt Ridley recounts the history of our species and its ancestors from the dawn of life to the brink of future medicine. From Huntington's disease to cancer, from the applications of gene therapy to the horrors of eugenics, Matt Ridley probes the scientific, philosophical, and moral issues arising as a result of the mapping of the genome. It will help you understand what this scientific milestone means for you, for your children, and for humankind.",
                  "categories": "Science",
                  "published_year": 2006,
                  "subtitle": "The Autobiography of a Species in 23 Chapters",
                  "index": 318,
                  "isbn13": 9780060894085,
                  "authors": "Matt Ridley",
                  "average_rating": 4.03,
                  "title": "Genome",
                  "ratings_count": 20077,
                  "thumbnail": "http://books.google.com/books/content?id=h2zcDWshkEkC&printsec=frontcover&img=1&zoom=1&source=gbs_api",
                  "isbn10": "0060894083",
                  "num_pages": 344
                },
                {
                  "description": "A national bestseller, voted by Time as the #1 novel of 1991, selected as one of the \"Best Books of 1991\" by Publishers Weekly, and nominated for a National Book Critics Circle Award--a magnificent story that probes the meaning of love, science, music, and art, by the brilliant author of Three Farmers on Their Way to a Dance.",
                  "categories": "Fiction",
                  "published_year": 1992,
                  "subtitle": null,
                  "index": 383,
                  "isbn13": 9780060975005,
                  "authors": "Richard Powers",
                  "average_rating": 4.13,
                  "title": "Gold Bug Variations",
                  "ratings_count": 1383,
                  "thumbnail": "http://books.google.com/books/content?id=Zesncyxxr5YC&printsec=frontcover&img=1&zoom=1&source=gbs_api",
                  "isbn10": "0060975008",
                  "num_pages": 640
                },
                {
                  "description": "When Karen Ann MacNeil awakens after being in a coma for eighteen years, the world suddenly encounters disturbing, terrifying, and radical changes that alter reality, and Karen and her friends must try to stop the madness and restore order to the world. Reprint. 40,000 first printing.",
                  "categories": "Fiction",
                  "published_year": 1999,
                  "subtitle": null,
                  "index": 393,
                  "isbn13": 9780060987329,
                  "authors": "Douglas Coupland",
                  "average_rating": 3.61,
                  "title": "Girlfriend in a Coma",
                  "ratings_count": 15469,
                  "thumbnail": "http://books.google.com/books/content?id=9__w-OOjLuAC&printsec=frontcover&img=1&zoom=1&source=gbs_api",
                  "isbn10": "0060987324",
                  "num_pages": 288
                },
                {
                  "description": "A little bunny counts and bids goodnight to all the objects in his room before falling asleep.",
                  "categories": "Juvenile Fiction",
                  "published_year": 2007,
                  "subtitle": "A Counting Book",
                  "index": 424,
                  "isbn13": 9780061125935,
                  "authors": "Margaret Wise Brown;Clement Hurd",
                  "average_rating": 3.59,
                  "title": "Goodnight Moon 123",
                  "ratings_count": 189,
                  "thumbnail": "http://books.google.com/books/content?id=3Q2focAO09AC&printsec=frontcover&img=1&zoom=1&source=gbs_api",
                  "isbn10": "0061125938",
                  "num_pages": 32
                },
                {
                  "description": "Grizzwold the lovable bear is having a tough time finding somewhere to live. He's too big for most places, and too clumsy for others. He's not even any good as a live bearskin rug! Will Grizzwold ever find a home that's just right?",
                  "categories": "Juvenile Fiction",
                  "published_year": 1984,
                  "subtitle": null,
                  "index": 509,
                  "isbn13": 9780064440578,
                  "authors": "Syd Hoff",
                  "average_rating": 3.8,
                  "title": "Grizzwold",
                  "ratings_count": 206,
                  "thumbnail": "http://books.google.com/books/content?id=Sy_X4g1pvzcC&printsec=frontcover&img=1&zoom=1&source=gbs_api",
                  "isbn10": "0064440575",
                  "num_pages": 64
                },
                {
                  "description": "The undisputed leader in medical pharmacology, without equal. Updated to reflect all critical new developments in drug action and drug-disease interaction. This is the “desert island” book of all medical pharmacology—if you can own just one pharmacology book, this is it.",
                  "categories": "Medical",
                  "published_year": 2005,
                  "subtitle": null,
                  "index": 528,
                  "isbn13": 9780071608916,
                  "authors": "Laurence Brunton;John Lazo;Keith Parker",
                  "average_rating": null,
                  "title": "Goodman & Gilman's The Pharmacological Basis of Therapeutics, Eleventh Edition",
                  "ratings_count": null,
                  "thumbnail": "http://books.google.com/books/content?id=PtWdBgnQdjMC&printsec=frontcover&img=1&zoom=1&source=gbs_api",
                  "isbn10": "0071608915",
                  "num_pages": null
                },
                {
                  "description": "The Agricola is both a portrait of Julius Agricola – the most famous governor of Roman Britain and Tacitus' well-loved and respected father-in-law – and the first detailed account of Britain that has come down to us. It offers fascinating descriptions of the geography, climate and peoples of the country, and a succinct account of the early stages of the Roman occupation, nearly fatally undermined by Boudicca's revolt in AD 61 but consolidated by campaigns that took Agricola as far as Anglesey and northern Scotland. The warlike German tribes are the focus of Tacitus' attention in the Germania, which, like the Agricola, often compares the behaviour of 'barbarian' peoples favourably with the decadence and corruption of Imperial Rome.",
                  "categories": "History",
                  "published_year": 1970,
                  "subtitle": null,
                  "index": 802,
                  "isbn13": 9780140442410,
                  "authors": "Cornelius Tacitus",
                  "average_rating": 3.98,
                  "title": "Germania",
                  "ratings_count": 3895,
                  "thumbnail": "http://books.google.com/books/content?id=-TCOs_SFAy0C&printsec=frontcover&img=1&zoom=1&source=gbs_api",
                  "isbn10": "0140442413",
                  "num_pages": 174
                },
                {
                  "description": "The dazzling and exuberant moral stories of Rabelais (c. 1471-1553) expose human follies with their mischievous and often obscene humour, while intertwining the realistic with carnivalesque fantasy to make us look afresh at the world. Gargantua depicts a young giant, reduced to laughable insanity by an education at the hands of paternal ignorance, old crones and syphilitic professors, who is rescued and turned into a cultured Christian knight. And in Pantagruel and its three sequels, Rabelais parodied tall tales of chivalry and satirized the law, theology and academia to portray the bookish son of Gargantua who becomes a Renaissance Socrates, divinely guided in his wisdom, and his idiotic, self-loving companion Panurge.",
                  "categories": "Biography & Autobiography",
                  "published_year": 2006,
                  "subtitle": null,
                  "index": 820,
                  "isbn13": 9780140445503,
                  "authors": "Francois Rabelais;Michael Andrew Screech",
                  "average_rating": 3.71,
                  "title": "Gargantua and Pantagruel",
                  "ratings_count": 11605,
                  "thumbnail": "http://books.google.com/books/content?id=fWwtsxg7zG0C&printsec=frontcover&img=1&zoom=1&source=gbs_api",
                  "isbn10": "0140445501",
                  "num_pages": 1041
                },
                {
                  "description": "The author of the bestselling Dirk Pitt novels introduces us to a thrilling new high seas action hero: Juan Cabrillo. Skipper of a non-descript lumber hauler disguising a state of the art spy ship behind the hull, Cabrillo takes the helm on dangerous covert missions carried out for whatever U.S. agency pays the price. And the stakes have never been higher - Cabrillo and his crew must put Tibet back in the hands of the Delai Lama by striking a deal with the Russians and the Chinese. His gambling chip is a golden Buddha containing records of vast oil reserves in the disputed land. But first, he has to locate and seize the artefact. Visit clivecussler.com.au for more Sign up to the Cussler Down Under e-newsletter",
                  "categories": "Cabrillo, Juan (Fictitious character)",
                  "published_year": 2005,
                  "subtitle": null,
                  "index": 875,
                  "isbn13": 9780141010311,
                  "authors": "Clive Cussler;Craig Dirgo",
                  "average_rating": 3.89,
                  "title": "Golden Buddha",
                  "ratings_count": 8822,
                  "thumbnail": "http://books.google.com/books/content?id=NXNoVOa9IBoC&printsec=frontcover&img=1&zoom=1&source=gbs_api",
                  "isbn10": "0141010312",
                  "num_pages": 527
                },
                {
                  "description": "The story of the guilt, bitterness and spiritual strivings of the Grimes family which is told as the son, John, faces the issue of religious conversion in the Temple of the Fire Baptised.",
                  "categories": "Fiction",
                  "published_year": 2001,
                  "subtitle": null,
                  "index": 918,
                  "isbn13": 9780141185910,
                  "authors": "James Baldwin",
                  "average_rating": 4.01,
                  "title": "Go Tell it on the Mountain",
                  "ratings_count": 33558,
                  "thumbnail": "http://books.google.com/books/content?id=eyg78GsvB6UC&printsec=frontcover&img=1&zoom=1&source=gbs_api",
                  "isbn10": "0141185910",
                  "num_pages": 256
                },
                {
                  "description": "First published in 1957, this book attempts to tackle the conflict between homosexual and heterosexual love. It tells of David, a young man awakening to his true homosexual nature, through a relationship with a barman named Giovanni, as he awaits his fiancee's arrival from Spain.",
                  "categories": "Fiction",
                  "published_year": 2001,
                  "subtitle": null,
                  "index": 924,
                  "isbn13": 9780141186351,
                  "authors": "James Baldwin",
                  "average_rating": 4.23,
                  "title": "Giovanni's Room",
                  "ratings_count": 35090,
                  "thumbnail": "http://books.google.com/books/content?id=j_2lPBQUrMEC&printsec=frontcover&img=1&zoom=1&source=gbs_api",
                  "isbn10": "0141186356",
                  "num_pages": 159
                },
                {
                  "description": "ALLEN/GETTING THINGS DONE",
                  "categories": "Business & Economics",
                  "published_year": 2001,
                  "subtitle": "The Art of Stress-Free Productivity",
                  "index": 962,
                  "isbn13": 9780142000281,
                  "authors": "David Allen",
                  "average_rating": 3.99,
                  "title": "Getting Things Done",
                  "ratings_count": 95950,
                  "thumbnail": "http://books.google.com/books/content?id=D4MD-XKAbD4C&printsec=frontcover&img=1&zoom=1&source=gbs_api",
                  "isbn10": "0142000280",
                  "num_pages": 267
                },
                {
                  "description": "The popular radio show host showcases some of his favorite poems, including the work of Emily Dickinson, Walt Whitman, Robert Frost, Charles Bukowski, Donald Hall, Billy Collins, Robert Bly, and Sharon Olds, among others. Reprint.",
                  "categories": "Poetry",
                  "published_year": 2003,
                  "subtitle": null,
                  "index": 976,
                  "isbn13": 9780142003442,
                  "authors": "Garrison Keillor",
                  "average_rating": 4.18,
                  "title": "Good Poems",
                  "ratings_count": 5977,
                  "thumbnail": "http://books.google.com/books/content?id=fqmLDQAAQBAJ&printsec=frontcover&img=1&zoom=1&source=gbs_api",
                  "isbn10": "0142003441",
                  "num_pages": 476
                },
                {
                  "description": "A hilarious compilation of witty anecdotes and trenchant essays on the mysteries of grammar and punctuation takes a poke at self-appointed language experts as it discusses such topics as predicate nominatives, colons and semicolons, quotation marks, prepositions, hyphens, and more. Original.",
                  "categories": "Humor",
                  "published_year": 2006,
                  "subtitle": "A Guide to Language for Fun and Spite",
                  "index": 1037,
                  "isbn13": 9780143036838,
                  "authors": "June Casagrande",
                  "average_rating": 3.78,
                  "title": "Grammar Snobs are Great Big Meanies",
                  "ratings_count": 733,
                  "thumbnail": "http://books.google.com/books/content?id=LyoZtAEACAAJ&printsec=frontcover&img=1&zoom=1&source=gbs_api",
                  "isbn10": "0143036831",
                  "num_pages": 199
                },
                {
                  "description": "Presents a collection of inspirational poems by such authors as Emily Dickinson, Billy Collins, Robert Frost, and Raymond Carver.",
                  "categories": "Poetry",
                  "published_year": 2006,
                  "subtitle": null,
                  "index": 1048,
                  "isbn13": 9780143037675,
                  "authors": "Garrison Keillor",
                  "average_rating": 4.14,
                  "title": "Good Poems for Hard Times",
                  "ratings_count": 2611,
                  "thumbnail": "http://books.google.com/books/content?id=Ap2kpWhee8cC&printsec=frontcover&img=1&zoom=1&source=gbs_api",
                  "isbn10": "0143037676",
                  "num_pages": 344
                },
                {
                  "description": "Tyrone Slothrop, a GI in London in 1944, is under suspicion by his superiors and soon on the run from enemies through Germany.",
                  "categories": "Fiction",
                  "published_year": 1973,
                  "subtitle": null,
                  "index": 1069,
                  "isbn13": 9780143039945,
                  "authors": "Thomas Pynchon",
                  "average_rating": 4.02,
                  "title": "Gravity's Rainbow",
                  "ratings_count": 28034,
                  "thumbnail": "http://books.google.com/books/content?id=P95vPwAACAAJ&printsec=frontcover&img=1&zoom=1&source=gbs_api",
                  "isbn10": "0143039946",
                  "num_pages": 776
                },
                {
                  "description": "When a young man in the Uplands blinds himself rather than use his gift of \"unmaking\"--a violent talent shared by members of his family--he upsets the precarious balance of power among rival, feuding families, each of which has a strange and deadly talent of its own. Reprint.",
                  "categories": "Juvenile Fiction",
                  "published_year": 2006,
                  "subtitle": null,
                  "index": 1081,
                  "isbn13": 9780152051242,
                  "authors": "Ursula K. Le Guin",
                  "average_rating": 3.69,
                  "title": "Gifts",
                  "ratings_count": 6442,
                  "thumbnail": "http://books.google.com/books/content?id=HcAhvgAACAAJ&printsec=frontcover&img=1&zoom=1&source=gbs_api",
                  "isbn10": "0152051244",
                  "num_pages": 286
                },
                {
                  "description": "In a bizarre, noirish world shared by people and intelligent animals, Conrad Metcalf, a human private detective, finds one of his cases has drawn him into a conflict between gangsters and the Inquisitor's office. Reprint. 15,000 first printing.",
                  "categories": "Fiction",
                  "published_year": 2003,
                  "subtitle": null,
                  "index": 1109,
                  "isbn13": 9780156028974,
                  "authors": "Jonathan Lethem",
                  "average_rating": 3.77,
                  "title": "Gun, with Occasional Music",
                  "ratings_count": 7863,
                  "thumbnail": "http://books.google.com/books/content?id=AgRevgAACAAJ&printsec=frontcover&img=1&zoom=1&source=gbs_api",
                  "isbn10": "0156028972",
                  "num_pages": 271
                },
                {
                  "description": "\"Gulliver's travels purports to be a travel book. It is a blend of fantasy and realism and describes the shipwrecked Gulliver's encounters with the inhabitants of four places: Lilliput, Brobdingnag, Laputa, and the country of the Houyhnhnms\"--Provided byp",
                  "categories": "Fiction",
                  "published_year": 2005,
                  "subtitle": null,
                  "index": 1179,
                  "isbn13": 9780192805348,
                  "authors": "Jonathan Swift;Claude Rawson;Ian Higgins",
                  "average_rating": 3.56,
                  "title": "Gulliver's Travels",
                  "ratings_count": 253,
                  "thumbnail": "http://books.google.com/books/content?id=f_0bQHhTqUoC&printsec=frontcover&img=1&zoom=1&edge=curl&source=gbs_api",
                  "isbn10": "0192805347",
                  "num_pages": 422
                },
                {
                  "description": "Presents the classic story of the orphan Pip, the convict Magwitch, the beautiful Estella, and her guardian, the embittered Miss Havisham",
                  "categories": "Fiction",
                  "published_year": 1998,
                  "subtitle": null,
                  "index": 1194,
                  "isbn13": 9780192833594,
                  "authors": "Charles Dickens",
                  "average_rating": 3.76,
                  "title": "Great Expectations",
                  "ratings_count": 523790,
                  "thumbnail": "http://books.google.com/books/content?id=HByVN01euAAC&printsec=frontcover&img=1&zoom=1&edge=curl&source=gbs_api",
                  "isbn10": "0192833596",
                  "num_pages": 505
                },
                {
                  "description": "A history of aging in America surveys and compares actualities and attitudes in the eighteenth, nineteenth, and twentieth centuries and suggests practical improvements on the current inadequate system of pensions, social security, medicare, and other prog",
                  "categories": "Religion",
                  "published_year": 1978,
                  "subtitle": null,
                  "index": 1228,
                  "isbn13": 9780195023664,
                  "authors": "David Hackett Fischer",
                  "average_rating": 4.2,
                  "title": "Growing Old in America",
                  "ratings_count": 15,
                  "thumbnail": "http://books.google.com/books/content?id=LCnnCwAAQBAJ&printsec=frontcover&img=1&zoom=1&edge=curl&source=gbs_api",
                  "isbn10": "0195023668",
                  "num_pages": 252
                },
                {
                  "description": "The Grene and Lattimore edition of the Greek tragedies has been among the most widely acclaimed and successful publications of the University of Chicago Press. On the occasion of the Centennial of the University of Chicago and its Press, we take pleasure in reissuing this complete work in a handsome four-volume slipcased edition as well as in redesigned versions of the familiar paperbacks. For the Centennial Edition two of the original translations have been replaced. In the original publication David Grene translated only one of the three Theban plays, Oedipus the King. Now he has added his own translations of the remaining two, Oedipus at Colonus and Antigone, thus bringing a new unity of tone and style to this group. Grene has also revised his earlier translation of Prometheus Bound and rendered some of the former prose sections in verse. These new translations replace the originals included in the paperback volumes Sophocles I (which contains all three Theban plays), Aeschylus II, Greek Tragedies, Volume I, and Greek Tragedies, Volume III, all of which are now being published in second editions. All other volumes contain the translations of the tragedies of Aeschylus, Sophocles, and Euripides for the most part from the original versions first published in the 1940s and 1950s. These translations have been the choice of generations of teachers and students, selling in the past forty years over three million copies.",
                  "categories": "Drama",
                  "published_year": 1992,
                  "subtitle": null,
                  "index": 1291,
                  "isbn13": 9780226307657,
                  "authors": "Sophocles;Aeschylus;Euripides",
                  "average_rating": 4.14,
                  "title": "Greek tragedies",
                  "ratings_count": 33,
                  "thumbnail": "http://books.google.com/books/content?id=EiHQwAEACAAJ&printsec=frontcover&img=1&zoom=1&source=gbs_api",
                  "isbn10": "0226307654",
                  "num_pages": 472
                },
                {
                  "description": "A collection of 15 plays by Euripedes, Sophocles, and Aeschylus including Aeschylus' Orestiae and Euripedes' Oedipus trilogy",
                  "categories": "Literary Criticism",
                  "published_year": 1960,
                  "subtitle": null,
                  "index": 1293,
                  "isbn13": 9780226307756,
                  "authors": "David Grene;Richmond Lattimore",
                  "average_rating": 4.28,
                  "title": "Greek Tragedies",
                  "ratings_count": 315,
                  "thumbnail": "http://books.google.com/books/content?id=2ZE50d6fipUC&printsec=frontcover&img=1&zoom=1&source=gbs_api",
                  "isbn10": "0226307751",
                  "num_pages": 304
                },
                {
                  "description": "Cuneiform records made some three thousand years ago are the basis for this essay on the ideas of death and the afterlife and the story of the flood which were current among the ancient peoples of the Tigro-Euphrates Valley. With the same careful scholarship shown in his previous volume, The Babylonian Genesis, Heidel interprets the famous Gilgamesh Epic and other related Babylonian and Assyrian documents. He compares them with corresponding portions of the Old Testament in order to determine the inherent historical relationship of Hebrew and Mesopotamian ideas.",
                  "categories": "Religion",
                  "published_year": 1949,
                  "subtitle": null,
                  "index": 1299,
                  "isbn13": 9780226323985,
                  "authors": "Alexander Heidel",
                  "average_rating": 3.97,
                  "title": "Gilgamesh Epic and Old Testament Parallels",
                  "ratings_count": 57,
                  "thumbnail": "http://books.google.com/books/content?id=iRwMQVdZegAC&printsec=frontcover&img=1&zoom=1&edge=curl&source=gbs_api",
                  "isbn10": "0226323986",
                  "num_pages": 280
                },
                {
                  "description": "Featuring an introduction by Stephen Jay Gould, \"Genetics and the Origin of Species\" presents the first edition of Dobzhansky's groundbreaking and now classic inquiry into what has emerged as the most important single area of scientific inquiry in the twentieth century: biological theory of evolution. Genetics and the Origin of Species went through three editions (1937, 1941, and 1951) in which the importance accorded natural selection changed radically.",
                  "categories": "Science",
                  "published_year": 1982,
                  "subtitle": null,
                  "index": 1313,
                  "isbn13": 9780231054751,
                  "authors": "Theodosius Dobzhansky",
                  "average_rating": 4.15,
                  "title": "Genetics and the Origin of Species",
                  "ratings_count": 24,
                  "thumbnail": "http://books.google.com/books/content?id=s7igybOj-dEC&printsec=frontcover&img=1&zoom=1&source=gbs_api",
                  "isbn10": "0231054750",
                  "num_pages": 364
                },
                {
                  "description": "The Food Network host and best-selling author of Everyday Italian presents a collection of easy-to-prepare, flexible recipes for Italian food lovers with a busy schedule, explaining how to put together simple but tempting meals for everyday evening dinners or for special holiday occasions. 400,000 first printing.",
                  "categories": "Cooking",
                  "published_year": 2006,
                  "subtitle": null,
                  "index": 1412,
                  "isbn13": 9780307238276,
                  "authors": "Giada De Laurentiis",
                  "average_rating": 3.96,
                  "title": "Giada's Family Dinners",
                  "ratings_count": 13866,
                  "thumbnail": "http://books.google.com/books/content?id=lfRvDwAAQBAJ&printsec=frontcover&img=1&zoom=1&source=gbs_api",
                  "isbn10": "030723827X",
                  "num_pages": 256
                },
                {
                  "description": "Examines the life and career of the famous neurosurgeon.",
                  "categories": "Biography & Autobiography",
                  "published_year": 1996,
                  "subtitle": "The Ben Carson Story",
                  "index": 1435,
                  "isbn13": 9780310214694,
                  "authors": "Ben Carson;Cecil B. Murphey",
                  "average_rating": 4.21,
                  "title": "Gifted Hands",
                  "ratings_count": 11328,
                  "thumbnail": "http://books.google.com/books/content?id=GE9ETXQUuF0C&printsec=frontcover&img=1&zoom=1&source=gbs_api",
                  "isbn10": "0310214696",
                  "num_pages": 224
                },
                {
                  "description": "The protagonist, a Humanist-in-Residence at the center for Advanced Scientific Research, gets involved with a project to train a machine to pass a comprehensive exam in English literature--and with the degree candidate against whom the machine is competing. Reprint.",
                  "categories": "Fiction",
                  "published_year": 2004,
                  "subtitle": "A Novel",
                  "index": 1552,
                  "isbn13": 9780312423131,
                  "authors": "Richard Powers",
                  "average_rating": 3.72,
                  "title": "Galatea 2.2",
                  "ratings_count": 2063,
                  "thumbnail": "http://books.google.com/books/content?id=ttcEu4iDvnYC&printsec=frontcover&img=1&zoom=1&source=gbs_api",
                  "isbn10": "0312423136",
                  "num_pages": 329
                },
                {
                  "description": "Welcome to New York City's Upper East Side, where my friends and I live in gorgeous apartments, go to exclusive private schools, and make Manhattan our own personal playground. It might look hard to be this fabulous, but for us it's as easy as sleeping with your best friend's boyfriend. 6th installment of the Gossip Girls series!",
                  "categories": "Juvenile Fiction",
                  "published_year": 2004,
                  "subtitle": "A Gossip Girl Novel",
                  "index": 1665,
                  "isbn13": 9780316735162,
                  "authors": "Cecily von Ziegesar",
                  "average_rating": 3.71,
                  "title": "Gossip Girl #6: You're the One That I Want",
                  "ratings_count": 17665,
                  "thumbnail": "http://books.google.com/books/content?id=zmg8yAEACAAJ&printsec=frontcover&img=1&zoom=1&source=gbs_api",
                  "isbn10": "0316735167",
                  "num_pages": 224
                },
                {
                  "description": "The wickedly funny first book in the #1 New York Times bestselling series that inspired the original hit CW show and the new series coming to HBO Max's Spring 2020 launch season (alongside hit series such as Pretty Little Liars and Friends). Welcome to New York City's Upper East Side, where my friends and I live, go to school, play, and sleep--sometimes with each other. S is back from boarding school, and if we aren't careful, she's going to win over our teachers, wear that dress we couldn't fit into, steal our boyfriends' hearts, and basically ruin our lives in a major way. I'll be watching closely... You know you love me. gossip girl",
                  "categories": "Young Adult Fiction",
                  "published_year": 2002,
                  "subtitle": "A Novel by Cecily von Ziegesar",
                  "index": 1672,
                  "isbn13": 9780316910330,
                  "authors": "Cecily von Ziegesar",
                  "average_rating": 3.51,
                  "title": "Gossip Girl #1",
                  "ratings_count": 53230,
                  "thumbnail": "http://books.google.com/books/content?id=g7qWxgEACAAJ&printsec=frontcover&img=1&zoom=1&source=gbs_api",
                  "isbn10": "0316910333",
                  "num_pages": 224
                },
                {
                  "description": "The wickedly funny third book in the #1 New York Times bestselling series that inspired the original hit CW show and the new series coming to HBO Max's Spring 2020 launch season (alongside hit series such as Pretty Little Liars and Friends). It's Christmastime and Blair and Serena are best friends again, and up to their old tricks--partying hard and breaking hearts from Park Avenue to the Caribbean. Blair's mom and Cyrus are having their honeymoon in Salt Key. And when school lets out for the holiday, Blair, Serena, Aaron, and company head down there to blow off steam after their midterm exams. In between pina coladas and topless sunbathing, Blair and Serena plot revenge on super-jerk Chuck Bass. Everyone jets back to NYC for Serena's New Year's party, during which Nate and Blair may or may not finally go all the way...and Serena may or may not be discovered to be the secret fling of Hollywood's hottest young leading man.",
                  "categories": "Young Adult Fiction",
                  "published_year": 2003,
                  "subtitle": "A Gossip Girl Novel",
                  "index": 1673,
                  "isbn13": 9780316912129,
                  "authors": "Cecily von Ziegesar",
                  "average_rating": 3.55,
                  "title": "Gossip Girl #3: All I Want is Everything",
                  "ratings_count": 16202,
                  "thumbnail": "http://books.google.com/books/content?id=aTw3vdPW-PAC&printsec=frontcover&img=1&zoom=1&source=gbs_api",
                  "isbn10": "0316912123",
                  "num_pages": 240
                },
                {
                  "description": "He's the King of the Swingers. But she's the Ice Queen. When Dr Jennifer Niederhauser becomes head of the chimpanzee project at Prowdes Animal Sanctuary, the uptight young zoologist looks forward to making her mark in the conservation world. But the regime is ramshackle, the chimpanzees uncontrollable and her first meeting with head keeper Guy Gibson finds him naked and covered in baby oil. She decides never to work with animals or the childish again. But, she may not have a job for much longer anyway - Prowdes is in big financial trouble. Salvation comes in the form of a TV documentary. Prowdes needs the money and exposure. But does Jennifer need to be exposed to the show's smooth presenter, chimpanzee expert Dr Timothy Lauder? The ultimate alpha male.",
                  "categories": "Animal sanctuaries",
                  "published_year": 2004,
                  "subtitle": null,
                  "index": 1757,
                  "isbn13": 9780340828069,
                  "authors": "Chris Manby",
                  "average_rating": 3.44,
                  "title": "Girl Meets Ape",
                  "ratings_count": 526,
                  "thumbnail": "http://books.google.com/books/content?id=G_XcGwAACAAJ&printsec=frontcover&img=1&zoom=1&source=gbs_api",
                  "isbn10": "0340828064",
                  "num_pages": 406
                },
                {
                  "description": "A collection of short stories on Jewish life in Europe and the United States filled with vivid vignettes of the Yiddish way.",
                  "categories": "Fiction",
                  "published_year": 1988,
                  "subtitle": null,
                  "index": 2024,
                  "isbn13": 9780374500528,
                  "authors": "Isaac Bashevis Singer",
                  "average_rating": 4.16,
                  "title": "Gimpel the Fool and Other Stories",
                  "ratings_count": 36,
                  "thumbnail": "http://books.google.com/books/content?id=zoa2QgAACAAJ&printsec=frontcover&img=1&zoom=1&source=gbs_api",
                  "isbn10": "0374500525",
                  "num_pages": 205
                },
                {
                  "description": "\"You people come into the market--the Greenmarket, in the open air under the down pouring sun--and you slit the tomatoes with your fingernails. With your thumbs, you excavate the cheese. You choose your stringbeans one at a time. You pulp the nectarines and rape the sweet corn. You are something wonderful, you are--people of the city--and we, who are almost without exception strangers here, are as absorbed with you as you seem to be with the numbers on our hanging scales.\" So opens the title piece in this collection of John McPhee's classic essays, grouped here with four others, including \"Brigade de Cuisine,\" a profile of an artistic and extraordinary chef; \"The Keel of Lake Dickey,\" in which a journey down the whitewater of a wild river ends in the shadow of a huge projected dam; a report on plans for the construction of nuclear power plants that would float in the ocean; and a pinball shoot-out between two prizewinning journalists.",
                  "categories": "Literary Collections",
                  "published_year": 1994,
                  "subtitle": null,
                  "index": 2027,
                  "isbn13": 9780374516000,
                  "authors": "John McPhee",
                  "average_rating": 4.22,
                  "title": "Giving Good Weight",
                  "ratings_count": 533,
                  "thumbnail": "http://books.google.com/books/content?id=Xx0IHQAACAAJ&printsec=frontcover&img=1&zoom=1&source=gbs_api",
                  "isbn10": "0374516006",
                  "num_pages": 288
                },
                {
                  "description": "A lighthearted but insightful guide to raising adolescent children shows parents how to deal with teenagers living in a faster-paced, less morally certain world than the one they knew. Original. 50,000 first printing.",
                  "categories": "Family & Relationships",
                  "published_year": 2002,
                  "subtitle": "A Parent's Guide to the New Teenager",
                  "index": 2043,
                  "isbn13": 9780374528539,
                  "authors": "Anthony E. Wolf",
                  "average_rating": 3.94,
                  "title": "Get Out of My Life, But First Could You Drive Me & Cheryl to the Mall",
                  "ratings_count": 1301,
                  "thumbnail": "http://books.google.com/books/content?id=oKdbCk_05wQC&printsec=frontcover&img=1&zoom=1&source=gbs_api",
                  "isbn10": "0374528535",
                  "num_pages": 240
                },
                {
                  "description": "Isaac Bashevis Singer's first collection of stories, Gimpel the Fool, is a landmark work that has attracted international acclaim since it was first published in 1957. In Saul Bellow's masterly translation, the title story follows the exploits of Gimpel, an ingenuous baker who is universally deceived but who declines to retaliate against his tormentors. Gimpel and the protagonists of the other stories in this volume all inhabit the distinctive pre-World War II ghettos of Poland and, beyond that, the larger world created by Singer's unforgettable prose.",
                  "categories": "Fiction",
                  "published_year": 1957,
                  "subtitle": "And Other Stories",
                  "index": 2050,
                  "isbn13": 9780374530259,
                  "authors": "Isaac Bashevis Singer",
                  "average_rating": 4.16,
                  "title": "Gimpel the Fool",
                  "ratings_count": 1683,
                  "thumbnail": "http://books.google.com/books/content?id=GLacGqTFTBgC&printsec=frontcover&img=1&zoom=1&source=gbs_api",
                  "isbn10": "0374530254",
                  "num_pages": 224
                },
                {
                  "description": "The Georgics is a poem by Latin poet Virgil, likely published in 29 BC. As the name suggests (from the Greek word γεωργικά, geōrgika, i.e. \"agricultural (things)\") the subject of the poem is agriculture; but far from being an example of peaceful rural poetry, it is a work characterized by tensions in both theme and purpose. The Georgics is considered Virgil's second major work, following his Eclogues and preceding the Aeneid. The poem draws on a variety of prior sources,[citation needed] and has influenced many later authors from antiquity to the present.",
                  "categories": "Poetry",
                  "published_year": 2017,
                  "subtitle": null,
                  "index": 2052,
                  "isbn13": 9780374530310,
                  "authors": "Virgil",
                  "average_rating": 3.85,
                  "title": "Georgics (Zongo Classics)",
                  "ratings_count": 77,
                  "thumbnail": "http://books.google.com/books/content?id=JJGJDwAAQBAJ&printsec=frontcover&img=1&zoom=1&source=gbs_api",
                  "isbn10": "0374530319",
                  "num_pages": 224
                },
                {
                  "description": "Looks inside the private world of the geisha to capture this unique icon of Japanese traditional culture, following the geisha's training, preparation for a performance, and role in Japanese society",
                  "categories": "Photography",
                  "published_year": 1998,
                  "subtitle": "The Life, the Voices, the Art",
                  "index": 2075,
                  "isbn13": 9780375701801,
                  "authors": "Jodi Cobb;Ian Buruma",
                  "average_rating": 3.89,
                  "title": "Geisha",
                  "ratings_count": 183,
                  "thumbnail": "http://books.google.com/books/content?id=GvuAJQAACAAJ&printsec=frontcover&img=1&zoom=1&source=gbs_api",
                  "isbn10": "037570180X",
                  "num_pages": 128
                },
                {
                  "description": "A young man from the fashionable, celebrityobsessed society of New York finds himself gradually drawn into a shadowy, dark side of that society, until he becomes trapped in terrifying world in which politics and family, terrorism and fame become inextricably intertwined. Reprint. 50,000 first printing.",
                  "categories": "Fiction",
                  "published_year": 2000,
                  "subtitle": null,
                  "index": 2083,
                  "isbn13": 9780375703843,
                  "authors": "Bret Easton Ellis",
                  "average_rating": 3.47,
                  "title": "Glamorama",
                  "ratings_count": 16691,
                  "thumbnail": "http://books.google.com/books/content?id=IaXxF_8jnqoC&printsec=frontcover&img=1&zoom=1&source=gbs_api",
                  "isbn10": "0375703845",
                  "num_pages": 546
                },
                {
                  "description": "Aloysious and Lillian Binewski, the proprietors of a traveling carnival, attempt to reduce overhead by breeding their own freak show, with tragic results, in a new edition of the acclaimed cult classic. Reprint. 30,000 first printing.",
                  "categories": "Fiction",
                  "published_year": 2002,
                  "subtitle": null,
                  "index": 2100,
                  "isbn13": 9780375713347,
                  "authors": "Katherine Dunn",
                  "average_rating": 3.96,
                  "title": "Geek Love",
                  "ratings_count": 46282,
                  "thumbnail": "http://books.google.com/books/content?id=trng4WiHgPQC&printsec=frontcover&img=1&zoom=1&source=gbs_api",
                  "isbn10": "0375713344",
                  "num_pages": 348
                },
                {
                  "description": "Chunky Rice, a small green turtle, embarks on an ocean voyage, where he meets a shady skipper and conjoined twins, Ruth and Livonia, but he also leaves behind his mouse deer girlfriend Dandel, who sends him letters in a bottle. Reprint. 20,000 first printing.",
                  "categories": "Comics & Graphic Novels",
                  "published_year": 2006,
                  "subtitle": null,
                  "index": 2106,
                  "isbn13": 9780375714764,
                  "authors": "Craig Thompson",
                  "average_rating": 3.8,
                  "title": "Good-bye, Chunky Rice",
                  "ratings_count": 7035,
                  "thumbnail": "http://books.google.com/books/content?id=zD2FDwAAQBAJ&printsec=frontcover&img=1&zoom=1&source=gbs_api",
                  "isbn10": "0375714766",
                  "num_pages": 125
                },
                {
                  "description": "The lives of nine total strangers from nine different countries become intertwined in a strange series of circumstances.",
                  "categories": "Fiction",
                  "published_year": 2001,
                  "subtitle": "A Novel",
                  "index": 2111,
                  "isbn13": 9780375724503,
                  "authors": "David Mitchell",
                  "average_rating": 4.06,
                  "title": "Ghostwritten",
                  "ratings_count": 20093,
                  "thumbnail": "http://books.google.com/books/content?id=-tRumAEACAAJ&printsec=frontcover&img=1&zoom=1&source=gbs_api",
                  "isbn10": "0375724508",
                  "num_pages": 426
                },
                {
                  "description": "Presents the classic story of the orphan Pip, the convict Magwitch, the beautiful Estella, and her guardian, the embittered Miss Havisham.",
                  "categories": "Fiction",
                  "published_year": 2001,
                  "subtitle": null,
                  "index": 2141,
                  "isbn13": 9780375757013,
                  "authors": "Charles Dickens",
                  "average_rating": 3.76,
                  "title": "Great Expectations",
                  "ratings_count": 355,
                  "thumbnail": "http://books.google.com/books/content?id=6regVx_CnxgC&printsec=frontcover&img=1&zoom=1&source=gbs_api",
                  "isbn10": "0375757015",
                  "num_pages": 480
                },
                {
                  "description": "A lawyer schemes to gain control of a large fortune by having the present claimant declared insane.",
                  "categories": "Fiction",
                  "published_year": 1998,
                  "subtitle": "Or, Pearls Before Swine",
                  "index": 2263,
                  "isbn13": 9780385333474,
                  "authors": "Kurt Vonnegut",
                  "average_rating": 3.96,
                  "title": "God Bless You, Mr. Rosewater",
                  "ratings_count": 40488,
                  "thumbnail": "http://books.google.com/books/content?id=XVsu8qFi87AC&printsec=frontcover&img=1&zoom=1&source=gbs_api",
                  "isbn10": "0385333471",
                  "num_pages": 288
                },
                {
                  "description": "The ghost of a decapitated shipbuilder wryly observes the decline of the human race as reflected by a group of shipwreck survivors, including a biology teacher, a bomb-radiated wife of a Japanese computer genius, and a gold digger, a motley band whose fates are shaped by infertility and a local tribe of cannibals. Reissue.",
                  "categories": "Fiction",
                  "published_year": 1999,
                  "subtitle": null,
                  "index": 2269,
                  "isbn13": 9780385333870,
                  "authors": "Kurt Vonnegut",
                  "average_rating": 3.87,
                  "title": "Galapagos: A Novel",
                  "ratings_count": 53777,
                  "thumbnail": "http://books.google.com/books/content?id=AZjb-pSoQWsC&printsec=frontcover&img=1&zoom=1&source=gbs_api",
                  "isbn10": "0385333870",
                  "num_pages": 324
                },
                {
                  "description": "Emerging from an ugly divorce in the early 1980s, real estate salesman Joe Stratford is reluctant to join his friend Marcus in a get-rich-quick scheme and wonders about the advances of a free-spirited married woman. By the Pulitzer Prize-winning author of A Thousand Acres. Reader's Guide available. Reprint. 100,000 first printing.",
                  "categories": "Fiction",
                  "published_year": 2004,
                  "subtitle": null,
                  "index": 2338,
                  "isbn13": 9780385721059,
                  "authors": "Jane Smiley",
                  "average_rating": 3.25,
                  "title": "Good Faith",
                  "ratings_count": 1807,
                  "thumbnail": "http://books.google.com/books/content?id=5xf0lEBVpn8C&printsec=frontcover&img=1&zoom=1&source=gbs_api",
                  "isbn10": "0385721056",
                  "num_pages": 432
                },
                {
                  "description": "Lame and suddenly orphaned, Kira is mysteriously removed from her squalid village to live in the palatial Council Edifice, where she is expected to use her gifts as a weaver to do the bidding of the all-powerful Guardians.",
                  "categories": "Juvenile Fiction",
                  "published_year": 2006,
                  "subtitle": null,
                  "index": 2352,
                  "isbn13": 9780385732567,
                  "authors": "Lois Lowry",
                  "average_rating": 3.81,
                  "title": "Gathering Blue",
                  "ratings_count": 127855,
                  "thumbnail": "http://books.google.com/books/content?id=3oUhi1ZlK6oC&printsec=frontcover&img=1&zoom=1&source=gbs_api",
                  "isbn10": "0385732562",
                  "num_pages": 240
                },
                {
                  "description": "A collection of short stories by David Foster Wallace that explore the different ways people live their lives.",
                  "categories": "Fiction",
                  "published_year": 1989,
                  "subtitle": null,
                  "index": 2393,
                  "isbn13": 9780393313963,
                  "authors": "David Foster Wallace",
                  "average_rating": 3.88,
                  "title": "Girl with Curious Hair",
                  "ratings_count": 5471,
                  "thumbnail": "http://books.google.com/books/content?id=cn_rcmInIS8C&printsec=frontcover&img=1&zoom=1&source=gbs_api",
                  "isbn10": "0393313964",
                  "num_pages": 373
                },
                {
                  "description": "Presents four plays by George Bernard Shaw, incuding \"Mrs. Warren's Profession,\" \"Pygmalion,\" \"Man and Superman,\" and \"Major Barbara,\" each with an explanatory annotation, and includes information on the author and his work, a chronology, and a selected bibliography.",
                  "categories": "Drama",
                  "published_year": 2002,
                  "subtitle": "Mrs Warren's Profession, Pygmalion, Man and Superman, Major Barbara : Contexts and Criticism",
                  "index": 2450,
                  "isbn13": 9780393977530,
                  "authors": "Bernard Shaw",
                  "average_rating": 3.94,
                  "title": "George Bernard Shaw's Plays",
                  "ratings_count": 120,
                  "thumbnail": "http://books.google.com/books/content?id=FXaFQgAACAAJ&printsec=frontcover&img=1&zoom=1&source=gbs_api",
                  "isbn10": "0393977536",
                  "num_pages": 551
                },
                {
                  "description": "Sam-I-Am tries to persuade his friend to try green eggs and ham.",
                  "categories": "Juvenile Fiction",
                  "published_year": 1960,
                  "subtitle": null,
                  "index": 2482,
                  "isbn13": 9780394800165,
                  "authors": "Theodor Seuss Geisel;Dr. Seuss",
                  "average_rating": 4.3,
                  "title": "Green Eggs and Ham",
                  "ratings_count": 539202,
                  "thumbnail": "http://books.google.com/books/content?id=VTolm6HG2EgC&printsec=frontcover&img=1&zoom=1&source=gbs_api",
                  "isbn10": "0394800168",
                  "num_pages": 62
                }
              ]
            },
            "text/plain": "             isbn13      isbn10                         title   \n0     9780002005883  0002005883                        Gilead  \\\n20    9780006496892  000649689X             Glittering Images   \n21    9780006496922  000649692X              Glamorous Powers   \n28    9780006513087  0006513085                       Gravity   \n30    9780006514855  0006514855               Girls' Night in   \n...             ...         ...                           ...   \n6556  9781845760182  1845760182            Ghost in the Shell   \n6578  9781857027129  1857027124            Galileo's Daughter   \n6678  9781892284891  1892284898             Guilty But Insane   \n6688  9781895176407  1895176409  Galapagos, a Natural History   \n6798  9787506435673  7506435675                    Good Fight   \n\n                                subtitle   \n0                                    NaN  \\\n20                                   NaN   \n21                                   NaN   \n28                                   NaN   \n30                                   NaN   \n...                                  ...   \n6556                                 NaN   \n6578  A Drama of Science, Faith and Love   \n6678                                 NaN   \n6688                                 NaN   \n6798                                 NaN   \n\n                                     authors                 categories   \n0                         Marilynne Robinson                    Fiction  \\\n20                             Susan Howatch            English fiction   \n21                             Susan Howatch                     Clergy   \n28                            Tess Gerritsen            Science fiction   \n30    Jessica Adams;Chris Manby;Fiona Walker           American fiction   \n...                                      ...                        ...   \n6556                         Masamune Shirow                        NaN   \n6578                              Dava Sobel                Astronomers   \n6678                          Poppy Z. Brite  Biography & Autobiography   \n6688                    Michael Hume Jackson                    History   \n6798               Judd Winick;Matthew Clark           Juvenile Fiction   \n\n                                              thumbnail   \n0     http://books.google.com/books/content?id=KQZCP...  \\\n20    http://books.google.com/books/content?id=rDHbn...   \n21    http://books.google.com/books/content?id=_bhPY...   \n28    http://books.google.com/books/content?id=KI66c...   \n30    http://books.google.com/books/content?id=xLwHH...   \n...                                                 ...   \n6556  http://books.google.com/books/content?id=9tMeP...   \n6578  http://books.google.com/books/content?id=SEpCr...   \n6678  http://books.google.com/books/content?id=gPGvP...   \n6688  http://books.google.com/books/content?id=NXS8c...   \n6798  http://books.google.com/books/content?id=xGPZA...   \n\n                                            description  published_year   \n0     A NOVEL THAT READERS and critics have been eag...          2004.0  \\\n20    It is 1937, and Charles Ashworth, a Canon to t...          1996.0   \n21    Reissue of the author's most famous and well-l...          1996.0   \n28    Emma Watson a research physician has been trai...          2004.0   \n30    'Girls' Night In' features stories about growi...          2000.0   \n...                                                 ...             ...   \n6556  Deep into the 21st century, the line between m...          2006.0   \n6578  While Galileo Galilei was under house arrest, ...          2000.0   \n6678                                                NaN          2001.0   \n6688  This book details the natural history of the p...          1993.0   \n6798  Presents the adventures of a new group of hero...          2007.0   \n\n      average_rating  num_pages  ratings_count  \n0               3.85      247.0          361.0  \n20              4.07      512.0         2045.0  \n21              4.20      512.0         1441.0  \n28              4.04      342.0         8024.0  \n30              3.26      586.0          140.0  \n...              ...        ...            ...  \n6556            4.18      368.0           59.0  \n6578            3.76      448.0          117.0  \n6678            3.97      185.0          118.0  \n6688            3.87      336.0           93.0  \n6798             NaN        NaN            NaN  \n\n[151 rows x 12 columns]"
          },
          "output_type": "execute_result",
          "execution_count": 6
        }
      ]
    },
    {
      "metadata": {
        "jupyter_d1": {
          "position": 6,
          "uuid": "22cece25-3c4a-4a6f-8902-f0680a66f201",
          "execution_state": "idle",
          "path": null,
          "working_directory": null,
          "notebook_uuid": "1648cbed-5b80-4805-98bb-bec4d190d18d",
          "name": null
        }
      },
      "id": "a9971df8",
      "source": "df.sample(7)\n",
      "cell_type": "code",
      "execution_count": 7,
      "outputs": [
        {
          "metadata": {},
          "data": {
            "text/html": "<div>\n<style scoped>\n    .dataframe tbody tr th:only-of-type {\n        vertical-align: middle;\n    }\n\n    .dataframe tbody tr th {\n        vertical-align: top;\n    }\n\n    .dataframe thead th {\n        text-align: right;\n    }\n</style>\n<table border=\"1\" class=\"dataframe\">\n  <thead>\n    <tr style=\"text-align: right;\">\n      <th></th>\n      <th>isbn13</th>\n      <th>isbn10</th>\n      <th>title</th>\n      <th>subtitle</th>\n      <th>authors</th>\n      <th>categories</th>\n      <th>thumbnail</th>\n      <th>description</th>\n      <th>published_year</th>\n      <th>average_rating</th>\n      <th>num_pages</th>\n      <th>ratings_count</th>\n    </tr>\n  </thead>\n  <tbody>\n    <tr>\n      <th>4804</th>\n      <td>9780778324317</td>\n      <td>0778324311</td>\n      <td>Two Alone</td>\n      <td>NaN</td>\n      <td>Sandra Brown</td>\n      <td>Fiction</td>\n      <td>http://books.google.com/books/content?id=jEo-P...</td>\n      <td>Stranded in the remote mountains of the north ...</td>\n      <td>2007.0</td>\n      <td>3.70</td>\n      <td>282.0</td>\n      <td>2055.0</td>\n    </tr>\n    <tr>\n      <th>733</th>\n      <td>9780140277821</td>\n      <td>014027782X</td>\n      <td>Difficult Conversations</td>\n      <td>How to Discuss what Matters Most</td>\n      <td>Douglas Stone;Bruce Patton;Sheila Heen</td>\n      <td>Psychology</td>\n      <td>http://books.google.com/books/content?id=5nHFQ...</td>\n      <td>What is a difficult conversation? Asking for a...</td>\n      <td>2000.0</td>\n      <td>4.07</td>\n      <td>250.0</td>\n      <td>59.0</td>\n    </tr>\n    <tr>\n      <th>1854</th>\n      <td>9780345446664</td>\n      <td>0345446666</td>\n      <td>Death in Holy Orders</td>\n      <td>NaN</td>\n      <td>P. D. James</td>\n      <td>Fiction</td>\n      <td>http://books.google.com/books/content?id=WF2X1...</td>\n      <td>The untimely death of a young priest in traini...</td>\n      <td>2002.0</td>\n      <td>3.92</td>\n      <td>429.0</td>\n      <td>9511.0</td>\n    </tr>\n    <tr>\n      <th>2390</th>\n      <td>9780393311037</td>\n      <td>0393311031</td>\n      <td>Hen's Teeth and Horse's Toes</td>\n      <td>NaN</td>\n      <td>Stephen Jay Gould</td>\n      <td>Nature</td>\n      <td>http://books.google.com/books/content?id=EPh9j...</td>\n      <td>A collection of essays answers questions about...</td>\n      <td>1994.0</td>\n      <td>4.10</td>\n      <td>416.0</td>\n      <td>1680.0</td>\n    </tr>\n    <tr>\n      <th>4475</th>\n      <td>9780744002539</td>\n      <td>0744002532</td>\n      <td>Final Fantasy® Origins Official Strategy Guide</td>\n      <td>NaN</td>\n      <td>Casey Loe;Laura M. Parkinson</td>\n      <td>Games</td>\n      <td>http://books.google.com/books/content?id=GEgFA...</td>\n      <td>Offers walkthroughs, area maps, strategies, eq...</td>\n      <td>2003.0</td>\n      <td>4.00</td>\n      <td>256.0</td>\n      <td>24.0</td>\n    </tr>\n    <tr>\n      <th>446</th>\n      <td>9780061196676</td>\n      <td>0061196673</td>\n      <td>Smithsonian Intimate Guide to Human Origins</td>\n      <td>NaN</td>\n      <td>Carl Zimmer</td>\n      <td>Social Science</td>\n      <td>http://books.google.com/books/content?id=xufuS...</td>\n      <td>From the savannas of Africa to modern-day labs...</td>\n      <td>2007.0</td>\n      <td>4.00</td>\n      <td>176.0</td>\n      <td>167.0</td>\n    </tr>\n    <tr>\n      <th>224</th>\n      <td>9780060652852</td>\n      <td>0060652853</td>\n      <td>C.S. Lewis</td>\n      <td>Readings for Meditation and Reflection</td>\n      <td>C. S. Lewis</td>\n      <td>Religion</td>\n      <td>http://books.google.com/books/content?id=vtr4N...</td>\n      <td>Known throughout the world as the intellect be...</td>\n      <td>1996.0</td>\n      <td>4.31</td>\n      <td>176.0</td>\n      <td>255.0</td>\n    </tr>\n  </tbody>\n</table>\n</div>",
            "application/vnd.dataresource+json": {
              "schema": {
                "pandas_version": "1.4.0",
                "primaryKey": [
                  "index"
                ],
                "fields": [
                  {
                    "name": "index",
                    "type": "integer"
                  },
                  {
                    "name": "isbn13",
                    "type": "integer"
                  },
                  {
                    "name": "isbn10",
                    "type": "string"
                  },
                  {
                    "name": "title",
                    "type": "string"
                  },
                  {
                    "name": "subtitle",
                    "type": "string"
                  },
                  {
                    "name": "authors",
                    "type": "string"
                  },
                  {
                    "name": "categories",
                    "type": "string"
                  },
                  {
                    "name": "thumbnail",
                    "type": "string"
                  },
                  {
                    "name": "description",
                    "type": "string"
                  },
                  {
                    "name": "published_year",
                    "type": "number"
                  },
                  {
                    "name": "average_rating",
                    "type": "number"
                  },
                  {
                    "name": "num_pages",
                    "type": "number"
                  },
                  {
                    "name": "ratings_count",
                    "type": "number"
                  }
                ]
              },
              "data": [
                {
                  "description": "Stranded in the remote mountains of the north after a plane crash, two strangers--strong-willed businesswoman Rusty Carlson and Vietnam vet Cooper Landry--must find a way to trust each other in order to survive the danger that surrounds them. Originally in paperback.",
                  "categories": "Fiction",
                  "published_year": 2007,
                  "subtitle": null,
                  "index": 4804,
                  "isbn13": 9780778324317,
                  "authors": "Sandra Brown",
                  "average_rating": 3.7,
                  "title": "Two Alone",
                  "ratings_count": 2055,
                  "thumbnail": "http://books.google.com/books/content?id=jEo-PgAACAAJ&printsec=frontcover&img=1&zoom=1&source=gbs_api",
                  "isbn10": "0778324311",
                  "num_pages": 282
                },
                {
                  "description": "What is a difficult conversation? Asking for a pay rise, saying 'no' to your boss or spouse, confronting a friend or neighbour, asking a difficult favour, apologizing. We all have conversations that we dread and find unpleasant. But can we develop the skills to make such situations less stressful and more productive? Based on fifteen years of research and consultations with thousands of people, DIFFICULT CONVERSATIONS pinpoints what works. Use this ground-breaking, step-by-step book to turnyour difficult conversations into positive, problem-solving experiences.",
                  "categories": "Psychology",
                  "published_year": 2000,
                  "subtitle": "How to Discuss what Matters Most",
                  "index": 733,
                  "isbn13": 9780140277821,
                  "authors": "Douglas Stone;Bruce Patton;Sheila Heen",
                  "average_rating": 4.07,
                  "title": "Difficult Conversations",
                  "ratings_count": 59,
                  "thumbnail": "http://books.google.com/books/content?id=5nHFQgAACAAJ&printsec=frontcover&img=1&zoom=1&source=gbs_api",
                  "isbn10": "014027782X",
                  "num_pages": 250
                },
                {
                  "description": "The untimely death of a young priest in training draws Commander Adam Dalgliesh back to East Anglia to investigate at the request of the young man's father, as Dalgliesh finds himself drawn into a complex and violent mystery.",
                  "categories": "Fiction",
                  "published_year": 2002,
                  "subtitle": null,
                  "index": 1854,
                  "isbn13": 9780345446664,
                  "authors": "P. D. James",
                  "average_rating": 3.92,
                  "title": "Death in Holy Orders",
                  "ratings_count": 9511,
                  "thumbnail": "http://books.google.com/books/content?id=WF2X14hnilMC&printsec=frontcover&img=1&zoom=1&source=gbs_api",
                  "isbn10": "0345446666",
                  "num_pages": 429
                },
                {
                  "description": "A collection of essays answers questions about key scientific concepts, focusing, in particular, on Darwin's theory of evolution, natural selection, and its impact on biology, natural history, and modern science",
                  "categories": "Nature",
                  "published_year": 1994,
                  "subtitle": null,
                  "index": 2390,
                  "isbn13": 9780393311037,
                  "authors": "Stephen Jay Gould",
                  "average_rating": 4.1,
                  "title": "Hen's Teeth and Horse's Toes",
                  "ratings_count": 1680,
                  "thumbnail": "http://books.google.com/books/content?id=EPh9jD0XwR4C&printsec=frontcover&img=1&zoom=1&source=gbs_api",
                  "isbn10": "0393311031",
                  "num_pages": 416
                },
                {
                  "description": "Offers walkthroughs, area maps, strategies, equiptment, and character profiles for both games.",
                  "categories": "Games",
                  "published_year": 2003,
                  "subtitle": null,
                  "index": 4475,
                  "isbn13": 9780744002539,
                  "authors": "Casey Loe;Laura M. Parkinson",
                  "average_rating": 4,
                  "title": "Final Fantasy® Origins Official Strategy Guide",
                  "ratings_count": 24,
                  "thumbnail": "http://books.google.com/books/content?id=GEgFAQAACAAJ&printsec=frontcover&img=1&zoom=1&source=gbs_api",
                  "isbn10": "0744002532",
                  "num_pages": 256
                },
                {
                  "description": "From the savannas of Africa to modern-day labs for biomechanical analysis and molecular genetics, Smithsonian Intimate Guide to Human Origins reveals how anthropologists are furiously redrawing the human family tree. Their discoveries have spawned a host of new questions: Should chimpanzees be included as a human species? Was it the physical difficulty of human childbirth that encouraged the development of social groups in early human species? Did humans and Neanderthals interbreed? Why did humans supplant Neanderthals in the end? In answering such questions, Smithsonian Intimate Guide to Human Origins sheds new light on one of the most important questions of all: What makes us human?",
                  "categories": "Social Science",
                  "published_year": 2007,
                  "subtitle": null,
                  "index": 446,
                  "isbn13": 9780061196676,
                  "authors": "Carl Zimmer",
                  "average_rating": 4,
                  "title": "Smithsonian Intimate Guide to Human Origins",
                  "ratings_count": 167,
                  "thumbnail": "http://books.google.com/books/content?id=xufuSNGg_vMC&printsec=frontcover&img=1&zoom=1&source=gbs_api",
                  "isbn10": "0061196673",
                  "num_pages": 176
                },
                {
                  "description": "Known throughout the world as the intellect behind The Chronicles of Narnia and as the twentieth century's most influential Christian writer, C. S. Lewis has stirred millions of readers through his probing insights, passionate arguments, and provocative questions about God, love, life, and death. Gathered from the mass of his published works -- including The Screwtape Letters, Mere Christianity, The Four Loves, and God in the Dock -- as well as from letters, essays, and less familiar writings, this compendium contains a cross section of Lewis's finest work.",
                  "categories": "Religion",
                  "published_year": 1996,
                  "subtitle": "Readings for Meditation and Reflection",
                  "index": 224,
                  "isbn13": 9780060652852,
                  "authors": "C. S. Lewis",
                  "average_rating": 4.31,
                  "title": "C.S. Lewis",
                  "ratings_count": 255,
                  "thumbnail": "http://books.google.com/books/content?id=vtr4NDL8AP8C&printsec=frontcover&img=1&zoom=1&source=gbs_api",
                  "isbn10": "0060652853",
                  "num_pages": 176
                }
              ]
            },
            "text/plain": "             isbn13      isbn10   \n4804  9780778324317  0778324311  \\\n733   9780140277821  014027782X   \n1854  9780345446664  0345446666   \n2390  9780393311037  0393311031   \n4475  9780744002539  0744002532   \n446   9780061196676  0061196673   \n224   9780060652852  0060652853   \n\n                                               title   \n4804                                       Two Alone  \\\n733                          Difficult Conversations   \n1854                            Death in Holy Orders   \n2390                    Hen's Teeth and Horse's Toes   \n4475  Final Fantasy® Origins Official Strategy Guide   \n446      Smithsonian Intimate Guide to Human Origins   \n224                                       C.S. Lewis   \n\n                                    subtitle   \n4804                                     NaN  \\\n733         How to Discuss what Matters Most   \n1854                                     NaN   \n2390                                     NaN   \n4475                                     NaN   \n446                                      NaN   \n224   Readings for Meditation and Reflection   \n\n                                     authors      categories   \n4804                            Sandra Brown         Fiction  \\\n733   Douglas Stone;Bruce Patton;Sheila Heen      Psychology   \n1854                             P. D. James         Fiction   \n2390                       Stephen Jay Gould          Nature   \n4475            Casey Loe;Laura M. Parkinson           Games   \n446                              Carl Zimmer  Social Science   \n224                              C. S. Lewis        Religion   \n\n                                              thumbnail   \n4804  http://books.google.com/books/content?id=jEo-P...  \\\n733   http://books.google.com/books/content?id=5nHFQ...   \n1854  http://books.google.com/books/content?id=WF2X1...   \n2390  http://books.google.com/books/content?id=EPh9j...   \n4475  http://books.google.com/books/content?id=GEgFA...   \n446   http://books.google.com/books/content?id=xufuS...   \n224   http://books.google.com/books/content?id=vtr4N...   \n\n                                            description  published_year   \n4804  Stranded in the remote mountains of the north ...          2007.0  \\\n733   What is a difficult conversation? Asking for a...          2000.0   \n1854  The untimely death of a young priest in traini...          2002.0   \n2390  A collection of essays answers questions about...          1994.0   \n4475  Offers walkthroughs, area maps, strategies, eq...          2003.0   \n446   From the savannas of Africa to modern-day labs...          2007.0   \n224   Known throughout the world as the intellect be...          1996.0   \n\n      average_rating  num_pages  ratings_count  \n4804            3.70      282.0         2055.0  \n733             4.07      250.0           59.0  \n1854            3.92      429.0         9511.0  \n2390            4.10      416.0         1680.0  \n4475            4.00      256.0           24.0  \n446             4.00      176.0          167.0  \n224             4.31      176.0          255.0  "
          },
          "output_type": "execute_result",
          "execution_count": 7
        }
      ]
    },
    {
      "metadata": {
        "jupyter_d1": {
          "position": 7,
          "uuid": "bdefebfd-f476-4651-8b9b-3ae83f0ca45e",
          "execution_state": "idle",
          "path": null,
          "working_directory": null,
          "notebook_uuid": "1648cbed-5b80-4805-98bb-bec4d190d18d",
          "name": null
        }
      },
      "id": "9b68d6eb",
      "source": "df.sample(frac=0.07)\n",
      "cell_type": "code",
      "execution_count": 8,
      "outputs": [
        {
          "metadata": {},
          "data": {
            "text/html": "<div>\n<style scoped>\n    .dataframe tbody tr th:only-of-type {\n        vertical-align: middle;\n    }\n\n    .dataframe tbody tr th {\n        vertical-align: top;\n    }\n\n    .dataframe thead th {\n        text-align: right;\n    }\n</style>\n<table border=\"1\" class=\"dataframe\">\n  <thead>\n    <tr style=\"text-align: right;\">\n      <th></th>\n      <th>isbn13</th>\n      <th>isbn10</th>\n      <th>title</th>\n      <th>subtitle</th>\n      <th>authors</th>\n      <th>categories</th>\n      <th>thumbnail</th>\n      <th>description</th>\n      <th>published_year</th>\n      <th>average_rating</th>\n      <th>num_pages</th>\n      <th>ratings_count</th>\n    </tr>\n  </thead>\n  <tbody>\n    <tr>\n      <th>886</th>\n      <td>9780141180366</td>\n      <td>0141180366</td>\n      <td>Finding time again</td>\n      <td>NaN</td>\n      <td>Marcel Proust</td>\n      <td>Fiction</td>\n      <td>http://books.google.com/books/content?id=heRcA...</td>\n      <td>Since the original, prewar translation there h...</td>\n      <td>2003.0</td>\n      <td>4.48</td>\n      <td>374.0</td>\n      <td>168.0</td>\n    </tr>\n    <tr>\n      <th>386</th>\n      <td>9780060976095</td>\n      <td>0060976098</td>\n      <td>Fiskadoro</td>\n      <td>NaN</td>\n      <td>Denis Johnson</td>\n      <td>Fiction</td>\n      <td>http://books.google.com/books/content?id=YSTe7...</td>\n      <td>Hailed by the New York Times as \"wildly ambiti...</td>\n      <td>1995.0</td>\n      <td>3.54</td>\n      <td>221.0</td>\n      <td>1463.0</td>\n    </tr>\n    <tr>\n      <th>3404</th>\n      <td>9780553103748</td>\n      <td>0553103741</td>\n      <td>The Illustrated a Brief History of Time</td>\n      <td>NaN</td>\n      <td>Stephen Hawking</td>\n      <td>Science</td>\n      <td>http://books.google.com/books/content?id=wDr8u...</td>\n      <td>An illustrated, large-format edition of the be...</td>\n      <td>1996.0</td>\n      <td>4.16</td>\n      <td>256.0</td>\n      <td>750.0</td>\n    </tr>\n    <tr>\n      <th>2859</th>\n      <td>9780446359207</td>\n      <td>0446359203</td>\n      <td>Carrion Comfort</td>\n      <td>NaN</td>\n      <td>Dan Simmons</td>\n      <td>Fiction</td>\n      <td>http://books.google.com/books/content?id=37wWp...</td>\n      <td>Three elderly friends, who possess supernatura...</td>\n      <td>1990.0</td>\n      <td>3.90</td>\n      <td>884.0</td>\n      <td>15056.0</td>\n    </tr>\n    <tr>\n      <th>6700</th>\n      <td>9781904271062</td>\n      <td>1904271065</td>\n      <td>King Henry IV Part 2</td>\n      <td>Second Series</td>\n      <td>William Shakespeare;A. R. Humphreys</td>\n      <td>Drama</td>\n      <td>http://books.google.com/books/content?id=AG4h-...</td>\n      <td>A. R. Humphreyswas Professor of English at Lei...</td>\n      <td>1967.0</td>\n      <td>3.80</td>\n      <td>336.0</td>\n      <td>241.0</td>\n    </tr>\n    <tr>\n      <th>...</th>\n      <td>...</td>\n      <td>...</td>\n      <td>...</td>\n      <td>...</td>\n      <td>...</td>\n      <td>...</td>\n      <td>...</td>\n      <td>...</td>\n      <td>...</td>\n      <td>...</td>\n      <td>...</td>\n      <td>...</td>\n    </tr>\n    <tr>\n      <th>1586</th>\n      <td>9780312890186</td>\n      <td>0312890184</td>\n      <td>Sword &amp; Citadel</td>\n      <td>The Second Half of 'The Book of the New Sun'</td>\n      <td>Gene Wolfe</td>\n      <td>Fiction</td>\n      <td>http://books.google.com/books/content?id=cMwvc...</td>\n      <td>\"The Citadel of the Autarch brings The Book of...</td>\n      <td>1994.0</td>\n      <td>4.31</td>\n      <td>411.0</td>\n      <td>9103.0</td>\n    </tr>\n    <tr>\n      <th>2164</th>\n      <td>9780375822971</td>\n      <td>0375822976</td>\n      <td>Big Dog ... Little Dog</td>\n      <td>NaN</td>\n      <td>NaN</td>\n      <td>Juvenile Fiction</td>\n      <td>http://books.google.com/books/content?id=O8haA...</td>\n      <td>Two dogs are opposite in every way but are the...</td>\n      <td>2003.0</td>\n      <td>4.11</td>\n      <td>48.0</td>\n      <td>86.0</td>\n    </tr>\n    <tr>\n      <th>1549</th>\n      <td>9780312422240</td>\n      <td>0312422245</td>\n      <td>The Interpreter</td>\n      <td>A Novel</td>\n      <td>Suki Kim</td>\n      <td>Fiction</td>\n      <td>http://books.google.com/books/content?id=pPNsE...</td>\n      <td>Working as a interpreter for the New York City...</td>\n      <td>2003.0</td>\n      <td>3.55</td>\n      <td>304.0</td>\n      <td>917.0</td>\n    </tr>\n    <tr>\n      <th>2880</th>\n      <td>9780446604406</td>\n      <td>0446604402</td>\n      <td>The Laws of Our Fathers</td>\n      <td>NaN</td>\n      <td>Scott Turow</td>\n      <td>Fiction</td>\n      <td>http://books.google.com/books/content?id=qsCa3...</td>\n      <td>In Kindle County, a woman is killed in an appa...</td>\n      <td>1997.0</td>\n      <td>3.75</td>\n      <td>817.0</td>\n      <td>3559.0</td>\n    </tr>\n    <tr>\n      <th>2223</th>\n      <td>9780380809066</td>\n      <td>0380809060</td>\n      <td>The Great Book of Amber</td>\n      <td>The Complete Amber Chronicles, 1-10</td>\n      <td>Roger Zelazny</td>\n      <td>Fiction</td>\n      <td>http://books.google.com/books/content?id=_Z93A...</td>\n      <td>Roger Zelazny's Chronicles of Amber have earne...</td>\n      <td>1999.0</td>\n      <td>4.30</td>\n      <td>1258.0</td>\n      <td>22974.0</td>\n    </tr>\n  </tbody>\n</table>\n<p>477 rows × 12 columns</p>\n</div>",
            "application/vnd.dataresource+json": {
              "schema": {
                "pandas_version": "1.4.0",
                "primaryKey": [
                  "index"
                ],
                "fields": [
                  {
                    "name": "index",
                    "type": "integer"
                  },
                  {
                    "name": "isbn13",
                    "type": "integer"
                  },
                  {
                    "name": "isbn10",
                    "type": "string"
                  },
                  {
                    "name": "title",
                    "type": "string"
                  },
                  {
                    "name": "subtitle",
                    "type": "string"
                  },
                  {
                    "name": "authors",
                    "type": "string"
                  },
                  {
                    "name": "categories",
                    "type": "string"
                  },
                  {
                    "name": "thumbnail",
                    "type": "string"
                  },
                  {
                    "name": "description",
                    "type": "string"
                  },
                  {
                    "name": "published_year",
                    "type": "number"
                  },
                  {
                    "name": "average_rating",
                    "type": "number"
                  },
                  {
                    "name": "num_pages",
                    "type": "number"
                  },
                  {
                    "name": "ratings_count",
                    "type": "number"
                  }
                ]
              },
              "data": [
                {
                  "description": "Since the original, prewar translation there has been no completely new rendering of the French original into English. This translation brings to the fore a more sharply engaged, comic and lucid Proust. IN SEARCH OF LOST TIME is one of the greatest, most entertaining reading experiences in any language. As the great story unfolds from its magical opening scenes to its devastating end, it is the Penguin Proust that makes Proust accessible to a new generation. Each book is translated by a different, superb translator working under the general editorship of Professor Christopher Prendergast, University of Cambridge.",
                  "categories": "Fiction",
                  "published_year": 2003,
                  "subtitle": null,
                  "index": 886,
                  "isbn13": 9780141180366,
                  "authors": "Marcel Proust",
                  "average_rating": 4.48,
                  "title": "Finding time again",
                  "ratings_count": 168,
                  "thumbnail": "http://books.google.com/books/content?id=heRcAAAAMAAJ&printsec=frontcover&img=1&zoom=1&source=gbs_api",
                  "isbn10": "0141180366",
                  "num_pages": 374
                },
                {
                  "description": "Hailed by the New York Times as \"wildly ambitious\" and \"the sort of book that a young Herman Melville might have written had he lived today and studied such disparate works as the Bible, 'The Wasteland,' Fahrenheit 451, and Dog Soldiers, screened Star Wars and Apocalypse Now several times, dropped a lot of acid and listened to hours of Jimi Hendrix and the Rolling Stones,\" Fiskadoro is a stunning novel of an all-too-possible tomorrow. Deeply moving and provacative, Fiskadoro brilliantly presents the sweeping and heartbreaking tale of the survivors of a devastating nuclear war and their attempts to breaking tale of the survivors of a devastating nuclear war and their attempts to salvage remnants of the old world and rebuild their culture.",
                  "categories": "Fiction",
                  "published_year": 1995,
                  "subtitle": null,
                  "index": 386,
                  "isbn13": 9780060976095,
                  "authors": "Denis Johnson",
                  "average_rating": 3.54,
                  "title": "Fiskadoro",
                  "ratings_count": 1463,
                  "thumbnail": "http://books.google.com/books/content?id=YSTe7qSIA0wC&printsec=frontcover&img=1&zoom=1&source=gbs_api",
                  "isbn10": "0060976098",
                  "num_pages": 221
                },
                {
                  "description": "An illustrated, large-format edition of the best-seller has been expanded to encompass the remarkable advances that have occurred in science and technology over the past eight years, with a new chapter on Wormholes and Time Travel and more than 240 full-color, captioned illustrations. 100,000 first printing.",
                  "categories": "Science",
                  "published_year": 1996,
                  "subtitle": null,
                  "index": 3404,
                  "isbn13": 9780553103748,
                  "authors": "Stephen Hawking",
                  "average_rating": 4.16,
                  "title": "The Illustrated a Brief History of Time",
                  "ratings_count": 750,
                  "thumbnail": "http://books.google.com/books/content?id=wDr8uQ_vITQC&printsec=frontcover&img=1&zoom=1&source=gbs_api",
                  "isbn10": "0553103741",
                  "num_pages": 256
                },
                {
                  "description": "Three elderly friends, who possess supernatural powers and who feed off of emotions generated during the murders they orchestrate, meet every year to discuss their game--an ongoing competition of mass murder and vampirism",
                  "categories": "Fiction",
                  "published_year": 1990,
                  "subtitle": null,
                  "index": 2859,
                  "isbn13": 9780446359207,
                  "authors": "Dan Simmons",
                  "average_rating": 3.9,
                  "title": "Carrion Comfort",
                  "ratings_count": 15056,
                  "thumbnail": "http://books.google.com/books/content?id=37wWp0ENPXgC&printsec=frontcover&img=1&zoom=1&source=gbs_api",
                  "isbn10": "0446359203",
                  "num_pages": 884
                },
                {
                  "description": "A. R. Humphreyswas Professor of English at Leicester University. He also editedKing Henry IV Part 1and Much Ado About Nothing for the Arden Second Series,King Henry VandKing Henry VIIIfor Penguin, andJulius Caesarfor the Oxford Shakespeare. In the introduction to this Arden edition ofKing Henry IV Part 2, A. R. Humphreys begins by discussing the original publication of the play, the establishing of its date, and the extent to which Shakespeare took liberties with historical facts in 1and2 Henry IV. The editor proceeds to examine the relationship between the twoHenry IVplays, considering historical evidence and previous critical analysis. In the following section, Humphreys analyzes the several probable sources for the play, six of which appear in full in an appendix. Later in the introduction, the editor devotes substantial sections of his own criticism to the play's style and themes, with individual sections dedicated to Falstaff and the infamous scene of his rejection by Prince Hal. Humphreys finally dissects problems of the early texts, going over the nuances of the Quarto and Folio editions and comparing the two. Before the actual text of the play, notes are given on the particularities of this edition and its references and abbreviations. Following the text ofKing Henry IV Part 2are eight appendices: \"Source Material\"; \"Hall probably not a Source\"; \"II. i. 88: The Singing-Man of Windsor\"; \"Justice Shallow and Gloucestershire\"; \"Gaultree\"; \"The Continuity of Scenes in Act IV, i-ii, and iv-v\"; \"IV. v. 20-30: 'Why doth the crown lie there . . .'\"; and \"Henry and the Crusade.\" The Arden Shakespearehas developed a reputation as the pre-eminent critical edition of Shakespeare for its exceptional scholarship, reflected in the thoroughness of each volume. An introduction comprehensively contextualizes the play, chronicling the history and culture that surrounded and influenced Shakespeare at the time of its writing and performance, and closely surveying critical approaches to the work. Detailed appendices address problems like dating and casting, and analyze the differing Quarto and Folio sources. A full commentary by one or more of the play’s foremost contemporary scholars illuminates the text, glossing unfamiliar terms and drawing from an abundance of research and expertise to explain allusions and significant background information. Highly informative and accessible, Arden offers the fullest experience of Shakespeare available to a reader. Table of Contents Preface INTRODUCTION 1. Publication 2. Date 3. The Extent of Revision (i) Changes of Names (ii) Further Revisions? 4. The Relationship to1 Henry IV 5. The Main Sources (i) Holinshed (ii) Daniel (iii) Stow (iv) Elyot (v)A Myrroure for Magistrates (vi) The “Wild Prince Hal” Stories (vii)The Famous Victories of Henry the Fifth (viii) Other Prince Hal Plays? 6. Themes and their Treatment (i) Richard and Henry (ii) Henry and Necessity (iii) Statecraft and Morality (iv) Miscalculation (v) Anarchy (vi) Age and Disease (vii) Life in Place and Time 7. Falstaff 8. The Rejection 9. The Style and its Functions 10. The Text (i) The Transmission of the Text (ii) The Cuts in the Quarto (iii) The Copy for the Folio (iv) Comparison of the Quarto and Folio Texts (v) The Folio Text independent of the Quarto? (vi) The Folio Text not independent of the Quarto? (vii) The Answer? (viii) The Dering Manuscript 11. Editorial Methods 12. References and Abbreviations THE SECOND PART OF KING HENRY THE FOURTH APPENDICES I. Source Material 1. Holinshed 2. Daniel 3. Stow 4. Elyot 5.The Famous Victories of Henry the Fifth 6. John Eliot:Ortho-epia Gallica II. Hall probably not a Source III. II. i. 88: The Singing-Man of Windsor IV. Justice Shallow and Gloucestershire V. Gaultree VI. The Continuity of Scenes in Act IV, i-ii, and iv-v VII. IV. v. 20-30: “Why doth the crown lie there . . .” VIII. Henry and the Crusade",
                  "categories": "Drama",
                  "published_year": 1967,
                  "subtitle": "Second Series",
                  "index": 6700,
                  "isbn13": 9781904271062,
                  "authors": "William Shakespeare;A. R. Humphreys",
                  "average_rating": 3.8,
                  "title": "King Henry IV Part 2",
                  "ratings_count": 241,
                  "thumbnail": "http://books.google.com/books/content?id=AG4h-0aUbmwC&printsec=frontcover&img=1&zoom=1&edge=curl&source=gbs_api",
                  "isbn10": "1904271065",
                  "num_pages": 336
                },
                {
                  "description": "Blending elements of reminiscence and cultural commentary, the award-winning author of Motherless Brooklyn presents a series of imaginative essays that address a wide range of cultural obsessions, in such works as \"Defending The Searchers,\" \"Identifying with Your Parents,\" and \"13/1977/21,\" about the summer he saw Star Wars twenty-one times. Reprint. 17,500 first printing.",
                  "categories": "Literary Collections",
                  "published_year": 2006,
                  "subtitle": "And Other Essays",
                  "index": 5758,
                  "isbn13": 9781400076819,
                  "authors": "Jonathan Lethem",
                  "average_rating": 3.63,
                  "title": "The Disappointment Artist",
                  "ratings_count": 1594,
                  "thumbnail": "http://books.google.com/books/content?id=fzPCLnirSOEC&printsec=frontcover&img=1&zoom=1&source=gbs_api",
                  "isbn10": "1400076811",
                  "num_pages": 149
                },
                {
                  "description": "The Glass House, designed by celebrated architect Philip Johnson as a personal retreat, is an icon of modern architecture. A crystalline box set in a serene New England landscape, the house is now owned by the National Trust for Historic Preservation, which will open it to visitors in April 2007. Johnson used his property near New Canaan, Connecticut, as an architectural laboratory, adding nine additional structures over a forty-year period. Among them are the Ghost House, a chain-link tribute to Frank Gehry, and the witty, bright red Gate House. Glass House is a unique presentation of the Glass House complex in words and photographs. Compiled by eminent critic Toshio Nakamura under the sponsorship of YKK AP Inc., the volume features a specially commissioned suite of photographs, taken throughout the four seasons, by renowned architectural photographer Michael Moran, including cross-processed images and images taken with infrared film. The deluxe graphic presentation, with distinctive paper stocks and foldout pages reproducing Johnson's original drawings, was conceived by designer Michael Rock of 2x4.",
                  "categories": "Architecture",
                  "published_year": 2007,
                  "subtitle": null,
                  "index": 6232,
                  "isbn13": 9781580931861,
                  "authors": "Toshio Nakamura",
                  "average_rating": 4,
                  "title": "Glass House",
                  "ratings_count": 14,
                  "thumbnail": "http://books.google.com/books/content?id=SWbIPQAACAAJ&printsec=frontcover&img=1&zoom=1&source=gbs_api",
                  "isbn10": "1580931863",
                  "num_pages": 256
                },
                {
                  "description": "The brilliant new novel from the bestselling cult author of them all. Susan and John need to disappear -- Susan and John need to find each other. Meet Susan Colgate -- Miss Wyoming. Winner of a hundred teen pageants, child TV soap star, owner of a hideously pushy mother... and now reduced to small, brainless parts in small, brainless movies. Oh, and sole survivor of Flight 802. If she were to walk away from the wreckage now, before the emergency crews get here, she could disappear and nobody would ever know... Meet John Johnson -- action film producer (Bel Air P. I... um, Bel Air P. I. 2), occasional sado-masochist, junkie. He just died -- but only for 5 minutes. But while he was gone, he saw a vision of a woman's face and realized that it was time to escape, to ditch the baggage of being horny, rich, lonely John Johnson and to lose himself. To disappear. Wouldn't it be nice if they were to find themselves and get together?In many ways a reprise of Girlfriend in a Coma, Miss Wyoming represents a further leap forwards into the World According to Coupland -- a witty, genuinely funny look at who we are, how we can change, and how we can make a difference.",
                  "categories": "Actors",
                  "published_year": 2004,
                  "subtitle": null,
                  "index": 86,
                  "isbn13": 9780007179824,
                  "authors": "Douglas Coupland",
                  "average_rating": 3.48,
                  "title": "Miss Wyoming",
                  "ratings_count": 110,
                  "thumbnail": "http://books.google.com/books/content?id=2zoTKFNdxpIC&printsec=frontcover&img=1&zoom=1&source=gbs_api",
                  "isbn10": "0007179820",
                  "num_pages": 320
                },
                {
                  "description": "Argues that happiness can be a learned and cultivated behavior, explaining how every person possesses at least five of twenty-four profiled strengths that can be built on in order to improve life.",
                  "categories": "Psychology",
                  "published_year": 2004,
                  "subtitle": "Using the New Positive Psychology to Realize Your Potential for Lasting Fulfillment",
                  "index": 4326,
                  "isbn13": 9780743222983,
                  "authors": "Martin E. P. Seligman",
                  "average_rating": 3.95,
                  "title": "Authentic Happiness",
                  "ratings_count": 8200,
                  "thumbnail": "http://books.google.com/books/content?id=CM9tBAAAQBAJ&printsec=frontcover&img=1&zoom=1&edge=curl&source=gbs_api",
                  "isbn10": "0743222989",
                  "num_pages": 336
                },
                {
                  "description": "First published in 1990. Routledge is an imprint of Taylor & Francis, an informa company.",
                  "categories": "Biography & Autobiography",
                  "published_year": 1988,
                  "subtitle": "Her Life, Her Fiction, Her Monsters",
                  "index": 2545,
                  "isbn13": 9780415901475,
                  "authors": "Anne Kostelanetz Mellor",
                  "average_rating": 3.93,
                  "title": "Mary Shelley",
                  "ratings_count": 75,
                  "thumbnail": "http://books.google.com/books/content?id=aCZQnS9S6EwC&printsec=frontcover&img=1&zoom=1&edge=curl&source=gbs_api",
                  "isbn10": "0415901472",
                  "num_pages": 308
                },
                {
                  "description": "Mary, Queen of Scots, was one of history's most romantically tragic figures. Her endless plotting eventually led her to flee from Scotland and be imprisoned by her equally ambitious cousin and fellow queen--Elizabeth of England--who later ordered Mary to be beheaded in 1587. This book looks at her tragedy. of photos.",
                  "categories": "Biography & Autobiography",
                  "published_year": 2001,
                  "subtitle": "Pride, Passion and a Kingdom Lost",
                  "index": 6620,
                  "isbn13": 9781860645884,
                  "authors": "Jenny Wormald",
                  "average_rating": 3.71,
                  "title": "Mary, Queen of Scots",
                  "ratings_count": 37,
                  "thumbnail": "http://books.google.com/books/content?id=5XtL-F1LKUcC&printsec=frontcover&img=1&zoom=1&source=gbs_api",
                  "isbn10": "1860645887",
                  "num_pages": 224
                },
                {
                  "description": "In the land of Ingary, such things as spells, invisible cloaks, and seven-league boots were everyday things. The Witch of the Waste was another matter. After fifty years of quiet, it was rumored that the Witch was about to terrorize the country again. So when a moving black castle, blowing dark smoke from its four thin turrets, appeared on the horizon, everyone thought it was the Witch. The castle, however, belonged to Wizard Howl, who, it was said, liked to suck the souls of young girls. The Hatter sisters--Sophie, Lettie, and Martha--and all the other girls were warned not to venture into the streets alone. But that was only the beginning. In this giant jigsaw puzzle of a fantasy, people and things are never quite what they seem. Destinies are intertwined, identities exchanged, lovers confused. The Witch has placed a spell on Howl. Does the clue to breaking it lie in a famous poem? And what will happen to Sophie Hatter when she enters Howl's castle? Diana Wynne Jones's entrancing fantasy is filled with surprises at every turn, but when the final stormy duel between the Witch and the Wizard is finished, all the pieces fall magically into place.",
                  "categories": "Juvenile Fiction",
                  "published_year": 2001,
                  "subtitle": null,
                  "index": 499,
                  "isbn13": 9780064410342,
                  "authors": "Diana Wynne Jones",
                  "average_rating": 4.3,
                  "title": "Howl's Moving Castle",
                  "ratings_count": 148957,
                  "thumbnail": "http://books.google.com/books/content?id=f3RHPfF7uCwC&printsec=frontcover&img=1&zoom=1&source=gbs_api",
                  "isbn10": "006441034X",
                  "num_pages": 329
                },
                {
                  "description": "With a special section on Donald Barthelme, including remembrances from Ann Beattie, David Gates, and Oscar Hijuelos, and some of Barthelme's barely published and never-collected early work, and a highly theoretical but potentially amazing Z-binding that we can't describe very well here, or even to each other, McSweeney's 24 will never be mistaken for anything else. (Except possibly the June 1978 issue of Popular Mechanics.)",
                  "categories": "Fiction",
                  "published_year": 2007,
                  "subtitle": null,
                  "index": 6754,
                  "isbn13": 9781932416770,
                  "authors": "Dave Eggers",
                  "average_rating": 3.81,
                  "title": "McSweeney's",
                  "ratings_count": 275,
                  "thumbnail": "http://books.google.com/books/content?id=o7cuHQAACAAJ&printsec=frontcover&img=1&zoom=1&source=gbs_api",
                  "isbn10": "1932416773",
                  "num_pages": 300
                },
                {
                  "description": "A history of the Basque people of Spain speculates on the origins of this enigmatic group of Europeans whose language and culture have long baffled anthropologists. Reprint.",
                  "categories": "History",
                  "published_year": 1999,
                  "subtitle": null,
                  "index": 755,
                  "isbn13": 9780140298512,
                  "authors": "Mark Kurlansky",
                  "average_rating": 3.84,
                  "title": "The Basque History of the World",
                  "ratings_count": 3259,
                  "thumbnail": "http://books.google.com/books/content?id=9P0gvGJSwJoC&printsec=frontcover&img=1&zoom=1&source=gbs_api",
                  "isbn10": "0140298517",
                  "num_pages": 400
                },
                {
                  "description": "The ruthless and cruel Emma causes a great many problems for Mrs. Chalfont, the narrator, and for the abandoned child, Martina, in a new completion of Charlotte Bronte's last, unfinished novel",
                  "categories": "Fiction",
                  "published_year": 1983,
                  "subtitle": null,
                  "index": 3420,
                  "isbn13": 9780553234312,
                  "authors": "Charlotte Brontë;Jane Austen",
                  "average_rating": 3.99,
                  "title": "Emma",
                  "ratings_count": 4672,
                  "thumbnail": null,
                  "isbn10": "0553234315",
                  "num_pages": 215
                },
                {
                  "description": "Provides an account of the 1990s research in Greenland that revealed a history of global climatic change, and suggests that \"switches\" and \"dials\" that control Earth's climate may cause severe weather changes in the future.",
                  "categories": "Science",
                  "published_year": 2002,
                  "subtitle": "Ice Cores, Abrupt Climate Change, and Our Future",
                  "index": 4222,
                  "isbn13": 9780691102962,
                  "authors": "Richard B. Alley",
                  "average_rating": 3.99,
                  "title": "The Two-Mile Time Machine",
                  "ratings_count": 139,
                  "thumbnail": "http://books.google.com/books/content?id=oSEQG31t2tIC&printsec=frontcover&img=1&zoom=1&source=gbs_api",
                  "isbn10": "0691102961",
                  "num_pages": 229
                },
                {
                  "description": "As an unearthly adversary descends on an idyllic fantasy world, corrupting magic against good and slaughtering innocents, Richard Rahl stands against the forces that threaten to destroy the world.",
                  "categories": "Fiction",
                  "published_year": 1998,
                  "subtitle": "Wizard's First Rule / Stone of Tears / Blood of the Fold",
                  "index": 5197,
                  "isbn13": 9780812575606,
                  "authors": "Terry Goodkind",
                  "average_rating": 4.29,
                  "title": "The Sword of Truth",
                  "ratings_count": 4110,
                  "thumbnail": "http://books.google.com/books/content?id=helnNwAACAAJ&printsec=frontcover&img=1&zoom=1&source=gbs_api",
                  "isbn10": "0812575601",
                  "num_pages": 2480
                },
                {
                  "description": "\"This is not a book about charismatic visionary leaders. It is not about visionary product concepts or visionary products or visionary market insights. Nor is it about just having a corporate vision. This is a book about something far more important, enduring, and substantial. This is a book about visionary companies.\" So write Jim Collins and Jerry Porras in this groundbreaking book that shatters myths, provides new insights, and gives practical guidance to those who would like to build landmark companies that stand the test of time. Drawing upon a six-year research project at the Stanford University Graduate School of Business, Collins and Porras took eighteen truly exceptional and long-lasting companies -- they have an average age of nearly one hundred years and have outperformed the general stock market by a factor of fifteen since 1926 -- and studied each company in direct comparison to one of its top competitors. They examined the companies from their very beginnings to the present day -- as start-ups, as midsize companies, and as large corporations. Throughout, the authors asked: \"What makes the truly exceptional companies different from other companies?\" What separates General Electric, 3M, Merck, Wal-Mart, Hewlett-Packard, Walt Disney, and Philip Morris from their rivals? How, for example, did Procter & Gamble, which began life substantially behind rival Colgate, eventually prevail as the premier institution in its industry? How was Motorola able to move from a humble battery repair business into integrated circuits and cellular communications, while Zenith never became dominant in anything other than TVs? How did Boeing unseat McDonnell Douglas as the world's best commercial aircraft company -- what did Boeing have that McDonnell Douglas lacked? By answering such questions, Collins and Porras go beyond the incessant barrage of management buzzwords and fads of the day to discover timeless qualities that have consistently distinguished out-standing companies. They also provide inspiration to all executives and entrepreneurs by destroying the false but widely accepted idea that only charismatic visionary leaders can build visionary companies. Filled with hundreds of specific examples and organized into a coherent framework of practical concepts that can be applied by managers and entrepreneurs at all levels, Built to Last provides a master blueprint for building organizations that will prosper long into the twenty-first century and beyond.",
                  "categories": "Business & Economics",
                  "published_year": 2004,
                  "subtitle": "Successful Habits of Visionary Companies",
                  "index": 185,
                  "isbn13": 9780060566104,
                  "authors": "Jim Collins;Jerry I. Porras",
                  "average_rating": 3.98,
                  "title": "Built to Last",
                  "ratings_count": 49529,
                  "thumbnail": "http://books.google.com/books/content?id=lRNtHbvDgRgC&printsec=frontcover&img=1&zoom=1&source=gbs_api",
                  "isbn10": "0060566108",
                  "num_pages": 368
                },
                {
                  "description": "With an Introduction and Notes by R.T.Jones, Honorary Fellow of the University of York. The novel follows the life of its eponymous heroine, Moll Flanders, through its many vicissitudes, which include her early seduction, careers in crime and prostitution, conviction for theft and transportation to the plantations of Virginia, and her ultimate redemption and prosperity in the New World. 'Moll Flanders' was one of the first social novels to be published in English and draws heavily on Defoe's experience of the topography and social conditions prevailing in the London of the late 17th century. AUTHOR: Born Daniel Foe in London in 1660, Defoe was a prodigious writer on many subjects, producing over 500 books, pamphlets and articles. He is now remembered for his novels, primarily 'The Life and Strange Suprizing Adventures of Robinson Crusoe, of York' and 'The Fortunes and Misfortunes of the Famous Moll Flanders' and is considered to be one of the key figures in establishing the format of the English novel.",
                  "categories": "Fiction",
                  "published_year": 1993,
                  "subtitle": null,
                  "index": 6568,
                  "isbn13": 9781853260735,
                  "authors": "Daniel Defoe",
                  "average_rating": 3.52,
                  "title": "Moll Flanders",
                  "ratings_count": 34477,
                  "thumbnail": "http://books.google.com/books/content?id=kzuSuZj03P8C&printsec=frontcover&img=1&zoom=1&edge=curl&source=gbs_api",
                  "isbn10": "1853260738",
                  "num_pages": 339
                },
                {
                  "description": "Having found a dollhouse full of dolls in the orphanage where she leads an unhappy existence, Lucie creates a secret life for herself.",
                  "categories": "Juvenile Fiction",
                  "published_year": 1993,
                  "subtitle": null,
                  "index": 2195,
                  "isbn13": 9780380718122,
                  "authors": "Sylvia Cassedy",
                  "average_rating": 3.75,
                  "title": "Lucie Babbidge's House",
                  "ratings_count": 160,
                  "thumbnail": "http://books.google.com/books/content?id=5RyCPwAACAAJ&printsec=frontcover&img=1&zoom=1&source=gbs_api",
                  "isbn10": "038071812X",
                  "num_pages": 242
                },
                {
                  "description": "The life and accomplishments of one of America's most famous ballerinas is highlighted in this monumental portrait of Suzanne Farrell, the celebrated muse to George Balanchine. (Performing Arts)",
                  "categories": "Biography & Autobiography",
                  "published_year": 2002,
                  "subtitle": "An Autobiography",
                  "index": 5240,
                  "isbn13": 9780813025933,
                  "authors": "Suzanne Farrell;Toni Bentley",
                  "average_rating": 4.07,
                  "title": "Holding on to the Air",
                  "ratings_count": 511,
                  "thumbnail": "http://books.google.com/books/content?id=fGKlQgAACAAJ&printsec=frontcover&img=1&zoom=1&source=gbs_api",
                  "isbn10": "0813025931",
                  "num_pages": 352
                },
                {
                  "description": "At an exclusive boarding school, a sixteen-year-old girl records her most intimate thoughts in a diary. The object of her growing obsession is her roommate, Lucy Blake, and Lucy's friendship with her new and disturbing classmate. Ernessa is a mysterious, moody presence with pale skin and hypnotic eyes. Around her swirl dark rumours, suspicions and secrets as well as a series of ominous disasters. As fear spreads through the school, what is true and what is dreamed bleed together into a waking nightmare of gothic menace, fuelled by the anxieties, lusts and fears of adolescence. At the centre of the diary is the question that haunts all who read it: Is Ernessa really a vampire? Or has the narrator trapped herself in her own fevered imagination?",
                  "categories": "Boarding schools",
                  "published_year": 2005,
                  "subtitle": null,
                  "index": 3618,
                  "isbn13": 9780571219711,
                  "authors": "Rachel Klein",
                  "average_rating": 3.49,
                  "title": "The Moth Diaries",
                  "ratings_count": 59,
                  "thumbnail": "http://books.google.com/books/content?id=94hfPgAACAAJ&printsec=frontcover&img=1&zoom=1&source=gbs_api",
                  "isbn10": "0571219713",
                  "num_pages": 245
                },
                {
                  "description": "Recounts the chivalrous exploits of an empty suit of armor and the separate halves of a nobleman who has been bisected by a cannon ball",
                  "categories": "Fiction",
                  "published_year": 1977,
                  "subtitle": null,
                  "index": 1154,
                  "isbn13": 9780156659758,
                  "authors": "Italo Calvino",
                  "average_rating": 4.03,
                  "title": "The Nonexistent Knight & The Cloven Viscount",
                  "ratings_count": 4585,
                  "thumbnail": "http://books.google.com/books/content?id=xti83ZDjUiAC&printsec=frontcover&img=1&zoom=1&source=gbs_api",
                  "isbn10": "0156659751",
                  "num_pages": 272
                },
                {
                  "description": "Chronicling the life and death of the father of western philosophy, and charting his influence on the most influential ancient Greek philosophers, Plato's The Last Days of Socrates is translated from the Greek by Hugh Tredennick, revised with an introduction and notes by Harold Tarrant in Penguin Classics. The trial and condemnation of Socrates on charges of heresy and corrupting young minds is a defining moment in the history of Classical Athens. In tracing these events through four dialogues, Plato also developed his own philosophy, based on Socrates' manifesto for a life guided by self-responsibility. Euthyphro finds Socrates outside the court-house, debating the nature of piety, while the Apology is his robust rebuttal of the charges of impiety and a defence of the philosopher's life. In the Crito, while awaiting execution in prison, Socrates counters the arguments of friends urging him to escape. Finally, in the Phaedo, he is shown calmly confident in the face of death, skilfully arguing the case for the immortality of the soul. Hugh Tredennick's landmark 1954 translation has been revised by Harold Tarrant, reflecting changes in Platonic studies, with an introduction and expanded introductions to each of the four dialogues. Plato (c.427-347 BC) stands with Socrates and Aristotle as one of the shapers of the whole intellectual tradition of the West. He founded the Academy in Athens, the first permanent institution devoted to philosophical research and teaching, and the prototype of all Western universities. If you enjoyed The Last Days of Socrates, you might like Plato's The Symposium, also available in Penguin Classics.",
                  "categories": "Fiction",
                  "published_year": 2003,
                  "subtitle": null,
                  "index": 846,
                  "isbn13": 9780140449280,
                  "authors": "Plato;Hugh Tredennick",
                  "average_rating": 4.07,
                  "title": "The Last Days of Socrates",
                  "ratings_count": 1571,
                  "thumbnail": "http://books.google.com/books/content?id=vwj_1haGR9wC&printsec=frontcover&img=1&zoom=1&source=gbs_api",
                  "isbn10": "0140449280",
                  "num_pages": 256
                },
                {
                  "description": "One of L.A.'s most notorious gang leaders takes readers inside the world of gang wars, recounting his ascension through the gang hierarchy, surviving attacks by rival gangs, and life in prison.",
                  "categories": "Biography & Autobiography",
                  "published_year": 1993,
                  "subtitle": "The Autobiography of an L.A. Gang Member",
                  "index": 4974,
                  "isbn13": 9780802141446,
                  "authors": "Sanyika Shakur",
                  "average_rating": 3.96,
                  "title": "Monster",
                  "ratings_count": 4064,
                  "thumbnail": "http://books.google.com/books/content?id=RXSKvgEACAAJ&printsec=frontcover&img=1&zoom=1&source=gbs_api",
                  "isbn10": "0802141447",
                  "num_pages": 400
                },
                {
                  "description": "Discusses how to overcome fears, phobias, and panic attacks; improve intimate communication, and cope with anxiety disorders, and includes information about commonly prescribed psychiatric drugs",
                  "categories": "Psychology",
                  "published_year": 1999,
                  "subtitle": null,
                  "index": 3093,
                  "isbn13": 9780452281325,
                  "authors": "David D. Burns",
                  "average_rating": 4,
                  "title": "The Feeling Good Handbook",
                  "ratings_count": 4666,
                  "thumbnail": "http://books.google.com/books/content?id=akVIQFz0Cx4C&printsec=frontcover&img=1&zoom=1&source=gbs_api",
                  "isbn10": "0452281326",
                  "num_pages": 729
                },
                {
                  "description": "Grace McBride and the team at her software company are horrified when events in their murder mystery computer game are replicated in the real world by a ruthless killer, a situation that prompts them to analyze the game in order to anticipate his next move. Reprint.",
                  "categories": "Fiction",
                  "published_year": 2004,
                  "subtitle": null,
                  "index": 3009,
                  "isbn13": 9780451211576,
                  "authors": "P. J. Tracy",
                  "average_rating": 4.12,
                  "title": "Monkeewrench",
                  "ratings_count": 7696,
                  "thumbnail": "http://books.google.com/books/content?id=IHFKPgAACAAJ&printsec=frontcover&img=1&zoom=1&source=gbs_api",
                  "isbn10": "045121157X",
                  "num_pages": 421
                },
                {
                  "description": "The Surgeon has been locked up for a year but his chilling legacy still haunts the city, and especially Boston homicide detective Jane Rizzoli. But now a new killer is at work and Rizzoli senses something horrifyingly familiar about this murderer's modus operandi. It's when the FBI starts taking an interest in the investigation that Rizzoli begins to wonder just what makes this case so different, so dangerous that the Feds feel the need to get involved. But then the unthinkable happens: the Surgeon escapes. And suddenly there are two brilliant, twisted killers on the loose - master and apprentice, united in their hunt for the most challenging prey of all: the very woman who is hunting them.",
                  "categories": "Boston (Mass.)",
                  "published_year": 2005,
                  "subtitle": null,
                  "index": 3574,
                  "isbn13": 9780553817072,
                  "authors": "Tess Gerritsen",
                  "average_rating": 4.14,
                  "title": "The Apprentice",
                  "ratings_count": 547,
                  "thumbnail": "http://books.google.com/books/content?id=Z5lY0mP_cdkC&printsec=frontcover&img=1&zoom=1&source=gbs_api",
                  "isbn10": "0553817078",
                  "num_pages": 411
                },
                {
                  "description": "Brings together a selection of the legendary American journalist's articles on subjects ranging from the Super Bowl to Watergate, from Hemingway to Brando, and from sharks to drugs.",
                  "categories": "Biography & Autobiography",
                  "published_year": 2003,
                  "subtitle": "Strange Tales from a Strange Time",
                  "index": 4348,
                  "isbn13": 9780743250450,
                  "authors": "Hunter S. Thompson",
                  "average_rating": 4.08,
                  "title": "The Great Shark Hunt",
                  "ratings_count": 10747,
                  "thumbnail": "http://books.google.com/books/content?id=tESC9BnR85cC&printsec=frontcover&img=1&zoom=1&edge=curl&source=gbs_api",
                  "isbn10": "0743250451",
                  "num_pages": 624
                },
                {
                  "description": "The CIA concludes that the disappearance of math genius Teddy Wu is an obvious defection to Red China, but his lover, Beth Hunter, investigates further and discovers an international political conspiracy of terrifying proportions",
                  "categories": null,
                  "published_year": 1986,
                  "subtitle": null,
                  "index": 2232,
                  "isbn13": 9780380898039,
                  "authors": "Peter Abrahams",
                  "average_rating": 3.43,
                  "title": "Red Message",
                  "ratings_count": 7,
                  "thumbnail": null,
                  "isbn10": "0380898039",
                  "num_pages": 320
                },
                {
                  "description": "Douglas Quail is haunted by nightmares of Mars, covert missions and a life more glamorous than his earthbound 2089 AD reality. So he turns to Recall, manufacturers of synthetic memories. They implant a memory into him but he soon finds that his nightmares are true memories.",
                  "categories": "Fiction",
                  "published_year": 1990,
                  "subtitle": null,
                  "index": 620,
                  "isbn13": 9780099742005,
                  "authors": "Piers Anthony",
                  "average_rating": 3.93,
                  "title": "Total Recall",
                  "ratings_count": 7932,
                  "thumbnail": null,
                  "isbn10": "0099742004",
                  "num_pages": 224
                },
                {
                  "description": "Jesse Bear has a wonderful time getting ready for Halloween. He loves carving pumpkins and trying on costumes. But when it comes time for trick-or-treating, Jesse gets scared. With his parents by his side, Jesse soon builds up the courage to put on his scary mask -- and even plays a trick of his own!",
                  "categories": "Juvenile Fiction",
                  "published_year": 2012,
                  "subtitle": null,
                  "index": 4183,
                  "isbn13": 9780689851902,
                  "authors": "Nancy White Carlstrom",
                  "average_rating": 3.47,
                  "title": "What a Scare, Jesse Bear",
                  "ratings_count": 100,
                  "thumbnail": "http://books.google.com/books/content?id=VGgCAAAACAAJ&printsec=frontcover&img=1&zoom=1&source=gbs_api",
                  "isbn10": "0689851901",
                  "num_pages": 32
                },
                {
                  "description": "Doctor Who Short Trips is a series of themed short story anthologies of new Doctor Who fiction, featuring the Doctor in all of his first eight incarnations. They feature stories written by some of the leading names in Doctor Who, past and present, including Paul Cornell, Gareth Roberts, Christopher H. Bidmead, and Paul Magrs. Repercussions features 16 tales set on a strange airship taking its passengers on a trip to who-knows-where. Among the people aboard is young adventuress Charley Pollard, just a few weeks into her life aboard the TARDIS alongside the Eighth Doctor, a man whose past she knows frighteningly little about. She encounters a diplomat trying to stop a war, a young man seemingly murdered by the Doctor, a tramp, a seismologist, and a republican trying to save the life of his plague-stricken daughter. One thing they all have in common: an encounter with a strange alien visitor who seemed to help them, but perhaps should have left them alone.",
                  "categories": "Fiction",
                  "published_year": 2004,
                  "subtitle": null,
                  "index": 6545,
                  "isbn13": 9781844350483,
                  "authors": "Gary Russell",
                  "average_rating": 3.38,
                  "title": "Doctor Who Short Trips: Repercussions",
                  "ratings_count": 42,
                  "thumbnail": "http://books.google.com/books/content?id=EJFdOAAACAAJ&printsec=frontcover&img=1&zoom=1&source=gbs_api",
                  "isbn10": "1844350487",
                  "num_pages": 246
                },
                {
                  "description": "Yoshitaka Amano has been praised around the world for his lush watercolors and evocative work dealing with myth and legend. In The Tale of Genji Mr. Amano brings his considerable talent to retelling one of the most famous of Japanese myths: written by Murasaki Shikibu shortly after 1000 AD and considered by most scholars to be the first novel ever written, The Tale of Genji is the story of the romantic adventures of Genji, the amazingly handsome prince and his many romantic conquests. Told through stunning paintings, Mr. Amano brings this classic story to life for a new generation. • As one of the most respected stories of all time, The Tale of Genji holds a worldwide place of honor among lovers of myth and legend.",
                  "categories": "Art",
                  "published_year": 2006,
                  "subtitle": null,
                  "index": 6442,
                  "isbn13": 9781595820631,
                  "authors": "Yoshitaka Amano",
                  "average_rating": 4.06,
                  "title": "Tale of Genji",
                  "ratings_count": 462,
                  "thumbnail": "http://books.google.com/books/content?id=1tgAwQEACAAJ&printsec=frontcover&img=1&zoom=1&source=gbs_api",
                  "isbn10": "1595820639",
                  "num_pages": 81
                },
                {
                  "description": "Which sort of seducer could you be: *Siren? *Rake? *Cold Coquette? *Star? *Comedian? *Charismatic? or *Saint? This book will show you which. 'Charm, persuasion, the ability to create illusions: these are some of the many dazzling gifts of the Seducer, the compelling figure who is able to manipulate, mislead and give pleasure all at once. When raised to the level of art, seduction, an indirect and subtle form of power, has toppled empires, won elections and enslaved great minds. In this beautiful, sensually designed book, Greene unearths the two sides of seduction: the characters and the process. Discover who you, or your pursuer, most resembles. Learn, too, the pitfalls of the anti-Seducer. In part II, immerse yourself in the twenty-four manoeuvres and strategies of the seductive process, the ritual by which a seducer gains mastery over their target. Understand how to 'Choose the Right Victim', 'Appear to Be an Object of Desire' and 'Confuse Desire and Reality'. In addition, Greene provides instruction on how to identify victims by type. Each fascinating character and each cunning tactic demonstrates a fundamental truth about who we are, and the targets we've become - or hope to win over. The Art of Seduction is an indispensable primer on the essence of one of history's greatest weapons and the ultimate power trip.",
                  "categories": "Seduction",
                  "published_year": 2004,
                  "subtitle": null,
                  "index": 6623,
                  "isbn13": 9781861977694,
                  "authors": "Robert Greene",
                  "average_rating": 4.06,
                  "title": "The Art of Seduction",
                  "ratings_count": 13029,
                  "thumbnail": "http://books.google.com/books/content?id=ZePgwAEACAAJ&printsec=frontcover&img=1&zoom=1&source=gbs_api",
                  "isbn10": "1861977697",
                  "num_pages": 466
                },
                {
                  "description": "At various times in a span of fifteen years, John McPhee made geological field surveys in the company of Eldridge Moores, a tectonicist at the University of California at Davis. The result of these trips is Assembling California, a cross-section in human and geologic time, from Donner Pass in the Sierra Nevada through the golden foothills of the Mother Lode and across the Great Central Valley to the wine country of the Coast Ranges, the rock of San Francisco, and the San Andreas family of faults. The two disparate time scales occasionally intersect--in the gold disruptions of the nineteenth century no less than in the earthquakes of the twentieth--and always with relevance to a newly understood geologic history in which half a dozen large and separate pieces of country are seen to have drifted in from far and near to coalesce as California. McPhee and Moores also journeyed to remote mountains of Arizona and to Cyprus and northern Greece, where rock of the deep-ocean floor has been transported into continental settings, as it has in California. Global in scope and a delight to read, Assembling California is a sweeping narrative of maps in motion, of evolving and dissolving lands.",
                  "categories": "Science",
                  "published_year": 1994,
                  "subtitle": null,
                  "index": 2033,
                  "isbn13": 9780374523930,
                  "authors": "John McPhee",
                  "average_rating": 4.17,
                  "title": "Assembling California",
                  "ratings_count": 1532,
                  "thumbnail": "http://books.google.com/books/content?id=peRjDOETl_cC&printsec=frontcover&img=1&zoom=1&source=gbs_api",
                  "isbn10": "0374523932",
                  "num_pages": 294
                },
                {
                  "description": "Examines the fundamentals of storytelling in comic book style and offers advice on story construction and visual narratives.",
                  "categories": "Literary Criticism",
                  "published_year": 1996,
                  "subtitle": null,
                  "index": 5616,
                  "isbn13": 9780961472825,
                  "authors": "Will Eisner",
                  "average_rating": 4.09,
                  "title": "Graphic Storytelling",
                  "ratings_count": 1730,
                  "thumbnail": "http://books.google.com/books/content?id=FVzYtOiA8WwC&printsec=frontcover&img=1&zoom=1&source=gbs_api",
                  "isbn10": "0961472820",
                  "num_pages": 164
                },
                {
                  "description": "After learning that she is the executor of her ex-lover's will, Oedipa Maas starts a strange journey through Southern California in the 1960s.",
                  "categories": "Fiction",
                  "published_year": 1999,
                  "subtitle": null,
                  "index": 355,
                  "isbn13": 9780060931674,
                  "authors": "Thomas Pynchon",
                  "average_rating": 3.7,
                  "title": "The Crying of Lot 49",
                  "ratings_count": 2132,
                  "thumbnail": "http://books.google.com/books/content?id=vp2Sv9KO1VUC&printsec=frontcover&img=1&zoom=1&source=gbs_api",
                  "isbn10": "0060931671",
                  "num_pages": 152
                },
                {
                  "description": "As Pig tries to write a book, he chastises the reader who keeps interrupting him by turning the pages.",
                  "categories": "Juvenile Fiction",
                  "published_year": 2006,
                  "subtitle": null,
                  "index": 2713,
                  "isbn13": 9780439698399,
                  "authors": "Michaela Muntean",
                  "average_rating": 3.89,
                  "title": "Do Not Open this Book!",
                  "ratings_count": 503,
                  "thumbnail": "http://books.google.com/books/content?id=TgrUAAAACAAJ&printsec=frontcover&img=1&zoom=1&source=gbs_api",
                  "isbn10": "0439698391",
                  "num_pages": 40
                },
                {
                  "description": "The sole survivor of a homicidal sociopath's latest killing spree, Chyna Shepherd unwittingly discovers the identity of the murderer's intended next victim and confronts her own troubled past and overwhelming fear to protect herself and the life of a complete stranger from the ultimate evil. Reissue.",
                  "categories": "Fiction",
                  "published_year": 2000,
                  "subtitle": null,
                  "index": 3536,
                  "isbn13": 9780553582918,
                  "authors": "Dean Ray Koontz",
                  "average_rating": 4.04,
                  "title": "Intensity",
                  "ratings_count": 62698,
                  "thumbnail": "http://books.google.com/books/content?id=9X7qX1lHizMC&printsec=frontcover&img=1&zoom=1&source=gbs_api",
                  "isbn10": "0553582917",
                  "num_pages": 436
                },
                {
                  "description": "When her father will not let her stay up late to do her homework, first grader Junie B. copies a classmate's paper.",
                  "categories": "Juvenile Fiction",
                  "published_year": 2003,
                  "subtitle": "Cheater Pants",
                  "index": 2165,
                  "isbn13": 9780375823022,
                  "authors": "Barbara Park",
                  "average_rating": 4.03,
                  "title": "Junie B., First Grader",
                  "ratings_count": 103,
                  "thumbnail": "http://books.google.com/books/content?id=5tiyVWEjVPcC&printsec=frontcover&img=1&zoom=1&source=gbs_api",
                  "isbn10": "0375823026",
                  "num_pages": 86
                },
                {
                  "description": "Tilly, who loves ballet, plays the part of a cat in her class's dance recital.",
                  "categories": "Juvenile Fiction",
                  "published_year": 2004,
                  "subtitle": null,
                  "index": 5004,
                  "isbn13": 9780803729780,
                  "authors": "Adèle Geras;Shelagh McNicholas",
                  "average_rating": 3.71,
                  "title": "Time for Ballet",
                  "ratings_count": 68,
                  "thumbnail": "http://books.google.com/books/content?id=tVoFAAAACAAJ&printsec=frontcover&img=1&zoom=1&source=gbs_api",
                  "isbn10": "0803729782",
                  "num_pages": 32
                },
                {
                  "description": "Describes a seven-step process for creating and working with curriculum maps, from data collection to ongoing curriculum review.",
                  "categories": "Education",
                  "published_year": 1997,
                  "subtitle": "Integrating Curriculum and Assessment, K-12",
                  "index": 5427,
                  "isbn13": 9780871202864,
                  "authors": "Heidi Hayes Jacobs",
                  "average_rating": 3.7,
                  "title": "Mapping the Big Picture",
                  "ratings_count": 71,
                  "thumbnail": "http://books.google.com/books/content?id=3Mx4QgAACAAJ&printsec=frontcover&img=1&zoom=1&source=gbs_api",
                  "isbn10": "0871202867",
                  "num_pages": 72
                },
                {
                  "description": "The Sally Bowles character was the subject of a play, I am a camera; and a musical, Cabaret.",
                  "categories": "Fiction",
                  "published_year": 1963,
                  "subtitle": null,
                  "index": 5123,
                  "isbn13": 9780811200707,
                  "authors": "Christopher Isherwood",
                  "average_rating": 4.03,
                  "title": "The Berlin Stories",
                  "ratings_count": 8749,
                  "thumbnail": "http://books.google.com/books/content?id=TL882wBAzjsC&printsec=frontcover&img=1&zoom=1&edge=curl&source=gbs_api",
                  "isbn10": "0811200701",
                  "num_pages": 401
                },
                {
                  "description": null,
                  "categories": "Applications for positions",
                  "published_year": 1977,
                  "subtitle": "A Practical Manual for Job-hunters & Career Changers",
                  "index": 5560,
                  "isbn13": 9780913668061,
                  "authors": "Richard Nelson Bolles",
                  "average_rating": 3.69,
                  "title": "What Color is Your Parachute?",
                  "ratings_count": 5,
                  "thumbnail": null,
                  "isbn10": "0913668060",
                  "num_pages": 233
                },
                {
                  "description": "The story of the house of Atreus is a tale of incest, adultery, human sacrifice, cannibalism, and political intrigue. It is also a story in which human action is simultaneously willed and determined.\".",
                  "categories": "Drama",
                  "published_year": 2003,
                  "subtitle": null,
                  "index": 1240,
                  "isbn13": 9780195135923,
                  "authors": "Aeschylus",
                  "average_rating": 4.01,
                  "title": "The Oresteia",
                  "ratings_count": 76,
                  "thumbnail": "http://books.google.com/books/content?id=SY9HlKSNwZUC&printsec=frontcover&img=1&zoom=1&edge=curl&source=gbs_api",
                  "isbn10": "019513592X",
                  "num_pages": 304
                },
                {
                  "description": "Two trailblazing novels by Georges Perec, Things: Jerome and Sylvie, the young upwardly mobile couple, lust for the good life. They wanted life's enjoyment, but this equated to ownership. A Man Asleep: A nameless student attempts to purify himself entirely of material desires and ambitions.",
                  "categories": "Comics & Graphic Novels",
                  "published_year": 1990,
                  "subtitle": "A Story of the Sixties",
                  "index": 6107,
                  "isbn13": 9781567921571,
                  "authors": "Georges Perec;David Bellos",
                  "average_rating": 3.98,
                  "title": "Things",
                  "ratings_count": 1023,
                  "thumbnail": "http://books.google.com/books/content?id=Ia9-dneCWcwC&printsec=frontcover&img=1&zoom=1&edge=curl&source=gbs_api",
                  "isbn10": "1567921574",
                  "num_pages": 221
                },
                {
                  "description": "A line illustrated anthology of Jane Austen's complete works includes Sense and Sensibility, Pride and Prejudice, Mansfield Park, Emma, Northanger Abbey, Persuasion, and the obscure Lady Susan.",
                  "categories": "Fiction",
                  "published_year": 1981,
                  "subtitle": null,
                  "index": 3265,
                  "isbn13": 9780517147689,
                  "authors": "Jane Austen",
                  "average_rating": 4.55,
                  "title": "The Complete Novels",
                  "ratings_count": 298,
                  "thumbnail": "http://books.google.com/books/content?id=o7TgAAAAMAAJ&printsec=frontcover&img=1&zoom=1&source=gbs_api",
                  "isbn10": "0517147688",
                  "num_pages": 1103
                },
                {
                  "description": "Presents a bilingual version of the classic seventeenth-century Spanish play about an imprisoned prince who is returned to the outside world.",
                  "categories": "Foreign Language Study",
                  "published_year": 2002,
                  "subtitle": "A Dual-Language Book",
                  "index": 3198,
                  "isbn13": 9780486424736,
                  "authors": "Pedro Calderon de la Barca;Stanley Appelbaum",
                  "average_rating": 3.98,
                  "title": "Life Is a Dream/La Vida Es Sueño",
                  "ratings_count": 52,
                  "thumbnail": "http://books.google.com/books/content?id=OpUoAwAAQBAJ&printsec=frontcover&img=1&zoom=1&edge=curl&source=gbs_api",
                  "isbn10": "0486424731",
                  "num_pages": 208
                },
                {
                  "description": "Charlie Trumper inherits his grandfather's vegetable barrow and his spirited ambition, which drives him to struggle through two World Wars without losing sight of his dream--building London's largest department store--but a dangerous enemy could destroy everything he has accomplished. Reprint.",
                  "categories": "Fiction",
                  "published_year": 2004,
                  "subtitle": null,
                  "index": 1633,
                  "isbn13": 9780312997113,
                  "authors": "Jeffrey Archer",
                  "average_rating": 4.08,
                  "title": "As the Crow Flies",
                  "ratings_count": 15772,
                  "thumbnail": "http://books.google.com/books/content?id=IeunykAgyGoC&printsec=frontcover&img=1&zoom=1&source=gbs_api",
                  "isbn10": "0312997116",
                  "num_pages": 800
                },
                {
                  "description": "Twenty years after the discovery of artificial wormholes launches Earth space exploration to unforeseeable heights, Starplex Director Keith Lansing investigates a mysterious vessel that soon threatens the station with intergalactic war. Original.",
                  "categories": "Fiction",
                  "published_year": 1996,
                  "subtitle": null,
                  "index": 2821,
                  "isbn13": 9780441003723,
                  "authors": "Robert J. Sawyer",
                  "average_rating": 3.83,
                  "title": "Starplex",
                  "ratings_count": 1267,
                  "thumbnail": "http://books.google.com/books/content?id=CKkIAAAACAAJ&printsec=frontcover&img=1&zoom=1&source=gbs_api",
                  "isbn10": "0441003729",
                  "num_pages": 289
                },
                {
                  "description": null,
                  "categories": "Science fiction",
                  "published_year": 1977,
                  "subtitle": "Three Original Novellas by James Gunn, Keith Roberts [and] Jack Vance",
                  "index": 3353,
                  "isbn13": 9780523401218,
                  "authors": "Robert Silverberg",
                  "average_rating": 3.69,
                  "title": "Triax",
                  "ratings_count": 4,
                  "thumbnail": null,
                  "isbn10": "0523401213",
                  "num_pages": 214
                },
                {
                  "description": "Aldous Huxley's lifelong concern with the dichotomy between passion and reason finds its fullest expression both thematically and formally in his masterpiece Point Counter Point. By presenting a vision of life in which diverse aspects of experience are observed simultaneously, Huxley characterizes the symptoms of \"the disease of modern man\" in the manner of a composer - themes and characters are repeated, altered slightly, and played off one another in a tone that is at once critical and sympathetic. First published in 1928, Huxley's satiric view of intellectual life in the '20s is populated with characters based on such celebrities of the time as D.H. Lawrence, Katherine Mansfield, Sir Oswald Mosley, Nancy Cunard, and John Middleton Murray, as well as Huxley himself. A major work of the 20th century and a monument of literary modernism, this edition includes an introduction by acclaimed novelist Nicholas Mosley (author of Hopeful Monsters and the son of Sir Oswald Mosley). Along with Brave New World (written a few years later), Point Counter Point is Huxley's most concentrated attack on the scientific attitude and its effect on modern culture.",
                  "categories": "Fiction",
                  "published_year": 2001,
                  "subtitle": null,
                  "index": 6074,
                  "isbn13": 9781564781314,
                  "authors": "Aldous Huxley",
                  "average_rating": 3.85,
                  "title": "Point Counter Point",
                  "ratings_count": 9227,
                  "thumbnail": "http://books.google.com/books/content?id=i48OyQk9o7AC&printsec=frontcover&img=1&zoom=1&source=gbs_api",
                  "isbn10": "1564781313",
                  "num_pages": 432
                },
                {
                  "description": "Translated by Anthony Burgess.",
                  "categories": "Drama",
                  "published_year": 1991,
                  "subtitle": null,
                  "index": 6571,
                  "isbn13": 9781854591173,
                  "authors": "Edmond Rostand",
                  "average_rating": 4.06,
                  "title": "Cyrano de Bergerac",
                  "ratings_count": 58,
                  "thumbnail": "http://books.google.com/books/content?id=txm46dfx0WMC&printsec=frontcover&img=1&zoom=1&source=gbs_api",
                  "isbn10": "1854591177",
                  "num_pages": 192
                },
                {
                  "description": "Advance praise for Philip Plait s Bad Astronomy \"Bad Astronomy is just plain good! Philip Plait clears up every misconception on astronomy and space you never knew you suffered from.\" --Stephen Maran, Author of Astronomy for Dummies and editor of The Astronomy and Astrophysics Encyclopedia \"Thank the cosmos for the bundle of star stuff named Philip Plait, who is the world s leading consumer advocate for quality science in space and on Earth. This important contribution to science will rest firmly on my reference library shelf, ready for easy access the next time an astrologer calls.\" --Dr. Michael Shermer, Publisher of Skeptic magazine, monthly columnist for Scientific American, and author of The Borderlands of Science \"Philip Plait has given us a readable, erudite, informative, useful, and entertaining book. Bad Astronomy is Good Science. Very good science...\" --James \"The Amazing\" Randi, President, James Randi Educational Foundation, and author of An Encyclopedia of Claims, Frauds, and Hoaxes of the Occult and Supernatural \"Bad Astronomy is a fun read. Plait is wonderfully witty and educational as he debunks the myths, legends, and 'conspiracies that abound in our society. 'The Truth Is Out There' and it's in this book. I loved it!\" --Mike Mullane, Space Shuttle astronaut and author of Do Your Ears Pop in Space?",
                  "categories": "Science",
                  "published_year": 2002,
                  "subtitle": "Misconceptions and Misuses Revealed, from Astrology to the Moon Landing \"Hoax\"",
                  "index": 3141,
                  "isbn13": 9780471409762,
                  "authors": "Philip C. Plait",
                  "average_rating": 4.04,
                  "title": "Bad Astronomy",
                  "ratings_count": 5113,
                  "thumbnail": "http://books.google.com/books/content?id=3NBaBaKCbqoC&printsec=frontcover&img=1&zoom=1&source=gbs_api",
                  "isbn10": "0471409766",
                  "num_pages": 277
                },
                {
                  "description": "A novelization of the horror film The Grudge, based on the popular manga and film series, traces the experiences of a senior citizen outreach volunteer who encounters a murderous deadly force involving the victims of a terrible curse. Original.",
                  "categories": "Fiction",
                  "published_year": 2006,
                  "subtitle": "A Novel",
                  "index": 6443,
                  "isbn13": 9781595820716,
                  "authors": "Kei Ōishi;Joe Swift",
                  "average_rating": 3.84,
                  "title": "Ju-on",
                  "ratings_count": 331,
                  "thumbnail": "http://books.google.com/books/content?id=mP3oPAAACAAJ&printsec=frontcover&img=1&zoom=1&source=gbs_api",
                  "isbn10": "159582071X",
                  "num_pages": 240
                },
                {
                  "description": "In 1914, Henry James began work on a major novel about the immense new fortunes of America’s Gilded Age. After an absence of more than twenty years, James had returned for a visit to his native country; what he found there filled him with profound dismay. In The Ivory Tower, his last book, the characteristic pattern underlying so much of his fiction—in which American “innocence” is transformed by its encounter with European “experience”—receives a new twist: raised abroad, the hero comes home to America to confront, as James puts it, “the black and merciless things that are behind the great possessions.” James died in 1916 with the first three books of The Ivory Tower completed. He also left behind a “treatment,” in which he charted the further progress of his story. This fascinating scenario, one of only two to survive among James’s papers, is also published here together with a striking critical essay by Ezra Pound.",
                  "categories": "Fiction",
                  "published_year": 2004,
                  "subtitle": null,
                  "index": 6327,
                  "isbn13": 9781590170786,
                  "authors": "Henry James",
                  "average_rating": 3.33,
                  "title": "The Ivory Tower",
                  "ratings_count": 54,
                  "thumbnail": "http://books.google.com/books/content?id=KelaAAAAMAAJ&printsec=frontcover&img=1&zoom=1&source=gbs_api",
                  "isbn10": "1590170784",
                  "num_pages": 296
                },
                {
                  "description": "In order to complete his first assignment given to him by the Jedi council to find Jedi Sharad Hett and bring him home, Ki must first face the evil krayt dragon and the bounty hunter Aurra Sing. Original.",
                  "categories": "Juvenile Fiction",
                  "published_year": 2001,
                  "subtitle": null,
                  "index": 6145,
                  "isbn13": 9781569715147,
                  "authors": "Timothy Truman;Tom Raney",
                  "average_rating": 3.46,
                  "title": "Outlander",
                  "ratings_count": 119,
                  "thumbnail": "http://books.google.com/books/content?id=9NZoNAAACAAJ&printsec=frontcover&img=1&zoom=1&source=gbs_api",
                  "isbn10": "1569715149",
                  "num_pages": 144
                },
                {
                  "description": "The author focuses on a little-discussed aspect of J. R. R. Tolkien's life--his harrowing experiences in the trenches during World War I--revealing how the death of two comrades in particular influenced his later life and literary career. Reprint.",
                  "categories": "Biography & Autobiography",
                  "published_year": 2005,
                  "subtitle": "The Threshold Of Middle-earth",
                  "index": 3766,
                  "isbn13": 9780618574810,
                  "authors": "John Garth",
                  "average_rating": 3.7,
                  "title": "Tolkien And The Great War",
                  "ratings_count": 6167,
                  "thumbnail": "http://books.google.com/books/content?id=OODLVikjYksC&printsec=frontcover&img=1&zoom=1&edge=curl&source=gbs_api",
                  "isbn10": "0618574816",
                  "num_pages": 398
                },
                {
                  "description": "Jacques Derrida is, in the words of the New York Times, \"perhaps the world's most famous philosopher—if not the only famous philosopher.\" He often provokes controversy as soon as his name is mentioned. But he also inspires the respect that comes from an illustrious career, and, among many who were his colleagues and peers, he inspired friendship. The Work of Mourning is a collection that honors those friendships in the wake of passing. Gathered here are texts—letters of condolence, memorial essays, eulogies, funeral orations—written after the deaths of well-known figures: Roland Barthes, Paul de Man, Michel Foucault, Louis Althusser, Edmond Jabès, Louis Marin, Sarah Kofman, Gilles Deleuze, Emmanuel Levinas, Jean-François Lyotard, Max Loreau, Jean-Marie Benoist, Joseph Riddel, and Michel Servière. With his words, Derrida bears witness to the singularity of a friendship and to the absolute uniqueness of each relationship. In each case, he is acutely aware of the questions of tact, taste, and ethical responsibility involved in speaking of the dead—the risks of using the occasion for one's own purposes, political calculation, personal vendetta, and the expiation of guilt. More than a collection of memorial addresses, this volume sheds light not only on Derrida's relation to some of the most prominent French thinkers of the past quarter century but also on some of the most important themes of Derrida's entire oeuvre-mourning, the \"gift of death,\" time, memory, and friendship itself. \"In his rapt attention to his subjects' work and their influence upon him, the book also offers a hesitant and tangential retelling of Derrida's own life in French philosophical history. There are illuminating and playful anecdotes—how Lyotard led Derrida to begin using a word-processor; how Paul de Man talked knowledgeably of jazz with Derrida's son. Anyone who still thinks that Derrida is a facetious punster will find such resentful prejudice unable to survive a reading of this beautiful work.\"—Steven Poole, Guardian \"Strikingly simpa meditations on friendship, on shared vocations and avocations and on philosophy and history.\"—Publishers Weekly",
                  "categories": "Literary Criticism",
                  "published_year": 2003,
                  "subtitle": null,
                  "index": 1285,
                  "isbn13": 9780226142814,
                  "authors": "Jacques Derrida",
                  "average_rating": 4.22,
                  "title": "The Work of Mourning",
                  "ratings_count": 163,
                  "thumbnail": "http://books.google.com/books/content?id=LZkLGvApTZkC&printsec=frontcover&img=1&zoom=1&edge=curl&source=gbs_api",
                  "isbn10": "0226142817",
                  "num_pages": 272
                }
              ]
            },
            "text/plain": "             isbn13      isbn10                                    title   \n886   9780141180366  0141180366                       Finding time again  \\\n386   9780060976095  0060976098                                Fiskadoro   \n3404  9780553103748  0553103741  The Illustrated a Brief History of Time   \n2859  9780446359207  0446359203                          Carrion Comfort   \n6700  9781904271062  1904271065                     King Henry IV Part 2   \n...             ...         ...                                      ...   \n1586  9780312890186  0312890184                          Sword & Citadel   \n2164  9780375822971  0375822976                   Big Dog ... Little Dog   \n1549  9780312422240  0312422245                          The Interpreter   \n2880  9780446604406  0446604402                  The Laws of Our Fathers   \n2223  9780380809066  0380809060                  The Great Book of Amber   \n\n                                          subtitle   \n886                                            NaN  \\\n386                                            NaN   \n3404                                           NaN   \n2859                                           NaN   \n6700                                 Second Series   \n...                                            ...   \n1586  The Second Half of 'The Book of the New Sun'   \n2164                                           NaN   \n1549                                       A Novel   \n2880                                           NaN   \n2223           The Complete Amber Chronicles, 1-10   \n\n                                  authors        categories   \n886                         Marcel Proust           Fiction  \\\n386                         Denis Johnson           Fiction   \n3404                      Stephen Hawking           Science   \n2859                          Dan Simmons           Fiction   \n6700  William Shakespeare;A. R. Humphreys             Drama   \n...                                   ...               ...   \n1586                           Gene Wolfe           Fiction   \n2164                                  NaN  Juvenile Fiction   \n1549                             Suki Kim           Fiction   \n2880                          Scott Turow           Fiction   \n2223                        Roger Zelazny           Fiction   \n\n                                              thumbnail   \n886   http://books.google.com/books/content?id=heRcA...  \\\n386   http://books.google.com/books/content?id=YSTe7...   \n3404  http://books.google.com/books/content?id=wDr8u...   \n2859  http://books.google.com/books/content?id=37wWp...   \n6700  http://books.google.com/books/content?id=AG4h-...   \n...                                                 ...   \n1586  http://books.google.com/books/content?id=cMwvc...   \n2164  http://books.google.com/books/content?id=O8haA...   \n1549  http://books.google.com/books/content?id=pPNsE...   \n2880  http://books.google.com/books/content?id=qsCa3...   \n2223  http://books.google.com/books/content?id=_Z93A...   \n\n                                            description  published_year   \n886   Since the original, prewar translation there h...          2003.0  \\\n386   Hailed by the New York Times as \"wildly ambiti...          1995.0   \n3404  An illustrated, large-format edition of the be...          1996.0   \n2859  Three elderly friends, who possess supernatura...          1990.0   \n6700  A. R. Humphreyswas Professor of English at Lei...          1967.0   \n...                                                 ...             ...   \n1586  \"The Citadel of the Autarch brings The Book of...          1994.0   \n2164  Two dogs are opposite in every way but are the...          2003.0   \n1549  Working as a interpreter for the New York City...          2003.0   \n2880  In Kindle County, a woman is killed in an appa...          1997.0   \n2223  Roger Zelazny's Chronicles of Amber have earne...          1999.0   \n\n      average_rating  num_pages  ratings_count  \n886             4.48      374.0          168.0  \n386             3.54      221.0         1463.0  \n3404            4.16      256.0          750.0  \n2859            3.90      884.0        15056.0  \n6700            3.80      336.0          241.0  \n...              ...        ...            ...  \n1586            4.31      411.0         9103.0  \n2164            4.11       48.0           86.0  \n1549            3.55      304.0          917.0  \n2880            3.75      817.0         3559.0  \n2223            4.30     1258.0        22974.0  \n\n[477 rows x 12 columns]"
          },
          "output_type": "execute_result",
          "execution_count": 8
        }
      ]
    },
    {
      "metadata": {
        "jupyter_d1": {
          "position": 8,
          "uuid": "21031bb1-2725-4d3e-bae2-e706fa984210",
          "execution_state": "idle",
          "path": null,
          "working_directory": null,
          "notebook_uuid": "1648cbed-5b80-4805-98bb-bec4d190d18d",
          "name": null
        }
      },
      "id": "68aade36",
      "source": "df.nlargest(3, 'published_year')\n",
      "cell_type": "code",
      "execution_count": 9,
      "outputs": [
        {
          "metadata": {},
          "data": {
            "text/plain": "             isbn13      isbn10   \n2060  9780375413315  0375413316  \\\n5851  9781406904833  140690483X   \n5853  9781406917895  1406917893   \n\n                                                  title   \n2060                                        Palace Walk  \\\n5851                                  Nöddebo Parsonage   \n5853  Israel's Shepherd; Or, Thoughts on the Love of...   \n\n                                subtitle                   authors categories   \n2060     Palace of Desire ; Sugar Street  Najīb Mahfūz;Ṣabrī Ḥāfiẓ        NaN  \\\n5851  A Story of Country Life in Denmark                   Bentley        NaN   \n5853                                 NaN                 Hardpress    History   \n\n                                              thumbnail   \n2060                                                NaN  \\\n5851  http://books.google.com/books/content?id=OFJyy...   \n5853  http://books.google.com/books/content?id=1q9_y...   \n\n                                            description  published_year   \n2060                                                NaN          2019.0  \\\n5851  This is a reproduction of the original artefac...          2019.0   \n5853  This is a reproduction of the original artefac...          2019.0   \n\n      average_rating  num_pages  ratings_count  \n2060            4.46     1313.0         3194.0  \n5851            4.32      224.0         8206.0  \n5853            3.72       46.0          605.0  ",
            "application/vnd.dataresource+json": {
              "schema": {
                "pandas_version": "1.4.0",
                "primaryKey": [
                  "index"
                ],
                "fields": [
                  {
                    "name": "index",
                    "type": "integer"
                  },
                  {
                    "name": "isbn13",
                    "type": "integer"
                  },
                  {
                    "name": "isbn10",
                    "type": "string"
                  },
                  {
                    "name": "title",
                    "type": "string"
                  },
                  {
                    "name": "subtitle",
                    "type": "string"
                  },
                  {
                    "name": "authors",
                    "type": "string"
                  },
                  {
                    "name": "categories",
                    "type": "string"
                  },
                  {
                    "name": "thumbnail",
                    "type": "string"
                  },
                  {
                    "name": "description",
                    "type": "string"
                  },
                  {
                    "name": "published_year",
                    "type": "number"
                  },
                  {
                    "name": "average_rating",
                    "type": "number"
                  },
                  {
                    "name": "num_pages",
                    "type": "number"
                  },
                  {
                    "name": "ratings_count",
                    "type": "number"
                  }
                ]
              },
              "data": [
                {
                  "description": null,
                  "categories": null,
                  "published_year": 2019,
                  "subtitle": "Palace of Desire ; Sugar Street",
                  "index": 2060,
                  "isbn13": 9780375413315,
                  "authors": "Najīb Mahfūz;Ṣabrī Ḥāfiẓ",
                  "average_rating": 4.46,
                  "title": "Palace Walk",
                  "ratings_count": 3194,
                  "thumbnail": null,
                  "isbn10": "0375413316",
                  "num_pages": 1313
                },
                {
                  "description": "This is a reproduction of the original artefact. Generally these books are created from careful scans of the original. This allows us to preserve the book accurately and present it in the way the author intended. Since the original versions are generally quite old, there may occasionally be certain imperfections within these reproductions. We're happy to make these classics available again for future generations to enjoy!",
                  "categories": null,
                  "published_year": 2019,
                  "subtitle": "A Story of Country Life in Denmark",
                  "index": 5851,
                  "isbn13": 9781406904833,
                  "authors": "Bentley",
                  "average_rating": 4.32,
                  "title": "Nöddebo Parsonage",
                  "ratings_count": 8206,
                  "thumbnail": "http://books.google.com/books/content?id=OFJyyAEACAAJ&printsec=frontcover&img=1&zoom=1&source=gbs_api",
                  "isbn10": "140690483X",
                  "num_pages": 224
                },
                {
                  "description": "This is a reproduction of the original artefact. Generally these books are created from careful scans of the original. This allows us to preserve the book accurately and present it in the way the author intended. Since the original versions are generally quite old, there may occasionally be certain imperfections within these reproductions. We're happy to make these classics available again for future generations to enjoy!",
                  "categories": "History",
                  "published_year": 2019,
                  "subtitle": null,
                  "index": 5853,
                  "isbn13": 9781406917895,
                  "authors": "Hardpress",
                  "average_rating": 3.72,
                  "title": "Israel's Shepherd; Or, Thoughts on the Love of God, Manifested in Christ Jesus. in a Series of Letters",
                  "ratings_count": 605,
                  "thumbnail": "http://books.google.com/books/content?id=1q9_yAEACAAJ&printsec=frontcover&img=1&zoom=1&source=gbs_api",
                  "isbn10": "1406917893",
                  "num_pages": 46
                }
              ]
            },
            "text/html": "<div>\n<style scoped>\n    .dataframe tbody tr th:only-of-type {\n        vertical-align: middle;\n    }\n\n    .dataframe tbody tr th {\n        vertical-align: top;\n    }\n\n    .dataframe thead th {\n        text-align: right;\n    }\n</style>\n<table border=\"1\" class=\"dataframe\">\n  <thead>\n    <tr style=\"text-align: right;\">\n      <th></th>\n      <th>isbn13</th>\n      <th>isbn10</th>\n      <th>title</th>\n      <th>subtitle</th>\n      <th>authors</th>\n      <th>categories</th>\n      <th>thumbnail</th>\n      <th>description</th>\n      <th>published_year</th>\n      <th>average_rating</th>\n      <th>num_pages</th>\n      <th>ratings_count</th>\n    </tr>\n  </thead>\n  <tbody>\n    <tr>\n      <th>2060</th>\n      <td>9780375413315</td>\n      <td>0375413316</td>\n      <td>Palace Walk</td>\n      <td>Palace of Desire ; Sugar Street</td>\n      <td>Najīb Mahfūz;Ṣabrī Ḥāfiẓ</td>\n      <td>NaN</td>\n      <td>NaN</td>\n      <td>NaN</td>\n      <td>2019.0</td>\n      <td>4.46</td>\n      <td>1313.0</td>\n      <td>3194.0</td>\n    </tr>\n    <tr>\n      <th>5851</th>\n      <td>9781406904833</td>\n      <td>140690483X</td>\n      <td>Nöddebo Parsonage</td>\n      <td>A Story of Country Life in Denmark</td>\n      <td>Bentley</td>\n      <td>NaN</td>\n      <td>http://books.google.com/books/content?id=OFJyy...</td>\n      <td>This is a reproduction of the original artefac...</td>\n      <td>2019.0</td>\n      <td>4.32</td>\n      <td>224.0</td>\n      <td>8206.0</td>\n    </tr>\n    <tr>\n      <th>5853</th>\n      <td>9781406917895</td>\n      <td>1406917893</td>\n      <td>Israel's Shepherd; Or, Thoughts on the Love of...</td>\n      <td>NaN</td>\n      <td>Hardpress</td>\n      <td>History</td>\n      <td>http://books.google.com/books/content?id=1q9_y...</td>\n      <td>This is a reproduction of the original artefac...</td>\n      <td>2019.0</td>\n      <td>3.72</td>\n      <td>46.0</td>\n      <td>605.0</td>\n    </tr>\n  </tbody>\n</table>\n</div>"
          },
          "output_type": "execute_result",
          "execution_count": 9
        }
      ]
    },
    {
      "metadata": {
        "jupyter_d1": {
          "position": 9,
          "uuid": "d34202ba-fcf5-4d72-b876-b9ddb0349ea1",
          "execution_state": "idle",
          "path": null,
          "working_directory": null,
          "notebook_uuid": "1648cbed-5b80-4805-98bb-bec4d190d18d",
          "name": null
        }
      },
      "id": "2a7ef6e4",
      "source": "df.nsmallest(7, 'published_year')\n",
      "cell_type": "code",
      "execution_count": 10,
      "outputs": [
        {
          "metadata": {},
          "data": {
            "text/plain": "             isbn13      isbn10                                  title   \n6408  9781593083243  1593083246                    ... The Circulation  \\\n1004  9780142437117  0142437115  The Letters of John and Abigail Adams   \n2151  9780375760136  037576013X                         Daniel Deronda   \n5162  9780812234565  0812234561           Aristophanes: The Acharnians   \n6116  9781568520803  1568520808              Johnny Reb and Billy Yank   \n3935  9780674992627  0674992628     Plato, with an English Translation   \n3931  9780674992023  0674992024                                  Hiero   \n\n                                               subtitle   \n6408                                                NaN  \\\n1004                                                NaN   \n2151                                                NaN   \n5162                                                NaN   \n6116                                                NaN   \n3935                                                NaN   \n3931  Agesilaus ; Constitution of the Lacedaemonians...   \n\n                                  authors            categories   \n6408                   Benjamin W. Ussery                   NaN  \\\n1004                        Abigail Adams  Literary Collections   \n2151                         George Eliot               Fiction   \n5162  Smith Palmer Bovie;David R. Slavitt  Greek drama (Comedy)   \n6116                     Alexander Hunter         United States   \n3935                                Plato   Philosophy, Ancient   \n3931                             Xenophon      Electronic books   \n\n                                              thumbnail   \n6408                                                NaN  \\\n1004  http://books.google.com/books/content?id=70tNv...   \n2151  http://books.google.com/books/content?id=uPiMx...   \n5162  http://books.google.com/books/content?id=AaWiw...   \n6116  http://books.google.com/books/content?id=z4LeI...   \n3935                                                NaN   \n3931  http://books.google.com/books/content?id=4Q0IA...   \n\n                                            description  published_year   \n6408                                                NaN          1853.0  \\\n1004  Reflecting more than fifty years in the lives ...          1876.0   \n2151  Deronda, a high-minded young man searching for...          1876.0   \n5162                                                NaN          1901.0   \n6116                                                NaN          1904.0   \n3935                                                NaN          1914.0   \n3931  Minor works by Xenophon (c. 430-c. 354 BCE) in...          1925.0   \n\n      average_rating  num_pages  ratings_count  \n6408            4.25      392.0         1563.0  \n1004            4.17      512.0          267.0  \n2151            3.83      796.0        19852.0  \n5162            3.83      322.0            4.0  \n6116            4.11      635.0           13.0  \n3935             NaN        NaN            NaN  \n3931            3.94      576.0           18.0  ",
            "application/vnd.dataresource+json": {
              "schema": {
                "pandas_version": "1.4.0",
                "primaryKey": [
                  "index"
                ],
                "fields": [
                  {
                    "name": "index",
                    "type": "integer"
                  },
                  {
                    "name": "isbn13",
                    "type": "integer"
                  },
                  {
                    "name": "isbn10",
                    "type": "string"
                  },
                  {
                    "name": "title",
                    "type": "string"
                  },
                  {
                    "name": "subtitle",
                    "type": "string"
                  },
                  {
                    "name": "authors",
                    "type": "string"
                  },
                  {
                    "name": "categories",
                    "type": "string"
                  },
                  {
                    "name": "thumbnail",
                    "type": "string"
                  },
                  {
                    "name": "description",
                    "type": "string"
                  },
                  {
                    "name": "published_year",
                    "type": "number"
                  },
                  {
                    "name": "average_rating",
                    "type": "number"
                  },
                  {
                    "name": "num_pages",
                    "type": "number"
                  },
                  {
                    "name": "ratings_count",
                    "type": "number"
                  }
                ]
              },
              "data": [
                {
                  "description": null,
                  "categories": null,
                  "published_year": 1853,
                  "subtitle": null,
                  "index": 6408,
                  "isbn13": 9781593083243,
                  "authors": "Benjamin W. Ussery",
                  "average_rating": 4.25,
                  "title": "... The Circulation",
                  "ratings_count": 1563,
                  "thumbnail": null,
                  "isbn10": "1593083246",
                  "num_pages": 392
                },
                {
                  "description": "Reflecting more than fifty years in the lives of John and Abigail Adams, a collection of remarkable letters provide an intimate portrait of an important early American family and an incisive, personal look at life in America before, during, and after the Revolution. Original.",
                  "categories": "Literary Collections",
                  "published_year": 1876,
                  "subtitle": null,
                  "index": 1004,
                  "isbn13": 9780142437117,
                  "authors": "Abigail Adams",
                  "average_rating": 4.17,
                  "title": "The Letters of John and Abigail Adams",
                  "ratings_count": 267,
                  "thumbnail": "http://books.google.com/books/content?id=70tNvrRFYVIC&printsec=frontcover&img=1&zoom=1&source=gbs_api",
                  "isbn10": "0142437115",
                  "num_pages": 512
                },
                {
                  "description": "Deronda, a high-minded young man searching for his path in life, finds himself drawn by a series of dramatic encounters into two contrasting worlds: the English country-house life of Gwendolen Harleth, a high-spirited beauty trapped in an oppressive marriage, and the very different lives of a poor Jewish girl, Mirah, and her family. As Deronda uncovers the long-hidden secret of his own parentage, Eliot's moving and suspenseful narrative opens up a world of Jewish experience previously unknown to the Victorian novel.",
                  "categories": "Fiction",
                  "published_year": 1876,
                  "subtitle": null,
                  "index": 2151,
                  "isbn13": 9780375760136,
                  "authors": "George Eliot",
                  "average_rating": 3.83,
                  "title": "Daniel Deronda",
                  "ratings_count": 19852,
                  "thumbnail": "http://books.google.com/books/content?id=uPiMxnLvZWEC&printsec=frontcover&img=1&zoom=1&source=gbs_api",
                  "isbn10": "037576013X",
                  "num_pages": 796
                },
                {
                  "description": null,
                  "categories": "Greek drama (Comedy)",
                  "published_year": 1901,
                  "subtitle": null,
                  "index": 5162,
                  "isbn13": 9780812234565,
                  "authors": "Smith Palmer Bovie;David R. Slavitt",
                  "average_rating": 3.83,
                  "title": "Aristophanes: The Acharnians",
                  "ratings_count": 4,
                  "thumbnail": "http://books.google.com/books/content?id=AaWiwwEACAAJ&printsec=frontcover&img=1&zoom=1&source=gbs_api",
                  "isbn10": "0812234561",
                  "num_pages": 322
                },
                {
                  "description": null,
                  "categories": "United States",
                  "published_year": 1904,
                  "subtitle": null,
                  "index": 6116,
                  "isbn13": 9781568520803,
                  "authors": "Alexander Hunter",
                  "average_rating": 4.11,
                  "title": "Johnny Reb and Billy Yank",
                  "ratings_count": 13,
                  "thumbnail": "http://books.google.com/books/content?id=z4LeIK16FGwC&printsec=frontcover&img=1&zoom=1&source=gbs_api",
                  "isbn10": "1568520808",
                  "num_pages": 635
                },
                {
                  "description": null,
                  "categories": "Philosophy, Ancient",
                  "published_year": 1914,
                  "subtitle": null,
                  "index": 3935,
                  "isbn13": 9780674992627,
                  "authors": "Plato",
                  "average_rating": null,
                  "title": "Plato, with an English Translation",
                  "ratings_count": null,
                  "thumbnail": null,
                  "isbn10": "0674992628",
                  "num_pages": null
                },
                {
                  "description": "Minor works by Xenophon (c. 430-c. 354 BCE) include Hiero, a dialogue on government; Agesilaus, in praise of that king; Constitution of Lacedaemon, on the Spartan system; Ways and Means, on the finances of Athens; a manual of Horsemanship. The Constitution of the Athenians, though not by Xenophon, is an interesting document on Athenian politics. Xenophon (ca. 430 to ca. 354 BCE) was a wealthy Athenian and friend of Socrates. He left Athens in 401 and joined an expedition including ten thousand Greeks led by the Persian governor Cyrus against the Persian king. After the defeat of Cyrus, it fell to Xenophon to lead the Greeks from the gates of Babylon back to the coast through inhospitable lands. Later he wrote the famous vivid account of this \"March Up-Country\" (Anabasis); but meanwhile he entered service under the Spartans against the Persian king, married happily, and joined the staff of the Spartan king, Agesilaus. But Athens was at war with Sparta in 394 and so exiled Xenophon. The Spartans gave him an estate near Elis where he lived for years writing and hunting and educating his sons. Reconciled to Sparta, Athens restored Xenophon to honour but he preferred to retire to Corinth. Xenophon's Anabasis is a true story of remarkable adventures. Hellenica, a history of Greek affairs from 411 to 362, begins as a continuation of Thucydides' account. There are four works on Socrates (collected in Volume IV of the Loeb Xenophon edition). In Memorabilia Xenophon adds to Plato's picture of Socrates from a different viewpoint. The Apology is an interesting complement to Plato's account of Socrates' defense at his trial. Xenophon's Symposium portrays a dinner party at which Socrates speaks of love; and Oeconomicus has him giving advice on household management and married life. Cyropaedia, a historical romance on the education of Cyrus (the Elder), reflects Xenophon's ideas about rulers and government; the Loeb edition is in two volumes. We also have his Hiero, a dialogue on government; Agesilaus, in praise of that king; Constitution of Lacedaemon (on the Spartan system); Ways and Means (on the finances of Athens); Manual for a Cavalry Commander; a good manual of Horsemanship; and a lively Hunting with Hounds. The Constitution of the Athenians, though clearly not by Xenophon, is an interesting document on politics at Athens. These eight books are collected in the last of the seven volumes of the Loeb Classical Library edition of Xenophon.",
                  "categories": "Electronic books",
                  "published_year": 1925,
                  "subtitle": "Agesilaus ; Constitution of the Lacedaemonians ; Ways and Means ; Cavalry Commander ; Art of Horsemanship ; On Hunting ; Constitution of the Athenians",
                  "index": 3931,
                  "isbn13": 9780674992023,
                  "authors": "Xenophon",
                  "average_rating": 3.94,
                  "title": "Hiero",
                  "ratings_count": 18,
                  "thumbnail": "http://books.google.com/books/content?id=4Q0IAQAAIAAJ&printsec=frontcover&img=1&zoom=1&source=gbs_api",
                  "isbn10": "0674992024",
                  "num_pages": 576
                }
              ]
            },
            "text/html": "<div>\n<style scoped>\n    .dataframe tbody tr th:only-of-type {\n        vertical-align: middle;\n    }\n\n    .dataframe tbody tr th {\n        vertical-align: top;\n    }\n\n    .dataframe thead th {\n        text-align: right;\n    }\n</style>\n<table border=\"1\" class=\"dataframe\">\n  <thead>\n    <tr style=\"text-align: right;\">\n      <th></th>\n      <th>isbn13</th>\n      <th>isbn10</th>\n      <th>title</th>\n      <th>subtitle</th>\n      <th>authors</th>\n      <th>categories</th>\n      <th>thumbnail</th>\n      <th>description</th>\n      <th>published_year</th>\n      <th>average_rating</th>\n      <th>num_pages</th>\n      <th>ratings_count</th>\n    </tr>\n  </thead>\n  <tbody>\n    <tr>\n      <th>6408</th>\n      <td>9781593083243</td>\n      <td>1593083246</td>\n      <td>... The Circulation</td>\n      <td>NaN</td>\n      <td>Benjamin W. Ussery</td>\n      <td>NaN</td>\n      <td>NaN</td>\n      <td>NaN</td>\n      <td>1853.0</td>\n      <td>4.25</td>\n      <td>392.0</td>\n      <td>1563.0</td>\n    </tr>\n    <tr>\n      <th>1004</th>\n      <td>9780142437117</td>\n      <td>0142437115</td>\n      <td>The Letters of John and Abigail Adams</td>\n      <td>NaN</td>\n      <td>Abigail Adams</td>\n      <td>Literary Collections</td>\n      <td>http://books.google.com/books/content?id=70tNv...</td>\n      <td>Reflecting more than fifty years in the lives ...</td>\n      <td>1876.0</td>\n      <td>4.17</td>\n      <td>512.0</td>\n      <td>267.0</td>\n    </tr>\n    <tr>\n      <th>2151</th>\n      <td>9780375760136</td>\n      <td>037576013X</td>\n      <td>Daniel Deronda</td>\n      <td>NaN</td>\n      <td>George Eliot</td>\n      <td>Fiction</td>\n      <td>http://books.google.com/books/content?id=uPiMx...</td>\n      <td>Deronda, a high-minded young man searching for...</td>\n      <td>1876.0</td>\n      <td>3.83</td>\n      <td>796.0</td>\n      <td>19852.0</td>\n    </tr>\n    <tr>\n      <th>5162</th>\n      <td>9780812234565</td>\n      <td>0812234561</td>\n      <td>Aristophanes: The Acharnians</td>\n      <td>NaN</td>\n      <td>Smith Palmer Bovie;David R. Slavitt</td>\n      <td>Greek drama (Comedy)</td>\n      <td>http://books.google.com/books/content?id=AaWiw...</td>\n      <td>NaN</td>\n      <td>1901.0</td>\n      <td>3.83</td>\n      <td>322.0</td>\n      <td>4.0</td>\n    </tr>\n    <tr>\n      <th>6116</th>\n      <td>9781568520803</td>\n      <td>1568520808</td>\n      <td>Johnny Reb and Billy Yank</td>\n      <td>NaN</td>\n      <td>Alexander Hunter</td>\n      <td>United States</td>\n      <td>http://books.google.com/books/content?id=z4LeI...</td>\n      <td>NaN</td>\n      <td>1904.0</td>\n      <td>4.11</td>\n      <td>635.0</td>\n      <td>13.0</td>\n    </tr>\n    <tr>\n      <th>3935</th>\n      <td>9780674992627</td>\n      <td>0674992628</td>\n      <td>Plato, with an English Translation</td>\n      <td>NaN</td>\n      <td>Plato</td>\n      <td>Philosophy, Ancient</td>\n      <td>NaN</td>\n      <td>NaN</td>\n      <td>1914.0</td>\n      <td>NaN</td>\n      <td>NaN</td>\n      <td>NaN</td>\n    </tr>\n    <tr>\n      <th>3931</th>\n      <td>9780674992023</td>\n      <td>0674992024</td>\n      <td>Hiero</td>\n      <td>Agesilaus ; Constitution of the Lacedaemonians...</td>\n      <td>Xenophon</td>\n      <td>Electronic books</td>\n      <td>http://books.google.com/books/content?id=4Q0IA...</td>\n      <td>Minor works by Xenophon (c. 430-c. 354 BCE) in...</td>\n      <td>1925.0</td>\n      <td>3.94</td>\n      <td>576.0</td>\n      <td>18.0</td>\n    </tr>\n  </tbody>\n</table>\n</div>"
          },
          "output_type": "execute_result",
          "execution_count": 10
        }
      ]
    },
    {
      "metadata": {
        "jupyter_d1": {
          "position": 10,
          "uuid": "ac6fc754-6339-40f3-b334-7eb297421cb3",
          "execution_state": "idle",
          "path": null,
          "working_directory": null,
          "notebook_uuid": "1648cbed-5b80-4805-98bb-bec4d190d18d",
          "name": null
        }
      },
      "id": "0f93ba26",
      "source": "df.iloc[:,0:3]\n",
      "cell_type": "code",
      "execution_count": 11,
      "outputs": [
        {
          "metadata": {},
          "data": {
            "text/plain": "             isbn13      isbn10                      title\n0     9780002005883  0002005883                     Gilead\n1     9780002261982  0002261987               Spider's Web\n2     9780006163831  0006163831               The One Tree\n3     9780006178736  0006178731             Rage of angels\n4     9780006280897  0006280897             The Four Loves\n...             ...         ...                        ...\n6805  9788185300535  8185300534                  I Am that\n6806  9788185944609  8185944601       Secrets Of The Heart\n6807  9788445074879  8445074873             Fahrenheit 451\n6808  9789027712059  9027712050   The Berlin Phenomenology\n6809  9789042003408  9042003405  'I'm Telling You Stories'\n\n[6810 rows x 3 columns]",
            "application/vnd.dataresource+json": {
              "schema": {
                "pandas_version": "1.4.0",
                "primaryKey": [
                  "index"
                ],
                "fields": [
                  {
                    "name": "index",
                    "type": "integer"
                  },
                  {
                    "name": "isbn13",
                    "type": "integer"
                  },
                  {
                    "name": "isbn10",
                    "type": "string"
                  },
                  {
                    "name": "title",
                    "type": "string"
                  }
                ]
              },
              "data": [
                {
                  "isbn13": 9780002005883,
                  "isbn10": "0002005883",
                  "title": "Gilead",
                  "index": 0
                },
                {
                  "isbn13": 9780002261982,
                  "isbn10": "0002261987",
                  "title": "Spider's Web",
                  "index": 1
                },
                {
                  "isbn13": 9780006163831,
                  "isbn10": "0006163831",
                  "title": "The One Tree",
                  "index": 2
                },
                {
                  "isbn13": 9780006178736,
                  "isbn10": "0006178731",
                  "title": "Rage of angels",
                  "index": 3
                },
                {
                  "isbn13": 9780006280897,
                  "isbn10": "0006280897",
                  "title": "The Four Loves",
                  "index": 4
                },
                {
                  "isbn13": 9780006280934,
                  "isbn10": "0006280935",
                  "title": "The Problem of Pain",
                  "index": 5
                },
                {
                  "isbn13": 9780006353287,
                  "isbn10": "0006353282",
                  "title": "An Autobiography",
                  "index": 6
                },
                {
                  "isbn13": 9780006380832,
                  "isbn10": "0006380832",
                  "title": "Empires of the Monsoon",
                  "index": 7
                },
                {
                  "isbn13": 9780006470229,
                  "isbn10": "000647022X",
                  "title": "The Gap Into Madness",
                  "index": 8
                },
                {
                  "isbn13": 9780006472612,
                  "isbn10": "0006472613",
                  "title": "Master of the Game",
                  "index": 9
                },
                {
                  "isbn13": 9780006479673,
                  "isbn10": "0006479677",
                  "title": "If Tomorrow Comes",
                  "index": 10
                },
                {
                  "isbn13": 9780006480099,
                  "isbn10": "0006480098",
                  "title": "Assassin's Apprentice",
                  "index": 11
                },
                {
                  "isbn13": 9780006482079,
                  "isbn10": "0006482074",
                  "title": "Warhost of Vastmark",
                  "index": 12
                },
                {
                  "isbn13": 9780006483014,
                  "isbn10": "0006483011",
                  "title": "The Once and Future King",
                  "index": 13
                },
                {
                  "isbn13": 9780006483892,
                  "isbn10": "0006483895",
                  "title": "Murder in LaMut",
                  "index": 14
                },
                {
                  "isbn13": 9780006483908,
                  "isbn10": "0006483909",
                  "title": "Jimmy the Hand",
                  "index": 15
                },
                {
                  "isbn13": 9780006486145,
                  "isbn10": "0006486142",
                  "title": "Well of Darkness",
                  "index": 16
                },
                {
                  "isbn13": 9780006490456,
                  "isbn10": "000649045X",
                  "title": "Witness for the Prosecution & Selected Plays",
                  "index": 17
                },
                {
                  "isbn13": 9780006496434,
                  "isbn10": "0006496431",
                  "title": "The Little House",
                  "index": 18
                },
                {
                  "isbn13": 9780006496878,
                  "isbn10": "0006496873",
                  "title": "Mystical Paths",
                  "index": 19
                },
                {
                  "isbn13": 9780006496892,
                  "isbn10": "000649689X",
                  "title": "Glittering Images",
                  "index": 20
                },
                {
                  "isbn13": 9780006496922,
                  "isbn10": "000649692X",
                  "title": "Glamorous Powers",
                  "index": 21
                },
                {
                  "isbn13": 9780006498865,
                  "isbn10": "0006498868",
                  "title": "The Mad Ship",
                  "index": 22
                },
                {
                  "isbn13": 9780006499169,
                  "isbn10": "0006499163",
                  "title": "Post Captain",
                  "index": 23
                },
                {
                  "isbn13": 9780006499268,
                  "isbn10": "0006499260",
                  "title": "The Reverse of the Medal",
                  "index": 24
                },
                {
                  "isbn13": 9780006499626,
                  "isbn10": "0006499627",
                  "title": "Miss Marple",
                  "index": 25
                },
                {
                  "isbn13": 9780006511489,
                  "isbn10": "0006511481",
                  "title": "The Years of Rice and Salt",
                  "index": 26
                },
                {
                  "isbn13": 9780006512677,
                  "isbn10": "0006512674",
                  "title": "Spares",
                  "index": 27
                },
                {
                  "isbn13": 9780006513087,
                  "isbn10": "0006513085",
                  "title": "Gravity",
                  "index": 28
                },
                {
                  "isbn13": 9780006514640,
                  "isbn10": "0006514642",
                  "title": "The Wise Woman",
                  "index": 29
                },
                {
                  "isbn13": 9780006514855,
                  "isbn10": "0006514855",
                  "title": "Girls' Night in",
                  "index": 30
                },
                {
                  "isbn13": 9780006545866,
                  "isbn10": "0006545866",
                  "title": "The White Album",
                  "index": 31
                },
                {
                  "isbn13": 9780006550433,
                  "isbn10": "0006550436",
                  "title": "The Bonesetter's Daughter",
                  "index": 32
                },
                {
                  "isbn13": 9780006551393,
                  "isbn10": "0006551394",
                  "title": "The Lexus and the Olive Tree",
                  "index": 33
                },
                {
                  "isbn13": 9780006551812,
                  "isbn10": "0006551815",
                  "title": "'Tis",
                  "index": 34
                },
                {
                  "isbn13": 9780006646006,
                  "isbn10": "000664600X",
                  "title": "Ocean Star Express",
                  "index": 35
                },
                {
                  "isbn13": 9780006754893,
                  "isbn10": "0006754899",
                  "title": "A Small Pinch of Weather",
                  "index": 36
                },
                {
                  "isbn13": 9780006906018,
                  "isbn10": "000690601X",
                  "title": "The Princess of the Chalet School",
                  "index": 37
                },
                {
                  "isbn13": 9780007103676,
                  "isbn10": "0007103670",
                  "title": "Koko",
                  "index": 38
                },
                {
                  "isbn13": 9780007105045,
                  "isbn10": "0007105045",
                  "title": "Tree and Leaf",
                  "index": 39
                },
                {
                  "isbn13": 9780007111503,
                  "isbn10": "0007111509",
                  "title": "Partners in Crime",
                  "index": 40
                },
                {
                  "isbn13": 9780007113804,
                  "isbn10": "0007113803",
                  "title": "Murder in Mesopotamia",
                  "index": 41
                },
                {
                  "isbn13": 9780007116263,
                  "isbn10": "0007116268",
                  "title": "The Lord of the Rings, the Return of the King",
                  "index": 42
                },
                {
                  "isbn13": 9780007117536,
                  "isbn10": "0007117531",
                  "title": "All Families are Psychotic",
                  "index": 43
                },
                {
                  "isbn13": 9780007119332,
                  "isbn10": "000711933X",
                  "title": "Death in the Clouds",
                  "index": 44
                },
                {
                  "isbn13": 9780007119356,
                  "isbn10": "0007119356",
                  "title": "Appointment with Death",
                  "index": 45
                },
                {
                  "isbn13": 9780007120680,
                  "isbn10": "0007120680",
                  "title": "Hallowe'en Party",
                  "index": 46
                },
                {
                  "isbn13": 9780007120697,
                  "isbn10": "0007120699",
                  "title": "Hercule Poirot's Christmas",
                  "index": 47
                },
                {
                  "isbn13": 9780007120819,
                  "isbn10": "0007120818",
                  "title": "The Big Four",
                  "index": 48
                },
                {
                  "isbn13": 9780007120864,
                  "isbn10": "0007120869",
                  "title": "The Thirteen Problems",
                  "index": 49
                },
                {
                  "isbn13": 9780007120871,
                  "isbn10": "0007120877",
                  "title": "They Do it with Mirrors",
                  "index": 50
                },
                {
                  "isbn13": 9780007120963,
                  "isbn10": "0007120966",
                  "title": "A Murder is Announced",
                  "index": 51
                },
                {
                  "isbn13": 9780007120987,
                  "isbn10": "0007120982",
                  "title": "The Mirror Crack'd from Side to Side",
                  "index": 52
                },
                {
                  "isbn13": 9780007121007,
                  "isbn10": "0007121008",
                  "title": "Mrs McGinty's Dead",
                  "index": 53
                },
                {
                  "isbn13": 9780007121014,
                  "isbn10": "0007121016",
                  "title": "Taken at the Flood",
                  "index": 54
                },
                {
                  "isbn13": 9780007121021,
                  "isbn10": "0007121024",
                  "title": "The Hollow",
                  "index": 55
                },
                {
                  "isbn13": 9780007121106,
                  "isbn10": "0007121105",
                  "title": "Third Girl",
                  "index": 56
                },
                {
                  "isbn13": 9780007122585,
                  "isbn10": "0007122586",
                  "title": "The Secret of Chimneys",
                  "index": 57
                },
                {
                  "isbn13": 9780007124015,
                  "isbn10": "0007124015",
                  "title": "The Lord of the Rings",
                  "index": 58
                },
                {
                  "isbn13": 9780007126903,
                  "isbn10": "0007126905",
                  "title": "The Metaphysical Club",
                  "index": 59
                }
              ]
            },
            "text/html": "<div>\n<style scoped>\n    .dataframe tbody tr th:only-of-type {\n        vertical-align: middle;\n    }\n\n    .dataframe tbody tr th {\n        vertical-align: top;\n    }\n\n    .dataframe thead th {\n        text-align: right;\n    }\n</style>\n<table border=\"1\" class=\"dataframe\">\n  <thead>\n    <tr style=\"text-align: right;\">\n      <th></th>\n      <th>isbn13</th>\n      <th>isbn10</th>\n      <th>title</th>\n    </tr>\n  </thead>\n  <tbody>\n    <tr>\n      <th>0</th>\n      <td>9780002005883</td>\n      <td>0002005883</td>\n      <td>Gilead</td>\n    </tr>\n    <tr>\n      <th>1</th>\n      <td>9780002261982</td>\n      <td>0002261987</td>\n      <td>Spider's Web</td>\n    </tr>\n    <tr>\n      <th>2</th>\n      <td>9780006163831</td>\n      <td>0006163831</td>\n      <td>The One Tree</td>\n    </tr>\n    <tr>\n      <th>3</th>\n      <td>9780006178736</td>\n      <td>0006178731</td>\n      <td>Rage of angels</td>\n    </tr>\n    <tr>\n      <th>4</th>\n      <td>9780006280897</td>\n      <td>0006280897</td>\n      <td>The Four Loves</td>\n    </tr>\n    <tr>\n      <th>...</th>\n      <td>...</td>\n      <td>...</td>\n      <td>...</td>\n    </tr>\n    <tr>\n      <th>6805</th>\n      <td>9788185300535</td>\n      <td>8185300534</td>\n      <td>I Am that</td>\n    </tr>\n    <tr>\n      <th>6806</th>\n      <td>9788185944609</td>\n      <td>8185944601</td>\n      <td>Secrets Of The Heart</td>\n    </tr>\n    <tr>\n      <th>6807</th>\n      <td>9788445074879</td>\n      <td>8445074873</td>\n      <td>Fahrenheit 451</td>\n    </tr>\n    <tr>\n      <th>6808</th>\n      <td>9789027712059</td>\n      <td>9027712050</td>\n      <td>The Berlin Phenomenology</td>\n    </tr>\n    <tr>\n      <th>6809</th>\n      <td>9789042003408</td>\n      <td>9042003405</td>\n      <td>'I'm Telling You Stories'</td>\n    </tr>\n  </tbody>\n</table>\n<p>6810 rows × 3 columns</p>\n</div>"
          },
          "output_type": "execute_result",
          "execution_count": 11
        }
      ]
    },
    {
      "metadata": {
        "jupyter_d1": {
          "position": 11,
          "uuid": "4065a2a3-596c-4769-ac0e-e5fd1727b0f7",
          "execution_state": "idle",
          "path": null,
          "working_directory": null,
          "notebook_uuid": "1648cbed-5b80-4805-98bb-bec4d190d18d",
          "name": null
        }
      },
      "id": "e3375c28",
      "source": "df.at[0, 'title']\n",
      "cell_type": "code",
      "execution_count": 12,
      "outputs": [
        {
          "metadata": {},
          "data": {
            "text/plain": "'Gilead'"
          },
          "output_type": "execute_result",
          "execution_count": 12
        }
      ]
    },
    {
      "metadata": {
        "jupyter_d1": {
          "position": 12,
          "uuid": "310bb467-92e7-4578-9842-545ef10984b7",
          "execution_state": "idle",
          "path": null,
          "working_directory": null,
          "notebook_uuid": "1648cbed-5b80-4805-98bb-bec4d190d18d",
          "name": null
        }
      },
      "id": "8676f8d6",
      "source": "df.iat[0,2]\n",
      "cell_type": "code",
      "execution_count": 13,
      "outputs": [
        {
          "metadata": {},
          "data": {
            "text/plain": "'Gilead'"
          },
          "output_type": "execute_result",
          "execution_count": 13
        }
      ]
    }
  ],
  "metadata": {
    "jupyter_d1": {
      "position": null,
      "uuid": "1648cbed-5b80-4805-98bb-bec4d190d18d",
      "execution_state": null,
      "path": "/Users/kylenorris/Desktop/Pandas Tutorial/PandasSubsetting.ipynb",
      "working_directory": "/Users/kylenorris/Desktop/Pandas Tutorial",
      "notebook_uuid": null,
      "name": "PandasSubsetting"
    },
    "language_info": {
      "file_extension": ".py",
      "codemirror_mode": {
        "name": "ipython",
        "version": 3
      },
      "mimetype": "text/x-python",
      "pygments_lexer": "ipython3",
      "version": "3.10.0",
      "nbconvert_exporter": "python",
      "name": "python"
    },
    "kernelspec": {
      "name": "python3",
      "language": "python",
      "display_name": "Python 3 (ipykernel)"
    }
  },
  "nbformat_minor": 5,
  "nbformat": 4
}
