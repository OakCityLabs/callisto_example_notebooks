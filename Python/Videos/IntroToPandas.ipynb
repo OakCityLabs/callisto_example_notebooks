{
  "cells": [
    {
      "metadata": {
        "jupyter_d1": {
          "position": 0,
          "uuid": "1915f271-04ef-4fc1-a37c-58bfb534fb91",
          "execution_state": "idle",
          "path": null,
          "working_directory": null,
          "notebook_uuid": "6bb77e0c-564a-4c2b-819a-b89e93642747",
          "name": null
        }
      },
      "id": "0b8025e8",
      "source": "# Intro to Pandas!\n",
      "cell_type": "markdown",
      "outputs": []
    },
    {
      "metadata": {
        "jupyter_d1": {
          "position": 1,
          "uuid": "df34e502-6f34-4559-975e-870f288d5bf6",
          "execution_state": "idle",
          "path": null,
          "working_directory": null,
          "notebook_uuid": "6bb77e0c-564a-4c2b-819a-b89e93642747",
          "name": null
        }
      },
      "id": "35ac78b0",
      "source": "import pandas as pd\n",
      "cell_type": "code",
      "execution_count": 1,
      "outputs": []
    },
    {
      "metadata": {
        "jupyter_d1": {
          "position": 2,
          "uuid": "269165cc-7d02-4376-82f7-207778b2c694",
          "execution_state": "idle",
          "path": null,
          "working_directory": null,
          "notebook_uuid": "6bb77e0c-564a-4c2b-819a-b89e93642747",
          "name": null
        }
      },
      "id": "523a867b",
      "source": "s = pd.Series({\"a\":5, \"b\":3, \"c\":9})\ns\n",
      "cell_type": "code",
      "execution_count": 2,
      "outputs": [
        {
          "metadata": {},
          "data": {
            "application/vnd.dataresource+json": {
              "schema": {
                "pandas_version": "1.4.0",
                "primaryKey": [
                  "index"
                ],
                "fields": [
                  {
                    "name": "index",
                    "type": "string"
                  },
                  {
                    "name": "values",
                    "type": "integer"
                  }
                ]
              },
              "data": [
                {
                  "index": "a",
                  "values": 5
                },
                {
                  "index": "b",
                  "values": 3
                },
                {
                  "index": "c",
                  "values": 9
                }
              ]
            },
            "text/plain": "a    5\nb    3\nc    9\ndtype: int64"
          },
          "output_type": "execute_result",
          "execution_count": 2
        }
      ]
    },
    {
      "metadata": {
        "jupyter_d1": {
          "position": 3,
          "uuid": "fe748bc1-65ea-434d-b23b-2cba680e3967",
          "execution_state": "idle",
          "path": null,
          "working_directory": null,
          "notebook_uuid": "6bb77e0c-564a-4c2b-819a-b89e93642747",
          "name": null
        }
      },
      "id": "28c8d249",
      "source": "s[\"b\"]\n",
      "cell_type": "code",
      "execution_count": 3,
      "outputs": [
        {
          "metadata": {},
          "data": {
            "text/plain": "3"
          },
          "output_type": "execute_result",
          "execution_count": 3
        }
      ]
    },
    {
      "metadata": {
        "jupyter_d1": {
          "position": 4,
          "uuid": "0a4b20bb-d16c-4581-af06-847d2f6af0b6",
          "execution_state": "idle",
          "path": null,
          "working_directory": null,
          "notebook_uuid": "6bb77e0c-564a-4c2b-819a-b89e93642747",
          "name": null
        }
      },
      "id": "a3e9c6bf",
      "source": "s2 = s *3\ns2\n",
      "cell_type": "code",
      "execution_count": 4,
      "outputs": [
        {
          "metadata": {},
          "data": {
            "application/vnd.dataresource+json": {
              "schema": {
                "pandas_version": "1.4.0",
                "primaryKey": [
                  "index"
                ],
                "fields": [
                  {
                    "name": "index",
                    "type": "string"
                  },
                  {
                    "name": "values",
                    "type": "integer"
                  }
                ]
              },
              "data": [
                {
                  "index": "a",
                  "values": 15
                },
                {
                  "index": "b",
                  "values": 9
                },
                {
                  "index": "c",
                  "values": 27
                }
              ]
            },
            "text/plain": "a    15\nb     9\nc    27\ndtype: int64"
          },
          "output_type": "execute_result",
          "execution_count": 4
        }
      ]
    },
    {
      "metadata": {
        "jupyter_d1": {
          "position": 5,
          "uuid": "e9cf1606-86a5-4708-a958-cd44a2d0b74b",
          "execution_state": "idle",
          "path": null,
          "working_directory": null,
          "notebook_uuid": "6bb77e0c-564a-4c2b-819a-b89e93642747",
          "name": null
        }
      },
      "id": "4f9d59b5",
      "source": "df = pd.DataFrame({\"one\": s, \"two\": s2, \"three\":['A', 'B', 'C']})\ndf\n",
      "cell_type": "code",
      "execution_count": 6,
      "outputs": [
        {
          "metadata": {},
          "data": {
            "text/plain": "   one  two three\na    5   15     A\nb    3    9     B\nc    9   27     C",
            "application/vnd.dataresource+json": {
              "schema": {
                "pandas_version": "1.4.0",
                "primaryKey": [
                  "index"
                ],
                "fields": [
                  {
                    "name": "index",
                    "type": "string"
                  },
                  {
                    "name": "one",
                    "type": "integer"
                  },
                  {
                    "name": "two",
                    "type": "integer"
                  },
                  {
                    "name": "three",
                    "type": "string"
                  }
                ]
              },
              "data": [
                {
                  "one": 5,
                  "three": "A",
                  "two": 15,
                  "index": "a"
                },
                {
                  "one": 3,
                  "three": "B",
                  "two": 9,
                  "index": "b"
                },
                {
                  "one": 9,
                  "three": "C",
                  "two": 27,
                  "index": "c"
                }
              ]
            },
            "text/html": "<div>\n<style scoped>\n    .dataframe tbody tr th:only-of-type {\n        vertical-align: middle;\n    }\n\n    .dataframe tbody tr th {\n        vertical-align: top;\n    }\n\n    .dataframe thead th {\n        text-align: right;\n    }\n</style>\n<table border=\"1\" class=\"dataframe\">\n  <thead>\n    <tr style=\"text-align: right;\">\n      <th></th>\n      <th>one</th>\n      <th>two</th>\n      <th>three</th>\n    </tr>\n  </thead>\n  <tbody>\n    <tr>\n      <th>a</th>\n      <td>5</td>\n      <td>15</td>\n      <td>A</td>\n    </tr>\n    <tr>\n      <th>b</th>\n      <td>3</td>\n      <td>9</td>\n      <td>B</td>\n    </tr>\n    <tr>\n      <th>c</th>\n      <td>9</td>\n      <td>27</td>\n      <td>C</td>\n    </tr>\n  </tbody>\n</table>\n</div>"
          },
          "output_type": "execute_result",
          "execution_count": 6
        }
      ]
    },
    {
      "metadata": {
        "jupyter_d1": {
          "position": 6,
          "uuid": "33c74ff1-8459-4437-a41a-f4386692012c",
          "execution_state": "idle",
          "path": null,
          "working_directory": null,
          "notebook_uuid": "6bb77e0c-564a-4c2b-819a-b89e93642747",
          "name": null
        }
      },
      "id": "04978d85",
      "source": "df.info()\n",
      "cell_type": "code",
      "execution_count": 7,
      "outputs": [
        {
          "name": "stdout",
          "text": [
            "<class 'pandas.core.frame.DataFrame'>\n",
            "Index: 3 entries, a to c\n",
            "Data columns (total 3 columns):\n",
            " #   Column  Non-Null Count  Dtype \n",
            "---  ------  --------------  ----- \n",
            " 0   one     3 non-null      int64 \n",
            " 1   two     3 non-null      int64 \n",
            " 2   three   3 non-null      object\n",
            "dtypes: int64(2), object(1)\n",
            "memory usage: 204.0+ bytes\n",
            "\n"
          ],
          "output_type": "stream"
        }
      ]
    },
    {
      "metadata": {
        "jupyter_d1": {
          "position": 7,
          "uuid": "8642497c-ed5b-4dfd-99c2-a953d7046c6c",
          "execution_state": "idle",
          "path": null,
          "working_directory": null,
          "notebook_uuid": "6bb77e0c-564a-4c2b-819a-b89e93642747",
          "name": null
        }
      },
      "id": "5b5f6bcf",
      "source": "df2 = pd.read_csv('books.csv')\ndf2.head()\n",
      "cell_type": "code",
      "execution_count": 8,
      "outputs": [
        {
          "metadata": {},
          "data": {
            "text/plain": "          isbn13      isbn10           title subtitle   \n0  9780002005883  0002005883          Gilead      NaN  \\\n1  9780002261982  0002261987    Spider's Web  A Novel   \n2  9780006163831  0006163831    The One Tree      NaN   \n3  9780006178736  0006178731  Rage of angels      NaN   \n4  9780006280897  0006280897  The Four Loves      NaN   \n\n                           authors                     categories   \n0               Marilynne Robinson                        Fiction  \\\n1  Charles Osborne;Agatha Christie  Detective and mystery stories   \n2             Stephen R. Donaldson               American fiction   \n3                   Sidney Sheldon                        Fiction   \n4              Clive Staples Lewis                 Christian life   \n\n                                           thumbnail   \n0  http://books.google.com/books/content?id=KQZCP...  \\\n1  http://books.google.com/books/content?id=gA5GP...   \n2  http://books.google.com/books/content?id=OmQaw...   \n3  http://books.google.com/books/content?id=FKo2T...   \n4  http://books.google.com/books/content?id=XhQ5X...   \n\n                                         description  published_year   \n0  A NOVEL THAT READERS and critics have been eag...          2004.0  \\\n1  A new 'Christie for Christmas' -- a full-lengt...          2000.0   \n2  Volume Two of Stephen Donaldson's acclaimed se...          1982.0   \n3  A memorable, mesmerizing heroine Jennifer -- b...          1993.0   \n4  Lewis' work on the nature of love divides love...          2002.0   \n\n   average_rating  num_pages  ratings_count  \n0            3.85      247.0          361.0  \n1            3.83      241.0         5164.0  \n2            3.97      479.0          172.0  \n3            3.93      512.0        29532.0  \n4            4.15      170.0        33684.0  ",
            "application/vnd.dataresource+json": {
              "schema": {
                "pandas_version": "1.4.0",
                "primaryKey": [
                  "index"
                ],
                "fields": [
                  {
                    "name": "index",
                    "type": "integer"
                  },
                  {
                    "name": "isbn13",
                    "type": "integer"
                  },
                  {
                    "name": "isbn10",
                    "type": "string"
                  },
                  {
                    "name": "title",
                    "type": "string"
                  },
                  {
                    "name": "subtitle",
                    "type": "string"
                  },
                  {
                    "name": "authors",
                    "type": "string"
                  },
                  {
                    "name": "categories",
                    "type": "string"
                  },
                  {
                    "name": "thumbnail",
                    "type": "string"
                  },
                  {
                    "name": "description",
                    "type": "string"
                  },
                  {
                    "name": "published_year",
                    "type": "number"
                  },
                  {
                    "name": "average_rating",
                    "type": "number"
                  },
                  {
                    "name": "num_pages",
                    "type": "number"
                  },
                  {
                    "name": "ratings_count",
                    "type": "number"
                  }
                ]
              },
              "data": [
                {
                  "description": "A NOVEL THAT READERS and critics have been eagerly anticipating for over a decade, Gilead is an astonishingly imagined story of remarkable lives. John Ames is a preacher, the son of a preacher and the grandson (both maternal and paternal) of preachers. It’s 1956 in Gilead, Iowa, towards the end of the Reverend Ames’s life, and he is absorbed in recording his family’s story, a legacy for the young son he will never see grow up. Haunted by his grandfather’s presence, John tells of the rift between his grandfather and his father: the elder, an angry visionary who fought for the abolitionist cause, and his son, an ardent pacifist. He is troubled, too, by his prodigal namesake, Jack (John Ames) Boughton, his best friend’s lost son who returns to Gilead searching for forgiveness and redemption. Told in John Ames’s joyous, rambling voice that finds beauty, humour and truth in the smallest of life’s details, Gilead is a song of celebration and acceptance of the best and the worst the world has to offer. At its heart is a tale of the sacred bonds between fathers and sons, pitch-perfect in style and story, set to dazzle critics and readers alike.",
                  "categories": "Fiction",
                  "published_year": 2004,
                  "subtitle": null,
                  "index": 0,
                  "isbn13": 9780002005883,
                  "authors": "Marilynne Robinson",
                  "average_rating": 3.85,
                  "title": "Gilead",
                  "ratings_count": 361,
                  "thumbnail": "http://books.google.com/books/content?id=KQZCPgAACAAJ&printsec=frontcover&img=1&zoom=1&source=gbs_api",
                  "isbn10": "0002005883",
                  "num_pages": 247
                },
                {
                  "description": "A new 'Christie for Christmas' -- a full-length novel adapted from her acclaimed play by Charles Osborne Following BLACK COFFEE and THE UNEXPECTED GUEST comes the final Agatha Christie play novelisation, bringing her superb storytelling to a new legion of fans. Clarissa, the wife of a Foreign Office diplomat, is given to daydreaming. 'Supposing I were to come down one morning and find a dead body in the library, what should I do?' she muses. Clarissa has her chance to find out when she discovers a body in the drawing-room of her house in Kent. Desperate to dispose of the body before her husband comes home with an important foreign politician, Clarissa persuades her three house guests to become accessories and accomplices. It seems that the murdered man was not unknown to certain members of the house party (but which ones?), and the search begins for the murderer and the motive, while at the same time trying to persuade a police inspector that there has been no murder at all... SPIDER'S WEB was written in 1954 specifically for Margaret Lockwood and opened first at the Theatre Royal Nottingham before moving to the Savoy Theatre in London on 14 December 1954. With THE MOUSETRAP and WI",
                  "categories": "Detective and mystery stories",
                  "published_year": 2000,
                  "subtitle": "A Novel",
                  "index": 1,
                  "isbn13": 9780002261982,
                  "authors": "Charles Osborne;Agatha Christie",
                  "average_rating": 3.83,
                  "title": "Spider's Web",
                  "ratings_count": 5164,
                  "thumbnail": "http://books.google.com/books/content?id=gA5GPgAACAAJ&printsec=frontcover&img=1&zoom=1&source=gbs_api",
                  "isbn10": "0002261987",
                  "num_pages": 241
                },
                {
                  "description": "Volume Two of Stephen Donaldson's acclaimed second trilogy featuing the compelling anti-hero Thomas Covenant.",
                  "categories": "American fiction",
                  "published_year": 1982,
                  "subtitle": null,
                  "index": 2,
                  "isbn13": 9780006163831,
                  "authors": "Stephen R. Donaldson",
                  "average_rating": 3.97,
                  "title": "The One Tree",
                  "ratings_count": 172,
                  "thumbnail": "http://books.google.com/books/content?id=OmQawwEACAAJ&printsec=frontcover&img=1&zoom=1&source=gbs_api",
                  "isbn10": "0006163831",
                  "num_pages": 479
                },
                {
                  "description": "A memorable, mesmerizing heroine Jennifer -- brilliant, beautiful, an attorney on the way up until the Mafia's schemes win her the hatred of an implacable enemy -- and a love more destructive than hate. A dangerous, dramatic world The Dark Arena of organized crime and flashbulb lit courtrooms where ambitious prosecutors begin their climb to political power.",
                  "categories": "Fiction",
                  "published_year": 1993,
                  "subtitle": null,
                  "index": 3,
                  "isbn13": 9780006178736,
                  "authors": "Sidney Sheldon",
                  "average_rating": 3.93,
                  "title": "Rage of angels",
                  "ratings_count": 29532,
                  "thumbnail": "http://books.google.com/books/content?id=FKo2TgANz74C&printsec=frontcover&img=1&zoom=1&source=gbs_api",
                  "isbn10": "0006178731",
                  "num_pages": 512
                },
                {
                  "description": "Lewis' work on the nature of love divides love into four categories; Affection, Friendship, Eros and Charity. The first three come naturally to humanity. Charity, however, the Gift-love of God, is divine, and without this supernatural love, the natural loves become distorted and even dangerous.",
                  "categories": "Christian life",
                  "published_year": 2002,
                  "subtitle": null,
                  "index": 4,
                  "isbn13": 9780006280897,
                  "authors": "Clive Staples Lewis",
                  "average_rating": 4.15,
                  "title": "The Four Loves",
                  "ratings_count": 33684,
                  "thumbnail": "http://books.google.com/books/content?id=XhQ5XsFcpGIC&printsec=frontcover&img=1&zoom=1&source=gbs_api",
                  "isbn10": "0006280897",
                  "num_pages": 170
                }
              ]
            },
            "text/html": "<div>\n<style scoped>\n    .dataframe tbody tr th:only-of-type {\n        vertical-align: middle;\n    }\n\n    .dataframe tbody tr th {\n        vertical-align: top;\n    }\n\n    .dataframe thead th {\n        text-align: right;\n    }\n</style>\n<table border=\"1\" class=\"dataframe\">\n  <thead>\n    <tr style=\"text-align: right;\">\n      <th></th>\n      <th>isbn13</th>\n      <th>isbn10</th>\n      <th>title</th>\n      <th>subtitle</th>\n      <th>authors</th>\n      <th>categories</th>\n      <th>thumbnail</th>\n      <th>description</th>\n      <th>published_year</th>\n      <th>average_rating</th>\n      <th>num_pages</th>\n      <th>ratings_count</th>\n    </tr>\n  </thead>\n  <tbody>\n    <tr>\n      <th>0</th>\n      <td>9780002005883</td>\n      <td>0002005883</td>\n      <td>Gilead</td>\n      <td>NaN</td>\n      <td>Marilynne Robinson</td>\n      <td>Fiction</td>\n      <td>http://books.google.com/books/content?id=KQZCP...</td>\n      <td>A NOVEL THAT READERS and critics have been eag...</td>\n      <td>2004.0</td>\n      <td>3.85</td>\n      <td>247.0</td>\n      <td>361.0</td>\n    </tr>\n    <tr>\n      <th>1</th>\n      <td>9780002261982</td>\n      <td>0002261987</td>\n      <td>Spider's Web</td>\n      <td>A Novel</td>\n      <td>Charles Osborne;Agatha Christie</td>\n      <td>Detective and mystery stories</td>\n      <td>http://books.google.com/books/content?id=gA5GP...</td>\n      <td>A new 'Christie for Christmas' -- a full-lengt...</td>\n      <td>2000.0</td>\n      <td>3.83</td>\n      <td>241.0</td>\n      <td>5164.0</td>\n    </tr>\n    <tr>\n      <th>2</th>\n      <td>9780006163831</td>\n      <td>0006163831</td>\n      <td>The One Tree</td>\n      <td>NaN</td>\n      <td>Stephen R. Donaldson</td>\n      <td>American fiction</td>\n      <td>http://books.google.com/books/content?id=OmQaw...</td>\n      <td>Volume Two of Stephen Donaldson's acclaimed se...</td>\n      <td>1982.0</td>\n      <td>3.97</td>\n      <td>479.0</td>\n      <td>172.0</td>\n    </tr>\n    <tr>\n      <th>3</th>\n      <td>9780006178736</td>\n      <td>0006178731</td>\n      <td>Rage of angels</td>\n      <td>NaN</td>\n      <td>Sidney Sheldon</td>\n      <td>Fiction</td>\n      <td>http://books.google.com/books/content?id=FKo2T...</td>\n      <td>A memorable, mesmerizing heroine Jennifer -- b...</td>\n      <td>1993.0</td>\n      <td>3.93</td>\n      <td>512.0</td>\n      <td>29532.0</td>\n    </tr>\n    <tr>\n      <th>4</th>\n      <td>9780006280897</td>\n      <td>0006280897</td>\n      <td>The Four Loves</td>\n      <td>NaN</td>\n      <td>Clive Staples Lewis</td>\n      <td>Christian life</td>\n      <td>http://books.google.com/books/content?id=XhQ5X...</td>\n      <td>Lewis' work on the nature of love divides love...</td>\n      <td>2002.0</td>\n      <td>4.15</td>\n      <td>170.0</td>\n      <td>33684.0</td>\n    </tr>\n  </tbody>\n</table>\n</div>"
          },
          "output_type": "execute_result",
          "execution_count": 8
        }
      ]
    }
  ],
  "metadata": {
    "jupyter_d1": {
      "position": null,
      "uuid": "6bb77e0c-564a-4c2b-819a-b89e93642747",
      "execution_state": null,
      "path": "/Users/kylenorris/Desktop/Pandas Tutorial/IntroPandas.ipynb",
      "working_directory": "/Users/kylenorris/Desktop/Pandas Tutorial",
      "notebook_uuid": null,
      "name": "IntroPandas"
    },
    "language_info": {
      "file_extension": ".py",
      "codemirror_mode": {
        "name": "ipython",
        "version": 3
      },
      "mimetype": "text/x-python",
      "pygments_lexer": "ipython3",
      "version": "3.10.0",
      "nbconvert_exporter": "python",
      "name": "python"
    },
    "kernelspec": {
      "name": "python3",
      "language": "python",
      "display_name": "Python 3 (ipykernel)"
    }
  },
  "nbformat_minor": 5,
  "nbformat": 4
}
