{
  "cells": [
    {
      "metadata": {
        "jupyter_d1": {
          "position": 0,
          "uuid": "1395f3e2-3f01-4382-b292-203c86d9ad6d",
          "execution_state": "idle",
          "path": null,
          "working_directory": null,
          "notebook_uuid": "4a1a2695-0878-45dc-a46b-483ba6f986b6",
          "name": null
        }
      },
      "id": "515fbe2c",
      "source": "# Handling Missing Values\n",
      "cell_type": "markdown",
      "outputs": []
    },
    {
      "metadata": {
        "jupyter_d1": {
          "position": 1,
          "uuid": "70cdec9c-6348-4eba-bdff-4700422094e3",
          "execution_state": "idle",
          "path": null,
          "working_directory": null,
          "notebook_uuid": "4a1a2695-0878-45dc-a46b-483ba6f986b6",
          "name": null
        }
      },
      "id": "11f1d571",
      "source": "import pandas as pd\nimport seaborn as sns\n",
      "cell_type": "code",
      "execution_count": null,
      "outputs": []
    },
    {
      "metadata": {
        "jupyter_d1": {
          "position": 2,
          "uuid": "6a00617d-4f89-4d0d-949b-5d76df64f0fa",
          "execution_state": "idle",
          "path": null,
          "working_directory": null,
          "notebook_uuid": "4a1a2695-0878-45dc-a46b-483ba6f986b6",
          "name": null
        }
      },
      "id": "c3c9869a",
      "source": "## Dropping Data\n",
      "cell_type": "markdown",
      "outputs": []
    },
    {
      "metadata": {
        "jupyter_d1": {
          "position": 3,
          "uuid": "9878db66-ad2f-46da-92c6-dbdb8c6bd0c4",
          "execution_state": "idle",
          "path": null,
          "working_directory": null,
          "notebook_uuid": "4a1a2695-0878-45dc-a46b-483ba6f986b6",
          "name": null
        }
      },
      "id": "32a55a4f",
      "source": "df = pd.read_csv(\"fake_medical_data.csv\", index_col=None)\ndf.head()\n",
      "cell_type": "code",
      "execution_count": null,
      "outputs": []
    },
    {
      "metadata": {
        "jupyter_d1": {
          "position": 4,
          "uuid": "9d5a58d6-4cc2-4796-be89-74fbf2598ac8",
          "execution_state": "idle",
          "path": null,
          "working_directory": null,
          "notebook_uuid": "4a1a2695-0878-45dc-a46b-483ba6f986b6",
          "name": null
        }
      },
      "id": "a541731f",
      "source": "df.isnull().sum()\n",
      "cell_type": "code",
      "execution_count": null,
      "outputs": []
    },
    {
      "metadata": {
        "jupyter_d1": {
          "position": 5,
          "uuid": "2ed6726e-94b3-4251-bd96-37153925136b",
          "execution_state": "idle",
          "path": null,
          "working_directory": null,
          "notebook_uuid": "4a1a2695-0878-45dc-a46b-483ba6f986b6",
          "name": null
        }
      },
      "id": "70de2fbc",
      "source": "df.info()\n",
      "cell_type": "code",
      "execution_count": null,
      "outputs": []
    },
    {
      "metadata": {
        "jupyter_d1": {
          "position": 6,
          "uuid": "8292fe02-4cf5-4643-8cbf-c709db54f05b",
          "execution_state": "idle",
          "path": null,
          "working_directory": null,
          "notebook_uuid": "4a1a2695-0878-45dc-a46b-483ba6f986b6",
          "name": null
        }
      },
      "id": "b3ae12c9",
      "source": "# Remove rows with missing values\nclean_data = df.dropna(axis=0)\nclean_data.info()\n",
      "cell_type": "code",
      "execution_count": null,
      "outputs": []
    },
    {
      "metadata": {
        "jupyter_d1": {
          "position": 7,
          "uuid": "977e2aa4-88d6-40ea-baee-ebcce5383c7b",
          "execution_state": "idle",
          "path": null,
          "working_directory": null,
          "notebook_uuid": "4a1a2695-0878-45dc-a46b-483ba6f986b6",
          "name": null
        }
      },
      "id": "73343082",
      "source": "# Remove columns with missing values\nclean_data = df.dropna(axis=1)\nclean_data.head()\n",
      "cell_type": "code",
      "execution_count": null,
      "outputs": []
    },
    {
      "metadata": {
        "jupyter_d1": {
          "position": 8,
          "uuid": "a54a1885-1e4f-4cd1-929a-dbc9de2c7721",
          "execution_state": "idle",
          "path": null,
          "working_directory": null,
          "notebook_uuid": "4a1a2695-0878-45dc-a46b-483ba6f986b6",
          "name": null
        }
      },
      "id": "f12129be",
      "source": "## Imputation\n",
      "cell_type": "markdown",
      "outputs": []
    },
    {
      "metadata": {
        "jupyter_d1": {
          "position": 9,
          "uuid": "dd26a702-700c-4212-b043-aa64e76bb9a9",
          "execution_state": "idle",
          "path": null,
          "working_directory": null,
          "notebook_uuid": "4a1a2695-0878-45dc-a46b-483ba6f986b6",
          "name": null
        }
      },
      "id": "29911083",
      "source": "imputed = df.copy()\nimputed[\"Body Temperature\"].fillna(df[\"Body Temperature\"].mean(), inplace=True)\nimputed.head(10)\n",
      "cell_type": "code",
      "execution_count": null,
      "outputs": []
    },
    {
      "metadata": {
        "jupyter_d1": {
          "position": 10,
          "uuid": "e560efc1-d735-4475-a015-112e6d697b38",
          "execution_state": "idle",
          "path": null,
          "working_directory": null,
          "notebook_uuid": "4a1a2695-0878-45dc-a46b-483ba6f986b6",
          "name": null
        }
      },
      "id": "da686125",
      "source": "imputed[\"Age\"].ffill(inplace=True)\nimputed.head(10)\n",
      "cell_type": "code",
      "execution_count": null,
      "outputs": []
    },
    {
      "metadata": {
        "jupyter_d1": {
          "position": 11,
          "uuid": "0e6c3557-0f3d-485e-b86b-3b944934910a",
          "execution_state": "idle",
          "path": null,
          "working_directory": null,
          "notebook_uuid": "4a1a2695-0878-45dc-a46b-483ba6f986b6",
          "name": null
        }
      },
      "id": "774460ff",
      "source": "## Interpolation\n",
      "cell_type": "markdown",
      "outputs": []
    },
    {
      "metadata": {
        "jupyter_d1": {
          "position": 12,
          "uuid": "e71c3d0b-20b3-4416-b596-acd5c70b3f8a",
          "execution_state": "idle",
          "path": null,
          "working_directory": null,
          "notebook_uuid": "4a1a2695-0878-45dc-a46b-483ba6f986b6",
          "name": null
        }
      },
      "id": "090b7e46",
      "source": "df = pd.read_csv(\"temperature.csv\", index_col=\"Record\")\ndf.head()\n",
      "cell_type": "code",
      "execution_count": null,
      "outputs": []
    },
    {
      "metadata": {
        "jupyter_d1": {
          "position": 13,
          "uuid": "577e36c4-aa67-4352-a448-62f6d7e4b793",
          "execution_state": "idle",
          "path": null,
          "working_directory": null,
          "notebook_uuid": "4a1a2695-0878-45dc-a46b-483ba6f986b6",
          "name": null
        }
      },
      "id": "73bb7cc3",
      "source": "sns.pointplot(data = df, x=df.index, y='Temperature')\n",
      "cell_type": "code",
      "execution_count": null,
      "outputs": []
    },
    {
      "metadata": {
        "jupyter_d1": {
          "position": 14,
          "uuid": "b65bcf5e-3875-4e08-b91b-9ff340aa6a58",
          "execution_state": "idle",
          "path": null,
          "working_directory": null,
          "notebook_uuid": "4a1a2695-0878-45dc-a46b-483ba6f986b6",
          "name": null
        }
      },
      "id": "3b7c4eae",
      "source": "df[\"Temperature\"] = df[\"Temperature\"].interpolate()\n",
      "cell_type": "code",
      "execution_count": null,
      "outputs": []
    },
    {
      "metadata": {
        "jupyter_d1": {
          "position": 15,
          "uuid": "c620650c-b89f-4f45-b51b-2d40a904373d",
          "execution_state": "idle",
          "path": null,
          "working_directory": null,
          "notebook_uuid": "4a1a2695-0878-45dc-a46b-483ba6f986b6",
          "name": null
        }
      },
      "id": "0243e0a0",
      "source": "sns.pointplot(data = df, x=df.index, y='Temperature')\n",
      "cell_type": "code",
      "execution_count": null,
      "outputs": []
    }
  ],
  "metadata": {
    "jupyter_d1": {
      "position": null,
      "uuid": "4a1a2695-0878-45dc-a46b-483ba6f986b6",
      "execution_state": null,
      "path": "/Users/kylenorris/HowToHandleMissingValues.ipynb",
      "working_directory": "/Users/kylenorris/Data Science Notebooks/Data Cleaning Notebooks",
      "notebook_uuid": null,
      "name": "HowToHandleMissingValues"
    },
    "language_info": {
      "file_extension": ".py",
      "codemirror_mode": {
        "name": "ipython",
        "version": 3
      },
      "mimetype": "text/x-python",
      "pygments_lexer": "ipython3",
      "version": "3.8.2",
      "nbconvert_exporter": "python",
      "name": "python"
    },
    "kernelspec": {
      "name": "python3",
      "language": "python",
      "display_name": "Python 3"
    }
  },
  "nbformat_minor": 4,
  "nbformat": 4
}
