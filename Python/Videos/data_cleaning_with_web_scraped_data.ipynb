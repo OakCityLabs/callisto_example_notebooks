{
  "cells": [
    {
      "metadata": {
        "jupyter_d1": {
          "position": 0,
          "uuid": "72db7e7a-fd53-4a94-9eaf-04cdb3ad0b30",
          "execution_state": "idle",
          "path": null,
          "working_directory": null,
          "notebook_uuid": "2204a6aa-0cfc-4ae3-a50e-ba4b4a0718da",
          "name": null
        }
      },
      "id": "a41e7050",
      "source": "# Where to find the data:\n# https://www.kaggle.com/datasets/bharatnatrayn/movies-dataset-for-feature-extracion-prediction\n",
      "cell_type": "code",
      "execution_count": null,
      "outputs": []
    },
    {
      "metadata": {
        "jupyter_d1": {
          "position": 1,
          "uuid": "9878db66-ad2f-46da-92c6-dbdb8c6bd0c4",
          "execution_state": "idle",
          "path": null,
          "working_directory": null,
          "notebook_uuid": "2204a6aa-0cfc-4ae3-a50e-ba4b4a0718da",
          "name": null
        }
      },
      "id": "32a55a4f",
      "source": "import pandas as pd\nimport seaborn as sns\n\ndf = pd.read_csv(\"movies.csv\", index_col=None)\ndf.head()\n",
      "cell_type": "code",
      "execution_count": 1,
      "outputs": [
        {
          "metadata": {},
          "data": {
            "text/plain": "                                MOVIES         YEAR  \\\n0                        Blood Red Sky       (2021)   \n1  Masters of the Universe: Revelation     (2021– )   \n2                     The Walking Dead  (2010–2022)   \n3                       Rick and Morty     (2013– )   \n4                      Army of Thieves       (2021)   \n\n                                        GENRE  RATING  \\\n0      \\nAction, Horror, Thriller                 6.1   \n1  \\nAnimation, Action, Adventure                 5.0   \n2       \\nDrama, Horror, Thriller                 8.2   \n3  \\nAnimation, Adventure, Comedy                 9.2   \n4         \\nAction, Crime, Horror                 NaN   \n\n                                            ONE-LINE  \\\n0  \\nA woman with a mysterious illness is forced ...   \n1  \\nThe war for Eternia begins again in what may...   \n2  \\nSheriff Deputy Rick Grimes wakes up from a c...   \n3  \\nAn animated series that follows the exploits...   \n4  \\nA prequel, set before the events of Army of ...   \n\n                                               STARS    VOTES  RunTime Gross  \n0  \\n    Director:\\nPeter Thorwarth\\n| \\n    Star...   21,062    121.0   NaN  \n1  \\n            \\n    Stars:\\nChris Wood, \\nSara...   17,870     25.0   NaN  \n2  \\n            \\n    Stars:\\nAndrew Lincoln, \\n...  885,805     44.0   NaN  \n3  \\n            \\n    Stars:\\nJustin Roiland, \\n...  414,849     23.0   NaN  \n4  \\n    Director:\\nMatthias Schweighöfer\\n| \\n  ...      NaN      NaN   NaN  ",
            "application/vnd.dataresource+json": {
              "schema": {
                "pandas_version": "1.4.0",
                "primaryKey": [
                  "index"
                ],
                "fields": [
                  {
                    "name": "index",
                    "type": "integer"
                  },
                  {
                    "name": "MOVIES",
                    "type": "string"
                  },
                  {
                    "name": "YEAR",
                    "type": "string"
                  },
                  {
                    "name": "GENRE",
                    "type": "string"
                  },
                  {
                    "name": "RATING",
                    "type": "number"
                  },
                  {
                    "name": "ONE-LINE",
                    "type": "string"
                  },
                  {
                    "name": "STARS",
                    "type": "string"
                  },
                  {
                    "name": "VOTES",
                    "type": "string"
                  },
                  {
                    "name": "RunTime",
                    "type": "number"
                  },
                  {
                    "name": "Gross",
                    "type": "string"
                  }
                ]
              },
              "data": [
                {
                  "RATING": 6.1,
                  "MOVIES": "Blood Red Sky",
                  "VOTES": "21,062",
                  "RunTime": 121,
                  "YEAR": "(2021)",
                  "ONE-LINE": "\nA woman with a mysterious illness is forced into action when a group of terrorists attempt to hijack a transatlantic overnight flight.",
                  "GENRE": "\nAction, Horror, Thriller            ",
                  "STARS": "\n    Director:\nPeter Thorwarth\n| \n    Stars:\nPeri Baumeister, \nCarl Anton Koch, \nAlexander Scheer, \nKais Setti\n",
                  "Gross": null,
                  "index": 0
                },
                {
                  "RATING": 5,
                  "MOVIES": "Masters of the Universe: Revelation",
                  "VOTES": "17,870",
                  "RunTime": 25,
                  "YEAR": "(2021– )",
                  "STARS": "\n            \n    Stars:\nChris Wood, \nSarah Michelle Gellar, \nLena Headey, \nMark Hamill\n",
                  "GENRE": "\nAnimation, Action, Adventure            ",
                  "ONE-LINE": "\nThe war for Eternia begins again in what may be the final battle between He-Man and Skeletor. A new animated series from writer-director Kevin Smith.",
                  "Gross": null,
                  "index": 1
                },
                {
                  "RATING": 8.2,
                  "MOVIES": "The Walking Dead",
                  "VOTES": "885,805",
                  "RunTime": 44,
                  "YEAR": "(2010–2022)",
                  "STARS": "\n            \n    Stars:\nAndrew Lincoln, \nNorman Reedus, \nMelissa McBride, \nLauren Cohan\n",
                  "ONE-LINE": "\nSheriff Deputy Rick Grimes wakes up from a coma to learn the world is in ruins and must lead a group of survivors to stay alive.",
                  "GENRE": "\nDrama, Horror, Thriller            ",
                  "Gross": null,
                  "index": 2
                },
                {
                  "RATING": 9.2,
                  "MOVIES": "Rick and Morty",
                  "VOTES": "414,849",
                  "RunTime": 23,
                  "YEAR": "(2013– )",
                  "ONE-LINE": "\nAn animated series that follows the exploits of a super scientist and his not-so-bright grandson.",
                  "STARS": "\n            \n    Stars:\nJustin Roiland, \nChris Parnell, \nSpencer Grammer, \nSarah Chalke\n",
                  "GENRE": "\nAnimation, Adventure, Comedy            ",
                  "Gross": null,
                  "index": 3
                },
                {
                  "RATING": null,
                  "MOVIES": "Army of Thieves",
                  "VOTES": null,
                  "RunTime": null,
                  "YEAR": "(2021)",
                  "STARS": "\n    Director:\nMatthias Schweighöfer\n| \n    Stars:\nMatthias Schweighöfer, \nNathalie Emmanuel, \nRuby O. Fee, \nStuart Martin\n",
                  "GENRE": "\nAction, Crime, Horror            ",
                  "ONE-LINE": "\nA prequel, set before the events of Army of the Dead, which focuses on German safecracker Ludwig Dieter leading a group of aspiring thieves on a top secret heist during the early stages of the zombie apocalypse.",
                  "Gross": null,
                  "index": 4
                }
              ]
            },
            "text/html": "<div>\n<style scoped>\n    .dataframe tbody tr th:only-of-type {\n        vertical-align: middle;\n    }\n\n    .dataframe tbody tr th {\n        vertical-align: top;\n    }\n\n    .dataframe thead th {\n        text-align: right;\n    }\n</style>\n<table border=\"1\" class=\"dataframe\">\n  <thead>\n    <tr style=\"text-align: right;\">\n      <th></th>\n      <th>MOVIES</th>\n      <th>YEAR</th>\n      <th>GENRE</th>\n      <th>RATING</th>\n      <th>ONE-LINE</th>\n      <th>STARS</th>\n      <th>VOTES</th>\n      <th>RunTime</th>\n      <th>Gross</th>\n    </tr>\n  </thead>\n  <tbody>\n    <tr>\n      <th>0</th>\n      <td>Blood Red Sky</td>\n      <td>(2021)</td>\n      <td>\\nAction, Horror, Thriller</td>\n      <td>6.1</td>\n      <td>\\nA woman with a mysterious illness is forced ...</td>\n      <td>\\n    Director:\\nPeter Thorwarth\\n| \\n    Star...</td>\n      <td>21,062</td>\n      <td>121.0</td>\n      <td>NaN</td>\n    </tr>\n    <tr>\n      <th>1</th>\n      <td>Masters of the Universe: Revelation</td>\n      <td>(2021– )</td>\n      <td>\\nAnimation, Action, Adventure</td>\n      <td>5.0</td>\n      <td>\\nThe war for Eternia begins again in what may...</td>\n      <td>\\n            \\n    Stars:\\nChris Wood, \\nSara...</td>\n      <td>17,870</td>\n      <td>25.0</td>\n      <td>NaN</td>\n    </tr>\n    <tr>\n      <th>2</th>\n      <td>The Walking Dead</td>\n      <td>(2010–2022)</td>\n      <td>\\nDrama, Horror, Thriller</td>\n      <td>8.2</td>\n      <td>\\nSheriff Deputy Rick Grimes wakes up from a c...</td>\n      <td>\\n            \\n    Stars:\\nAndrew Lincoln, \\n...</td>\n      <td>885,805</td>\n      <td>44.0</td>\n      <td>NaN</td>\n    </tr>\n    <tr>\n      <th>3</th>\n      <td>Rick and Morty</td>\n      <td>(2013– )</td>\n      <td>\\nAnimation, Adventure, Comedy</td>\n      <td>9.2</td>\n      <td>\\nAn animated series that follows the exploits...</td>\n      <td>\\n            \\n    Stars:\\nJustin Roiland, \\n...</td>\n      <td>414,849</td>\n      <td>23.0</td>\n      <td>NaN</td>\n    </tr>\n    <tr>\n      <th>4</th>\n      <td>Army of Thieves</td>\n      <td>(2021)</td>\n      <td>\\nAction, Crime, Horror</td>\n      <td>NaN</td>\n      <td>\\nA prequel, set before the events of Army of ...</td>\n      <td>\\n    Director:\\nMatthias Schweighöfer\\n| \\n  ...</td>\n      <td>NaN</td>\n      <td>NaN</td>\n      <td>NaN</td>\n    </tr>\n  </tbody>\n</table>\n</div>"
          },
          "output_type": "execute_result",
          "execution_count": 1
        }
      ]
    },
    {
      "metadata": {
        "jupyter_d1": {
          "position": 2,
          "uuid": "38a9f6f6-2908-4873-ba50-fe10ab8f66c5",
          "execution_state": "idle",
          "path": null,
          "working_directory": null,
          "notebook_uuid": "2204a6aa-0cfc-4ae3-a50e-ba4b4a0718da",
          "name": null
        }
      },
      "id": "960f74d0",
      "source": "df.drop(columns=['ONE-LINE', 'STARS'], inplace=True)\ndf.info()\n",
      "cell_type": "code",
      "execution_count": 2,
      "outputs": [
        {
          "name": "stdout",
          "text": [
            "<class 'pandas.core.frame.DataFrame'>\nRangeIndex: 9999 entries, 0 to 9998\nData columns (total 7 columns):\n #   Column   Non-Null Count  Dtype  \n---  ------   --------------  -----  \n 0   MOVIES   9999 non-null   object \n 1   YEAR     9355 non-null   object \n 2   GENRE    9919 non-null   object \n 3   RATING   8179 non-null   float64\n 4   VOTES    8179 non-null   object \n 5   RunTime  7041 non-null   float64\n 6   Gross    460 non-null    object \ndtypes: float64(2), object(5)\nmemory usage: 546.9+ KB\n"
          ],
          "output_type": "stream"
        }
      ]
    },
    {
      "metadata": {
        "jupyter_d1": {
          "position": 3,
          "uuid": "d341fdf2-88ca-4009-a4b9-af656eaf1836",
          "execution_state": "idle",
          "path": null,
          "working_directory": null,
          "notebook_uuid": "2204a6aa-0cfc-4ae3-a50e-ba4b4a0718da",
          "name": null
        }
      },
      "id": "ecd5fa62",
      "source": "# Cleaning the \"Year\" Column\n\n### Current variations in the data:\n1. (2021)\n2. (2021- )\n3. (2010-2022)\n4. (2021 TV Special)\n5. (I) (2013-2016)\n",
      "cell_type": "markdown",
      "outputs": []
    },
    {
      "metadata": {
        "jupyter_d1": {
          "position": 4,
          "uuid": "33b63452-583f-4376-9204-fe8a84b7ba0f",
          "execution_state": "idle",
          "path": null,
          "working_directory": null,
          "notebook_uuid": "2204a6aa-0cfc-4ae3-a50e-ba4b4a0718da",
          "name": null
        }
      },
      "id": "50af8362",
      "source": "df[\"sequel\"] = df[\"YEAR\"].str.extract(r'([I]+)')\ndf[\"sequel\"].iloc[880:890,]\n\n",
      "cell_type": "code",
      "execution_count": 3,
      "outputs": [
        {
          "metadata": {},
          "data": {
            "application/vnd.dataresource+json": {
              "schema": {
                "pandas_version": "1.4.0",
                "primaryKey": [
                  "index"
                ],
                "fields": [
                  {
                    "name": "index",
                    "type": "integer"
                  },
                  {
                    "name": "sequel",
                    "type": "string"
                  }
                ]
              },
              "data": [
                {
                  "index": 880,
                  "sequel": "I"
                },
                {
                  "index": 881,
                  "sequel": null
                },
                {
                  "index": 882,
                  "sequel": null
                },
                {
                  "index": 883,
                  "sequel": null
                },
                {
                  "index": 884,
                  "sequel": null
                },
                {
                  "index": 885,
                  "sequel": null
                },
                {
                  "index": 886,
                  "sequel": null
                },
                {
                  "index": 887,
                  "sequel": null
                },
                {
                  "index": 888,
                  "sequel": "I"
                },
                {
                  "index": 889,
                  "sequel": "II"
                }
              ]
            },
            "text/plain": "880      I\n881    NaN\n882    NaN\n883    NaN\n884    NaN\n885    NaN\n886    NaN\n887    NaN\n888      I\n889     II\nName: sequel, dtype: object"
          },
          "output_type": "execute_result",
          "execution_count": 3
        }
      ]
    },
    {
      "metadata": {
        "jupyter_d1": {
          "position": 5,
          "uuid": "063ecf8a-04a4-4d63-be19-d9bca4b032a3",
          "execution_state": "idle",
          "path": null,
          "working_directory": null,
          "notebook_uuid": "2204a6aa-0cfc-4ae3-a50e-ba4b4a0718da",
          "name": null
        }
      },
      "id": "8c9a8850",
      "source": "years_range = df[\"YEAR\"].str.extract(r'([\\d–]+)')\n\nyears_split = years_range[0].str.split(\"–\", expand=True)\nyears_split.head()\n",
      "cell_type": "code",
      "execution_count": 4,
      "outputs": [
        {
          "metadata": {},
          "data": {
            "text/plain": "      0     1\n0  2021  None\n1  2021      \n2  2010  2022\n3  2013      \n4  2021  None",
            "application/vnd.dataresource+json": {
              "schema": {
                "pandas_version": "1.4.0",
                "primaryKey": [
                  "index"
                ],
                "fields": [
                  {
                    "name": "index",
                    "type": "integer"
                  },
                  {
                    "name": 0,
                    "type": "string"
                  },
                  {
                    "name": 1,
                    "type": "string"
                  }
                ]
              },
              "data": [
                {
                  "index": 0,
                  "1": null,
                  "0": "2021"
                },
                {
                  "index": 1,
                  "1": "",
                  "0": "2021"
                },
                {
                  "index": 2,
                  "1": "2022",
                  "0": "2010"
                },
                {
                  "index": 3,
                  "0": "2013",
                  "1": ""
                },
                {
                  "index": 4,
                  "1": null,
                  "0": "2021"
                }
              ]
            },
            "text/html": "<div>\n<style scoped>\n    .dataframe tbody tr th:only-of-type {\n        vertical-align: middle;\n    }\n\n    .dataframe tbody tr th {\n        vertical-align: top;\n    }\n\n    .dataframe thead th {\n        text-align: right;\n    }\n</style>\n<table border=\"1\" class=\"dataframe\">\n  <thead>\n    <tr style=\"text-align: right;\">\n      <th></th>\n      <th>0</th>\n      <th>1</th>\n    </tr>\n  </thead>\n  <tbody>\n    <tr>\n      <th>0</th>\n      <td>2021</td>\n      <td>None</td>\n    </tr>\n    <tr>\n      <th>1</th>\n      <td>2021</td>\n      <td></td>\n    </tr>\n    <tr>\n      <th>2</th>\n      <td>2010</td>\n      <td>2022</td>\n    </tr>\n    <tr>\n      <th>3</th>\n      <td>2013</td>\n      <td></td>\n    </tr>\n    <tr>\n      <th>4</th>\n      <td>2021</td>\n      <td>None</td>\n    </tr>\n  </tbody>\n</table>\n</div>"
          },
          "output_type": "execute_result",
          "execution_count": 4
        }
      ]
    },
    {
      "metadata": {
        "jupyter_d1": {
          "position": 6,
          "uuid": "ece43c2d-28ff-4090-801e-c04fda8ab058",
          "execution_state": "idle",
          "path": null,
          "working_directory": null,
          "notebook_uuid": "2204a6aa-0cfc-4ae3-a50e-ba4b4a0718da",
          "name": null
        }
      },
      "id": "bc2f0bd3",
      "source": "df[\"year_1\"] = years_split[0]\ndf[\"year_2\"] = years_split[1]\n\ndf.drop(columns=[\"YEAR\"], inplace=True)\ndf[[\"sequel\", \"year_1\", \"year_2\"]].iloc[880:890,]\n",
      "cell_type": "code",
      "execution_count": 5,
      "outputs": [
        {
          "metadata": {},
          "data": {
            "text/html": "<div>\n<style scoped>\n    .dataframe tbody tr th:only-of-type {\n        vertical-align: middle;\n    }\n\n    .dataframe tbody tr th {\n        vertical-align: top;\n    }\n\n    .dataframe thead th {\n        text-align: right;\n    }\n</style>\n<table border=\"1\" class=\"dataframe\">\n  <thead>\n    <tr style=\"text-align: right;\">\n      <th></th>\n      <th>sequel</th>\n      <th>year_1</th>\n      <th>year_2</th>\n    </tr>\n  </thead>\n  <tbody>\n    <tr>\n      <th>880</th>\n      <td>I</td>\n      <td>2018</td>\n      <td>None</td>\n    </tr>\n    <tr>\n      <th>881</th>\n      <td>NaN</td>\n      <td>2021</td>\n      <td></td>\n    </tr>\n    <tr>\n      <th>882</th>\n      <td>NaN</td>\n      <td>1997</td>\n      <td>None</td>\n    </tr>\n    <tr>\n      <th>883</th>\n      <td>NaN</td>\n      <td>2016</td>\n      <td>None</td>\n    </tr>\n    <tr>\n      <th>884</th>\n      <td>NaN</td>\n      <td>2012</td>\n      <td>None</td>\n    </tr>\n    <tr>\n      <th>885</th>\n      <td>NaN</td>\n      <td>2017</td>\n      <td>2020</td>\n    </tr>\n    <tr>\n      <th>886</th>\n      <td>NaN</td>\n      <td>2007</td>\n      <td>None</td>\n    </tr>\n    <tr>\n      <th>887</th>\n      <td>NaN</td>\n      <td>2019</td>\n      <td></td>\n    </tr>\n    <tr>\n      <th>888</th>\n      <td>I</td>\n      <td>2019</td>\n      <td>None</td>\n    </tr>\n    <tr>\n      <th>889</th>\n      <td>II</td>\n      <td>2018</td>\n      <td>None</td>\n    </tr>\n  </tbody>\n</table>\n</div>",
            "application/vnd.dataresource+json": {
              "schema": {
                "pandas_version": "1.4.0",
                "primaryKey": [
                  "index"
                ],
                "fields": [
                  {
                    "name": "index",
                    "type": "integer"
                  },
                  {
                    "name": "sequel",
                    "type": "string"
                  },
                  {
                    "name": "year_1",
                    "type": "string"
                  },
                  {
                    "name": "year_2",
                    "type": "string"
                  }
                ]
              },
              "data": [
                {
                  "year_1": "2018",
                  "sequel": "I",
                  "year_2": null,
                  "index": 880
                },
                {
                  "year_1": "2021",
                  "sequel": null,
                  "year_2": "",
                  "index": 881
                },
                {
                  "year_1": "1997",
                  "sequel": null,
                  "year_2": null,
                  "index": 882
                },
                {
                  "year_1": "2016",
                  "sequel": null,
                  "year_2": null,
                  "index": 883
                },
                {
                  "year_1": "2012",
                  "sequel": null,
                  "year_2": null,
                  "index": 884
                },
                {
                  "year_1": "2017",
                  "sequel": null,
                  "year_2": "2020",
                  "index": 885
                },
                {
                  "year_1": "2007",
                  "sequel": null,
                  "year_2": null,
                  "index": 886
                },
                {
                  "year_1": "2019",
                  "sequel": null,
                  "year_2": "",
                  "index": 887
                },
                {
                  "year_1": "2019",
                  "sequel": "I",
                  "year_2": null,
                  "index": 888
                },
                {
                  "year_1": "2018",
                  "sequel": "II",
                  "year_2": null,
                  "index": 889
                }
              ]
            },
            "text/plain": "    sequel year_1 year_2\n880      I   2018   None\n881    NaN   2021       \n882    NaN   1997   None\n883    NaN   2016   None\n884    NaN   2012   None\n885    NaN   2017   2020\n886    NaN   2007   None\n887    NaN   2019       \n888      I   2019   None\n889     II   2018   None"
          },
          "output_type": "execute_result",
          "execution_count": 5
        }
      ]
    },
    {
      "metadata": {
        "jupyter_d1": {
          "position": 7,
          "uuid": "72e28e17-79ef-49a1-a3dd-b5242d7f5b4d",
          "execution_state": "idle",
          "path": null,
          "working_directory": null,
          "notebook_uuid": "2204a6aa-0cfc-4ae3-a50e-ba4b4a0718da",
          "name": null
        }
      },
      "id": "03347e9f",
      "source": "df[\"GENRE\"].iloc[0]\n",
      "cell_type": "code",
      "execution_count": 6,
      "outputs": [
        {
          "metadata": {},
          "data": {
            "text/plain": "'\\nAction, Horror, Thriller            '"
          },
          "output_type": "execute_result",
          "execution_count": 6
        }
      ]
    },
    {
      "metadata": {
        "jupyter_d1": {
          "position": 8,
          "uuid": "e74b535f-248f-42fd-b0d2-f33c1b29f50e",
          "execution_state": "idle",
          "path": null,
          "working_directory": null,
          "notebook_uuid": "2204a6aa-0cfc-4ae3-a50e-ba4b4a0718da",
          "name": null
        }
      },
      "id": "67817698",
      "source": "df[\"GENRE\"] = df[\"GENRE\"].str.strip()\ngenres = df[\"GENRE\"].str.split(\", \", expand=True)\n\ndf[\"genre1\"] = genres[0]\ndf[\"genre2\"] = genres[1]\ndf[\"genre3\"] = genres[2]\n\ndf.drop(columns=[\"GENRE\"], inplace=True)\ndf.head()\n",
      "cell_type": "code",
      "execution_count": 7,
      "outputs": [
        {
          "metadata": {},
          "data": {
            "text/plain": "                                MOVIES  RATING    VOTES  RunTime Gross sequel  \\\n0                        Blood Red Sky     6.1   21,062    121.0   NaN    NaN   \n1  Masters of the Universe: Revelation     5.0   17,870     25.0   NaN    NaN   \n2                     The Walking Dead     8.2  885,805     44.0   NaN    NaN   \n3                       Rick and Morty     9.2  414,849     23.0   NaN    NaN   \n4                      Army of Thieves     NaN      NaN      NaN   NaN    NaN   \n\n  year_1 year_2     genre1     genre2     genre3  \n0   2021   None     Action     Horror   Thriller  \n1   2021         Animation     Action  Adventure  \n2   2010   2022      Drama     Horror   Thriller  \n3   2013         Animation  Adventure     Comedy  \n4   2021   None     Action      Crime     Horror  ",
            "application/vnd.dataresource+json": {
              "schema": {
                "pandas_version": "1.4.0",
                "primaryKey": [
                  "index"
                ],
                "fields": [
                  {
                    "name": "index",
                    "type": "integer"
                  },
                  {
                    "name": "MOVIES",
                    "type": "string"
                  },
                  {
                    "name": "RATING",
                    "type": "number"
                  },
                  {
                    "name": "VOTES",
                    "type": "string"
                  },
                  {
                    "name": "RunTime",
                    "type": "number"
                  },
                  {
                    "name": "Gross",
                    "type": "string"
                  },
                  {
                    "name": "sequel",
                    "type": "string"
                  },
                  {
                    "name": "year_1",
                    "type": "string"
                  },
                  {
                    "name": "year_2",
                    "type": "string"
                  },
                  {
                    "name": "genre1",
                    "type": "string"
                  },
                  {
                    "name": "genre2",
                    "type": "string"
                  },
                  {
                    "name": "genre3",
                    "type": "string"
                  }
                ]
              },
              "data": [
                {
                  "index": 0,
                  "genre2": "Horror",
                  "sequel": null,
                  "genre1": "Action",
                  "year_2": null,
                  "RATING": 6.1,
                  "year_1": "2021",
                  "VOTES": "21,062",
                  "MOVIES": "Blood Red Sky",
                  "Gross": null,
                  "RunTime": 121,
                  "genre3": "Thriller"
                },
                {
                  "index": 1,
                  "genre2": "Action",
                  "sequel": null,
                  "genre1": "Animation",
                  "year_2": "",
                  "RATING": 5,
                  "year_1": "2021",
                  "VOTES": "17,870",
                  "MOVIES": "Masters of the Universe: Revelation",
                  "Gross": null,
                  "RunTime": 25,
                  "genre3": "Adventure"
                },
                {
                  "index": 2,
                  "genre2": "Horror",
                  "sequel": null,
                  "genre1": "Drama",
                  "year_2": "2022",
                  "RATING": 8.2,
                  "year_1": "2010",
                  "VOTES": "885,805",
                  "MOVIES": "The Walking Dead",
                  "Gross": null,
                  "RunTime": 44,
                  "genre3": "Thriller"
                },
                {
                  "index": 3,
                  "genre2": "Adventure",
                  "sequel": null,
                  "genre1": "Animation",
                  "year_2": "",
                  "RATING": 9.2,
                  "year_1": "2013",
                  "VOTES": "414,849",
                  "MOVIES": "Rick and Morty",
                  "Gross": null,
                  "RunTime": 23,
                  "genre3": "Comedy"
                },
                {
                  "index": 4,
                  "genre2": "Crime",
                  "sequel": null,
                  "genre1": "Action",
                  "year_2": null,
                  "RATING": null,
                  "year_1": "2021",
                  "VOTES": null,
                  "MOVIES": "Army of Thieves",
                  "Gross": null,
                  "RunTime": null,
                  "genre3": "Horror"
                }
              ]
            },
            "text/html": "<div>\n<style scoped>\n    .dataframe tbody tr th:only-of-type {\n        vertical-align: middle;\n    }\n\n    .dataframe tbody tr th {\n        vertical-align: top;\n    }\n\n    .dataframe thead th {\n        text-align: right;\n    }\n</style>\n<table border=\"1\" class=\"dataframe\">\n  <thead>\n    <tr style=\"text-align: right;\">\n      <th></th>\n      <th>MOVIES</th>\n      <th>RATING</th>\n      <th>VOTES</th>\n      <th>RunTime</th>\n      <th>Gross</th>\n      <th>sequel</th>\n      <th>year_1</th>\n      <th>year_2</th>\n      <th>genre1</th>\n      <th>genre2</th>\n      <th>genre3</th>\n    </tr>\n  </thead>\n  <tbody>\n    <tr>\n      <th>0</th>\n      <td>Blood Red Sky</td>\n      <td>6.1</td>\n      <td>21,062</td>\n      <td>121.0</td>\n      <td>NaN</td>\n      <td>NaN</td>\n      <td>2021</td>\n      <td>None</td>\n      <td>Action</td>\n      <td>Horror</td>\n      <td>Thriller</td>\n    </tr>\n    <tr>\n      <th>1</th>\n      <td>Masters of the Universe: Revelation</td>\n      <td>5.0</td>\n      <td>17,870</td>\n      <td>25.0</td>\n      <td>NaN</td>\n      <td>NaN</td>\n      <td>2021</td>\n      <td></td>\n      <td>Animation</td>\n      <td>Action</td>\n      <td>Adventure</td>\n    </tr>\n    <tr>\n      <th>2</th>\n      <td>The Walking Dead</td>\n      <td>8.2</td>\n      <td>885,805</td>\n      <td>44.0</td>\n      <td>NaN</td>\n      <td>NaN</td>\n      <td>2010</td>\n      <td>2022</td>\n      <td>Drama</td>\n      <td>Horror</td>\n      <td>Thriller</td>\n    </tr>\n    <tr>\n      <th>3</th>\n      <td>Rick and Morty</td>\n      <td>9.2</td>\n      <td>414,849</td>\n      <td>23.0</td>\n      <td>NaN</td>\n      <td>NaN</td>\n      <td>2013</td>\n      <td></td>\n      <td>Animation</td>\n      <td>Adventure</td>\n      <td>Comedy</td>\n    </tr>\n    <tr>\n      <th>4</th>\n      <td>Army of Thieves</td>\n      <td>NaN</td>\n      <td>NaN</td>\n      <td>NaN</td>\n      <td>NaN</td>\n      <td>NaN</td>\n      <td>2021</td>\n      <td>None</td>\n      <td>Action</td>\n      <td>Crime</td>\n      <td>Horror</td>\n    </tr>\n  </tbody>\n</table>\n</div>"
          },
          "output_type": "execute_result",
          "execution_count": 7
        }
      ]
    },
    {
      "metadata": {
        "jupyter_d1": {
          "position": 9,
          "uuid": "c2d9da26-85b7-403f-8f17-99eeb9813571",
          "execution_state": "idle",
          "path": null,
          "working_directory": null,
          "notebook_uuid": "2204a6aa-0cfc-4ae3-a50e-ba4b4a0718da",
          "name": null
        }
      },
      "id": "ef0f07e6",
      "source": "plot_df = df[[\"year_1\", \"RATING\"]].copy()\nplot_df.sort_values(inplace=True, by=\"year_1\")\n\ng = sns.lineplot(x=\"year_1\", y=\"RATING\", data=plot_df)\n\nfor ind, label in enumerate(g.get_xticklabels()):\n    if ind % 10 == 0:  # every 10th label is kept\n        label.set_visible(True)\n    else:\n        label.set_visible(False)\n",
      "cell_type": "code",
      "execution_count": 8,
      "outputs": [
        {
          "metadata": {},
          "data": {
            "text/plain": "<Figure size 640x480 with 1 Axes>",
            "image/png": "[encoded data removed]"
          },
          "output_type": "display_data"
        }
      ]
    },
    {
      "metadata": {
        "jupyter_d1": {
          "position": 10,
          "uuid": "c274289a-17d4-489c-a824-be0c360c42e3",
          "execution_state": "idle",
          "path": null,
          "working_directory": null,
          "notebook_uuid": "2204a6aa-0cfc-4ae3-a50e-ba4b4a0718da",
          "name": null
        }
      },
      "id": "99de2618",
      "source": "plot_df = df[[\"sequel\", \"RATING\"]].copy()\nplot_df.sort_values(inplace=True, by=\"sequel\")\n\ng = sns.lineplot(x=\"sequel\", y=\"RATING\", data=plot_df)\n",
      "cell_type": "code",
      "execution_count": 9,
      "outputs": [
        {
          "metadata": {},
          "data": {
            "text/plain": "<Figure size 640x480 with 1 Axes>",
            "image/png": "[encoded data removed]"
          },
          "output_type": "display_data"
        }
      ]
    }
  ],
  "metadata": {
    "jupyter_d1": {
      "position": null,
      "uuid": "2204a6aa-0cfc-4ae3-a50e-ba4b4a0718da",
      "execution_state": null,
      "path": "/Users/kylenorris/git/callisto_example_notebooks/Python/Tutorials/Data Cleaning/data_cleaning_with_web_scraped_data.ipynb",
      "working_directory": "/Users/kylenorris/git/callisto_example_notebooks/Python/Tutorials/Data Cleaning",
      "notebook_uuid": null,
      "name": "data_cleaning_with_web_scraped_data"
    },
    "language_info": {
      "file_extension": ".py",
      "codemirror_mode": {
        "name": "ipython",
        "version": 3
      },
      "mimetype": "text/x-python",
      "pygments_lexer": "ipython3",
      "version": "3.8.2",
      "nbconvert_exporter": "python",
      "name": "python"
    },
    "kernelspec": {
      "name": "python3",
      "language": "python",
      "display_name": "Python 3"
    }
  },
  "nbformat_minor": 4,
  "nbformat": 4
}
