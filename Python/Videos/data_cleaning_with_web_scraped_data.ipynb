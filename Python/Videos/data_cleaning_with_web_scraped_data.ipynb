{
  "cells": [
    {
      "metadata": {
        "jupyter_d1": {
          "position": 0,
          "uuid": "72db7e7a-fd53-4a94-9eaf-04cdb3ad0b30",
          "execution_state": "idle",
          "path": null,
          "working_directory": null,
          "notebook_uuid": "215f3d02-2815-42ee-ab30-c6df91597538",
          "name": null
        }
      },
      "id": "a41e7050",
      "source": "# Where to find the data:\n# https://www.kaggle.com/datasets/bharatnatrayn/movies-dataset-for-feature-extracion-prediction\n",
      "cell_type": "code",
      "execution_count": null,
      "outputs": []
    },
    {
      "metadata": {
        "jupyter_d1": {
          "position": 1,
          "uuid": "9878db66-ad2f-46da-92c6-dbdb8c6bd0c4",
          "execution_state": "idle",
          "path": null,
          "working_directory": null,
          "notebook_uuid": "215f3d02-2815-42ee-ab30-c6df91597538",
          "name": null
        }
      },
      "id": "32a55a4f",
      "source": "import pandas as pd\nimport seaborn as sns\n\ndf = pd.read_csv(\"movies.csv\", index_col=None)\ndf.head()\n",
      "cell_type": "code",
      "execution_count": null,
      "outputs": []
    },
    {
      "metadata": {
        "jupyter_d1": {
          "position": 2,
          "uuid": "38a9f6f6-2908-4873-ba50-fe10ab8f66c5",
          "execution_state": "idle",
          "path": null,
          "working_directory": null,
          "notebook_uuid": "215f3d02-2815-42ee-ab30-c6df91597538",
          "name": null
        }
      },
      "id": "960f74d0",
      "source": "df.drop(columns=['ONE-LINE', 'STARS'], inplace=True)\ndf.info()\n",
      "cell_type": "code",
      "execution_count": null,
      "outputs": []
    },
    {
      "metadata": {
        "jupyter_d1": {
          "position": 3,
          "uuid": "d341fdf2-88ca-4009-a4b9-af656eaf1836",
          "execution_state": "idle",
          "path": null,
          "working_directory": null,
          "notebook_uuid": "215f3d02-2815-42ee-ab30-c6df91597538",
          "name": null
        }
      },
      "id": "ecd5fa62",
      "source": "# Cleaning the \"Year\" Column\n\n### Current variations in the data:\n1. (2021)\n2. (2021- )\n3. (2010-2022)\n4. (2021 TV Special)\n5. (I) (2013-2016)\n",
      "cell_type": "markdown",
      "outputs": []
    },
    {
      "metadata": {
        "jupyter_d1": {
          "position": 4,
          "uuid": "33b63452-583f-4376-9204-fe8a84b7ba0f",
          "execution_state": "idle",
          "path": null,
          "working_directory": null,
          "notebook_uuid": "215f3d02-2815-42ee-ab30-c6df91597538",
          "name": null
        }
      },
      "id": "50af8362",
      "source": "df[\"sequel\"] = df[\"YEAR\"].str.extract(r'([I]+)')\ndf[\"sequel\"].iloc[880:890,]\n\n",
      "cell_type": "code",
      "execution_count": null,
      "outputs": []
    },
    {
      "metadata": {
        "jupyter_d1": {
          "position": 5,
          "uuid": "063ecf8a-04a4-4d63-be19-d9bca4b032a3",
          "execution_state": "idle",
          "path": null,
          "working_directory": null,
          "notebook_uuid": "215f3d02-2815-42ee-ab30-c6df91597538",
          "name": null
        }
      },
      "id": "8c9a8850",
      "source": "years_range = df[\"YEAR\"].str.extract(r'([\\d–]+)')\n\nyears_split = years_range[0].str.split(\"–\", expand=True)\nyears_split.head()\n",
      "cell_type": "code",
      "execution_count": null,
      "outputs": []
    },
    {
      "metadata": {
        "jupyter_d1": {
          "position": 6,
          "uuid": "ece43c2d-28ff-4090-801e-c04fda8ab058",
          "execution_state": "idle",
          "path": null,
          "working_directory": null,
          "notebook_uuid": "215f3d02-2815-42ee-ab30-c6df91597538",
          "name": null
        }
      },
      "id": "bc2f0bd3",
      "source": "df[\"year_1\"] = years_split[0]\ndf[\"year_2\"] = years_split[1]\n\ndf.drop(columns=[\"YEAR\"], inplace=True)\ndf[[\"sequel\", \"year_1\", \"year_2\"]].iloc[880:890,]\n",
      "cell_type": "code",
      "execution_count": null,
      "outputs": []
    },
    {
      "metadata": {
        "jupyter_d1": {
          "position": 7,
          "uuid": "72e28e17-79ef-49a1-a3dd-b5242d7f5b4d",
          "execution_state": "idle",
          "path": null,
          "working_directory": null,
          "notebook_uuid": "215f3d02-2815-42ee-ab30-c6df91597538",
          "name": null
        }
      },
      "id": "03347e9f",
      "source": "df[\"GENRE\"].iloc[0]\n",
      "cell_type": "code",
      "execution_count": null,
      "outputs": []
    },
    {
      "metadata": {
        "jupyter_d1": {
          "position": 8,
          "uuid": "e74b535f-248f-42fd-b0d2-f33c1b29f50e",
          "execution_state": "idle",
          "path": null,
          "working_directory": null,
          "notebook_uuid": "215f3d02-2815-42ee-ab30-c6df91597538",
          "name": null
        }
      },
      "id": "67817698",
      "source": "df[\"GENRE\"] = df[\"GENRE\"].str.strip()\ngenres = df[\"GENRE\"].str.split(\", \", expand=True)\n\ndf[\"genre1\"] = genres[0]\ndf[\"genre2\"] = genres[1]\ndf[\"genre3\"] = genres[2]\n\ndf.drop(columns=[\"GENRE\"], inplace=True)\ndf.head()\n",
      "cell_type": "code",
      "execution_count": null,
      "outputs": []
    },
    {
      "metadata": {
        "jupyter_d1": {
          "position": 9,
          "uuid": "c2d9da26-85b7-403f-8f17-99eeb9813571",
          "execution_state": "idle",
          "path": null,
          "working_directory": null,
          "notebook_uuid": "215f3d02-2815-42ee-ab30-c6df91597538",
          "name": null
        }
      },
      "id": "ef0f07e6",
      "source": "plot_df = df[[\"year_1\", \"RATING\"]].copy()\nplot_df.sort_values(inplace=True, by=\"year_1\")\n\ng = sns.lineplot(x=\"year_1\", y=\"RATING\", data=plot_df)\n\nfor ind, label in enumerate(g.get_xticklabels()):\n    if ind % 10 == 0:  # every 10th label is kept\n        label.set_visible(True)\n    else:\n        label.set_visible(False)\n",
      "cell_type": "code",
      "execution_count": null,
      "outputs": []
    },
    {
      "metadata": {
        "jupyter_d1": {
          "position": 10,
          "uuid": "c274289a-17d4-489c-a824-be0c360c42e3",
          "execution_state": "idle",
          "path": null,
          "working_directory": null,
          "notebook_uuid": "215f3d02-2815-42ee-ab30-c6df91597538",
          "name": null
        }
      },
      "id": "99de2618",
      "source": "plot_df = df[[\"sequel\", \"RATING\"]].copy()\nplot_df.sort_values(inplace=True, by=\"sequel\")\n\ng = sns.lineplot(x=\"sequel\", y=\"RATING\", data=plot_df)\n",
      "cell_type": "code",
      "execution_count": null,
      "outputs": []
    }
  ],
  "metadata": {
    "jupyter_d1": {
      "position": null,
      "uuid": "215f3d02-2815-42ee-ab30-c6df91597538",
      "execution_state": null,
      "path": "/Users/kylenorris/git/callisto_example_notebooks/Python/Videos/data_cleaning_with_web_scraped_data.ipynb",
      "working_directory": "/Users/kylenorris/git/callisto_example_notebooks/Python/Videos",
      "notebook_uuid": null,
      "name": "data_cleaning_with_web_scraped_data"
    },
    "language_info": {
      "file_extension": ".py",
      "codemirror_mode": {
        "name": "ipython",
        "version": 3
      },
      "mimetype": "text/x-python",
      "pygments_lexer": "ipython3",
      "version": "3.8.2",
      "nbconvert_exporter": "python",
      "name": "python"
    },
    "kernelspec": {
      "name": "python3",
      "language": "python",
      "display_name": "Python 3"
    }
  },
  "nbformat_minor": 4,
  "nbformat": 4
}
