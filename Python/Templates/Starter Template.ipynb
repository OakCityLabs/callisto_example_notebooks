{
  "cells": [
    {
      "metadata": {
        "jupyter_d1": {
          "position": 0,
          "uuid": "d1d6f7fe-c3af-4ae9-b1d7-ed2f58b98d63",
          "execution_state": "idle",
          "path": null,
          "working_directory": null,
          "notebook_uuid": "36fd7f10-b0a5-4b42-bc30-d92943be3662",
          "name": null
        }
      },
      "id": "263fa0ca",
      "source": "# Title: New Notebook\n## Author:\n## Date: ",
      "cell_type": "markdown",
      "outputs": []
    },
    {
      "metadata": {
        "jupyter_d1": {
          "position": 1,
          "uuid": "63a14278-b3d5-4339-8188-bf274c9c52f9",
          "execution_state": "idle",
          "path": null,
          "working_directory": null,
          "notebook_uuid": "36fd7f10-b0a5-4b42-bc30-d92943be3662",
          "name": null
        }
      },
      "id": "2df9feba",
      "source": "## **Jupyter with Callisto!**\n### This is a Jupyter notebook made with Callisto. Use a combination of **markdown** cells (like this one) and **code** cells to create an intuitive data science notebook.",
      "cell_type": "markdown",
      "outputs": []
    },
    {
      "metadata": {
        "jupyter_d1": {
          "position": 2,
          "uuid": "dbcd855f-bd98-4164-95e2-5ba7aeeb1c03",
          "execution_state": "idle",
          "path": null,
          "working_directory": null,
          "notebook_uuid": "36fd7f10-b0a5-4b42-bc30-d92943be3662",
          "name": null
        }
      },
      "id": "823b268a",
      "source": "## **Install/Import Libraries**",
      "cell_type": "markdown",
      "outputs": []
    },
    {
      "metadata": {
        "jupyter_d1": {
          "position": 3,
          "uuid": "8b5bcf5f-06b6-4aa4-95ca-e307a6081e00",
          "execution_state": "idle",
          "path": null,
          "working_directory": null,
          "notebook_uuid": "36fd7f10-b0a5-4b42-bc30-d92943be3662",
          "name": null
        }
      },
      "id": "9f201d36",
      "source": "%pip install -Uqq pandas\n\nimport pandas as pd\nimport requests\nimport seaborn as sns\n",
      "cell_type": "code",
      "execution_count": 1,
      "outputs": [
        {
          "name": "stdout",
          "text": "Note: you may need to restart the kernel to use updated packages.\n",
          "output_type": "stream"
        }
      ]
    },
    {
      "metadata": {
        "jupyter_d1": {
          "position": 4,
          "uuid": "1551fb23-2a1f-4af7-af1d-45bd93179d6c",
          "execution_state": "idle",
          "path": null,
          "working_directory": null,
          "notebook_uuid": "36fd7f10-b0a5-4b42-bc30-d92943be3662",
          "name": null
        }
      },
      "id": "4efe31df",
      "source": "## **Import Data**\n### We'll download a csv file containing information about the moons in our solar system, and read it into a pandas dataframe using `read_csv()`",
      "cell_type": "markdown",
      "outputs": []
    },
    {
      "metadata": {
        "jupyter_d1": {
          "position": 5,
          "uuid": "b9231143-98a3-4eaa-9602-448d51a36822",
          "execution_state": "idle",
          "path": null,
          "working_directory": null,
          "notebook_uuid": "36fd7f10-b0a5-4b42-bc30-d92943be3662",
          "name": null
        }
      },
      "id": "c9b769bf",
      "source": "url = \"https://raw.githubusercontent.com/OakCityLabs/callisto_example_notebooks/master/Datasets/moons.csv\"\nfile_loc = \"downloaded_moons.csv\"  # This is where the data will be stored on your local machine\n\n\nreq = requests.get(url)\nurl_content = req.content\ncsv_file = open(file_loc, 'wb')\ncsv_file.write(url_content)\ncsv_file.close()\n\n# Create a Pandas dataframe using the CSV file\ndf = pd.read_csv(file_loc, index_col=0)\ndf.head()",
      "cell_type": "code",
      "execution_count": 2,
      "outputs": [
        {
          "metadata": {},
          "data": {
            "text/html": "<div>\n<style scoped>\n    .dataframe tbody tr th:only-of-type {\n        vertical-align: middle;\n    }\n\n    .dataframe tbody tr th {\n        vertical-align: top;\n    }\n\n    .dataframe thead th {\n        text-align: right;\n    }\n</style>\n<table border=\"1\" class=\"dataframe\">\n  <thead>\n    <tr style=\"text-align: right;\">\n      <th></th>\n      <th>planet</th>\n      <th>name</th>\n      <th>gm</th>\n      <th>radius</th>\n      <th>density</th>\n      <th>albedo</th>\n    </tr>\n    <tr>\n      <th>row</th>\n      <th></th>\n      <th></th>\n      <th></th>\n      <th></th>\n      <th></th>\n      <th></th>\n    </tr>\n  </thead>\n  <tbody>\n    <tr>\n      <th>0</th>\n      <td>Earth</td>\n      <td>Moon</td>\n      <td>4902.801000</td>\n      <td>1737.5</td>\n      <td>3.344</td>\n      <td>0.120</td>\n    </tr>\n    <tr>\n      <th>1</th>\n      <td>Mars</td>\n      <td>Phobos</td>\n      <td>0.000711</td>\n      <td>11.1</td>\n      <td>1.872</td>\n      <td>0.071</td>\n    </tr>\n    <tr>\n      <th>2</th>\n      <td>Mars</td>\n      <td>Deimos</td>\n      <td>0.000098</td>\n      <td>6.2</td>\n      <td>1.471</td>\n      <td>0.068</td>\n    </tr>\n    <tr>\n      <th>3</th>\n      <td>Jupiter</td>\n      <td>Io</td>\n      <td>5959.916000</td>\n      <td>1821.6</td>\n      <td>3.528</td>\n      <td>0.630</td>\n    </tr>\n    <tr>\n      <th>4</th>\n      <td>Jupiter</td>\n      <td>Europa</td>\n      <td>3202.739000</td>\n      <td>1560.8</td>\n      <td>3.013</td>\n      <td>0.670</td>\n    </tr>\n  </tbody>\n</table>\n</div>",
            "application/vnd.dataresource+json": {
              "schema": {
                "pandas_version": "1.4.0",
                "primaryKey": [
                  "row"
                ],
                "fields": [
                  {
                    "name": "row",
                    "type": "integer"
                  },
                  {
                    "name": "planet",
                    "type": "string"
                  },
                  {
                    "name": "name",
                    "type": "string"
                  },
                  {
                    "name": "gm",
                    "type": "number"
                  },
                  {
                    "name": "radius",
                    "type": "number"
                  },
                  {
                    "name": "density",
                    "type": "number"
                  },
                  {
                    "name": "albedo",
                    "type": "number"
                  }
                ]
              },
              "data": [
                {
                  "albedo": 0.12,
                  "row": 0,
                  "gm": 4902.801,
                  "density": 3.344,
                  "planet": "Earth",
                  "radius": 1737.5,
                  "name": "Moon"
                },
                {
                  "albedo": 0.07099999999999998,
                  "row": 1,
                  "gm": 0.0007112000000000005,
                  "density": 1.872,
                  "planet": "Mars",
                  "radius": 11.1,
                  "name": "Phobos"
                },
                {
                  "albedo": 0.06800000000000003,
                  "row": 2,
                  "gm": 9.85e-05,
                  "density": 1.471,
                  "planet": "Mars",
                  "radius": 6.2,
                  "name": "Deimos"
                },
                {
                  "albedo": 0.63,
                  "row": 3,
                  "gm": 5959.916,
                  "density": 3.528,
                  "planet": "Jupiter",
                  "radius": 1821.6,
                  "name": "Io"
                },
                {
                  "albedo": 0.67,
                  "row": 4,
                  "gm": 3202.739,
                  "density": 3.013,
                  "planet": "Jupiter",
                  "radius": 1560.8,
                  "name": "Europa"
                }
              ]
            },
            "text/plain": "      planet    name           gm  radius  density  albedo\nrow                                                       \n0      Earth    Moon  4902.801000  1737.5    3.344   0.120\n1       Mars  Phobos     0.000711    11.1    1.872   0.071\n2       Mars  Deimos     0.000098     6.2    1.471   0.068\n3    Jupiter      Io  5959.916000  1821.6    3.528   0.630\n4    Jupiter  Europa  3202.739000  1560.8    3.013   0.670"
          },
          "output_type": "execute_result",
          "execution_count": 2
        }
      ]
    },
    {
      "metadata": {
        "jupyter_d1": {
          "position": 6,
          "uuid": "e676d4c5-3b31-48ae-a555-3d034053457c",
          "execution_state": "idle",
          "path": null,
          "working_directory": null,
          "notebook_uuid": "36fd7f10-b0a5-4b42-bc30-d92943be3662",
          "name": null
        }
      },
      "id": "02f8be1b",
      "source": "## **Data Analysis**\n### Let's graph a histogram showing the number of moons orbiting each planet:",
      "cell_type": "markdown"
    },
    {
      "metadata": {
        "jupyter_d1": {
          "position": 7,
          "uuid": "1284d354-40e0-41ed-94d1-18cb07f53025",
          "execution_state": "idle",
          "path": null,
          "working_directory": null,
          "notebook_uuid": "36fd7f10-b0a5-4b42-bc30-d92943be3662",
          "name": null
        }
      },
      "id": "83cb5f1d",
      "source": "sns.displot(data=df, x=\"planet\")",
      "cell_type": "code",
      "execution_count": 3,
      "outputs": [
        {
          "metadata": {},
          "data": {
            "text/plain": "<seaborn.axisgrid.FacetGrid at 0x14fa277c0>"
          },
          "output_type": "execute_result",
          "execution_count": 3
        },
        {
          "metadata": {
            "needs_background": "light"
          },
          "data": {
            "text/plain": "<Figure size 360x360 with 1 Axes>",
            "image/png": "[encoded data removed]"
          },
          "output_type": "display_data"
        }
      ]
    },
    {
      "metadata": {
        "jupyter_d1": {
          "position": 8,
          "uuid": "637214f7-9a99-4347-b8be-7bfaef86dacb",
          "execution_state": "idle",
          "path": null,
          "working_directory": null,
          "notebook_uuid": "36fd7f10-b0a5-4b42-bc30-d92943be3662",
          "name": null
        }
      },
      "id": "9d9a8632",
      "source": "## **Conclusion**\n### You've successfully done data science! 🎉\n### You've downloaded a CSV file, imported it using **Pandas**, and plotted a histogram using that data. You're ready to do some detailed analysis on a dataset of your choice.",
      "cell_type": "markdown"
    }
  ],
  "metadata": {
    "jupyter_d1": {
      "position": null,
      "uuid": "36fd7f10-b0a5-4b42-bc30-d92943be3662",
      "execution_state": null,
      "path": "/Users/kylenorris/StarterTemplate.ipynb",
      "working_directory": "/Users/kylenorris",
      "notebook_uuid": null,
      "name": "StarterTemplate"
    },
    "language_info": {
      "file_extension": ".py",
      "codemirror_mode": {
        "name": "ipython",
        "version": 3
      },
      "mimetype": "text/x-python",
      "pygments_lexer": "ipython3",
      "version": "3.8.2",
      "nbconvert_exporter": "python",
      "name": "python"
    },
    "kernelspec": {
      "name": "python3",
      "language": "python",
      "display_name": "Python 3"
    }
  },
  "nbformat_minor": 4,
  "nbformat": 4
}
