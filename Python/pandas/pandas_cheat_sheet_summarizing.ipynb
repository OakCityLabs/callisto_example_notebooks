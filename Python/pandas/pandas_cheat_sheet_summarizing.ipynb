{
 "cells": [
  {
   "cell_type": "markdown",
   "metadata": {
    "jupyter_d1": {
     "execution_state": "idle",
     "name": null,
     "notebook_uuid": "4cc137dd-1fbf-4a95-b7a2-7789040e672d",
     "path": null,
     "position": 0,
     "uuid": "d1752b4d-3ed2-4cd1-9969-87470698ade6",
     "working_directory": null
    }
   },
   "source": [
    "# Pandas Cheat Sheet - Summarizing Data\n",
    "There are lots of methods for summarizing data in Pandas- this notebook will look at a few of them."
   ]
  },
  {
   "cell_type": "code",
   "execution_count": 1,
   "metadata": {
    "execution": {
     "iopub.execute_input": "2022-05-26T19:30:28.217129Z",
     "iopub.status.busy": "2022-05-26T19:30:28.216677Z",
     "iopub.status.idle": "2022-05-26T19:30:28.222510Z",
     "shell.execute_reply": "2022-05-26T19:30:28.221182Z"
    },
    "jupyter_d1": {
     "execution_state": "idle",
     "name": null,
     "notebook_uuid": "4cc137dd-1fbf-4a95-b7a2-7789040e672d",
     "path": null,
     "position": 1,
     "uuid": "6d0cea0f-5255-484a-823e-ceb73b583f43",
     "working_directory": null
    }
   },
   "outputs": [],
   "source": [
    "import pandas as pd"
   ]
  },
  {
   "cell_type": "markdown",
   "metadata": {
    "jupyter_d1": {
     "execution_state": "idle",
     "name": null,
     "notebook_uuid": "4cc137dd-1fbf-4a95-b7a2-7789040e672d",
     "path": null,
     "position": 2,
     "uuid": "9366e241-a049-47a6-b20d-171efbeaf586",
     "working_directory": null
    }
   },
   "source": [
    "## The data\n",
    "Let's create a DataFrame to use:"
   ]
  },
  {
   "cell_type": "code",
   "execution_count": 2,
   "metadata": {
    "execution": {
     "iopub.execute_input": "2022-05-26T19:37:06.070832Z",
     "iopub.status.busy": "2022-05-26T19:37:06.070346Z",
     "iopub.status.idle": "2022-05-26T19:37:06.086614Z",
     "shell.execute_reply": "2022-05-26T19:37:06.085494Z"
    },
    "jupyter_d1": {
     "execution_state": "idle",
     "name": null,
     "notebook_uuid": "4cc137dd-1fbf-4a95-b7a2-7789040e672d",
     "path": null,
     "position": 3,
     "uuid": "d7a354f8-031f-4422-8647-b19fc1074a52",
     "working_directory": null
    }
   },
   "outputs": [
    {
     "data": {
      "text/html": [
       "<div>\n",
       "<style scoped>\n",
       "    .dataframe tbody tr th:only-of-type {\n",
       "        vertical-align: middle;\n",
       "    }\n",
       "\n",
       "    .dataframe tbody tr th {\n",
       "        vertical-align: top;\n",
       "    }\n",
       "\n",
       "    .dataframe thead th {\n",
       "        text-align: right;\n",
       "    }\n",
       "</style>\n",
       "<table border=\"1\" class=\"dataframe\">\n",
       "  <thead>\n",
       "    <tr style=\"text-align: right;\">\n",
       "      <th></th>\n",
       "      <th>biscuit</th>\n",
       "      <th>scone</th>\n",
       "      <th>donut</th>\n",
       "      <th>muffin</th>\n",
       "    </tr>\n",
       "  </thead>\n",
       "  <tbody>\n",
       "    <tr>\n",
       "      <th>Monday</th>\n",
       "      <td>6</td>\n",
       "      <td>4</td>\n",
       "      <td>9</td>\n",
       "      <td>4</td>\n",
       "    </tr>\n",
       "    <tr>\n",
       "      <th>Tuesday</th>\n",
       "      <td>5</td>\n",
       "      <td>8</td>\n",
       "      <td>15</td>\n",
       "      <td>7</td>\n",
       "    </tr>\n",
       "    <tr>\n",
       "      <th>Wednesday</th>\n",
       "      <td>2</td>\n",
       "      <td>9</td>\n",
       "      <td>8</td>\n",
       "      <td>2</td>\n",
       "    </tr>\n",
       "    <tr>\n",
       "      <th>Thursday</th>\n",
       "      <td>1</td>\n",
       "      <td>8</td>\n",
       "      <td>12</td>\n",
       "      <td>8</td>\n",
       "    </tr>\n",
       "    <tr>\n",
       "      <th>Friday</th>\n",
       "      <td>5</td>\n",
       "      <td>2</td>\n",
       "      <td>13</td>\n",
       "      <td>8</td>\n",
       "    </tr>\n",
       "    <tr>\n",
       "      <th>Saturday</th>\n",
       "      <td>6</td>\n",
       "      <td>8</td>\n",
       "      <td>10</td>\n",
       "      <td>6</td>\n",
       "    </tr>\n",
       "    <tr>\n",
       "      <th>Sunday</th>\n",
       "      <td>2</td>\n",
       "      <td>6</td>\n",
       "      <td>18</td>\n",
       "      <td>4</td>\n",
       "    </tr>\n",
       "  </tbody>\n",
       "</table>\n",
       "</div>"
      ],
      "text/plain": [
       "           biscuit  scone  donut  muffin\n",
       "Monday           6      4      9       4\n",
       "Tuesday          5      8     15       7\n",
       "Wednesday        2      9      8       2\n",
       "Thursday         1      8     12       8\n",
       "Friday           5      2     13       8\n",
       "Saturday         6      8     10       6\n",
       "Sunday           2      6     18       4"
      ]
     },
     "execution_count": 2,
     "metadata": {},
     "output_type": "execute_result"
    }
   ],
   "source": [
    "data = {\n",
    "    'biscuit': [6,5,2,1,5,6,2],\n",
    "    'scone': [4,8,9,8,2,8,6],\n",
    "    'donut': [9,15,8,12,13,10,18],\n",
    "    'muffin': [4,7,2,8,8,6,4],\n",
    "}\n",
    "index = [\"Monday\", \"Tuesday\", \"Wednesday\", \"Thursday\", \"Friday\", \"Saturday\", \"Sunday\"]\n",
    "df = pd.DataFrame(data, index=index)\n",
    "df"
   ]
  },
  {
   "cell_type": "markdown",
   "metadata": {
    "jupyter_d1": {
     "execution_state": "idle",
     "name": null,
     "notebook_uuid": "4cc137dd-1fbf-4a95-b7a2-7789040e672d",
     "path": null,
     "position": 4,
     "uuid": "edff7964-5ce4-4e89-b989-2e1bca1971bf",
     "working_directory": null
    }
   },
   "source": [
    "## General Summaries\n",
    "These are some basic ways of summarizing either the whole DataFrame, or specific columns of the DataFrame:"
   ]
  },
  {
   "cell_type": "code",
   "execution_count": 3,
   "metadata": {},
   "outputs": [
    {
     "data": {
      "text/plain": [
       "Index(['biscuit', 'scone', 'donut', 'muffin'], dtype='object')"
      ]
     },
     "execution_count": 3,
     "metadata": {},
     "output_type": "execute_result"
    }
   ],
   "source": [
    "df.columns  # Returns the column labels of the DataFrame"
   ]
  },
  {
   "cell_type": "code",
   "execution_count": 4,
   "metadata": {},
   "outputs": [
    {
     "data": {
      "text/plain": [
       "biscuit    int64\n",
       "scone      int64\n",
       "donut      int64\n",
       "muffin     int64\n",
       "dtype: object"
      ]
     },
     "execution_count": 4,
     "metadata": {},
     "output_type": "execute_result"
    }
   ],
   "source": [
    "df.dtypes  # Returns the data types of each column"
   ]
  },
  {
   "cell_type": "code",
   "execution_count": 5,
   "metadata": {},
   "outputs": [
    {
     "name": "stdout",
     "output_type": "stream",
     "text": [
      "<class 'pandas.core.frame.DataFrame'>\n",
      "Index: 7 entries, Monday to Sunday\n",
      "Data columns (total 4 columns):\n",
      " #   Column   Non-Null Count  Dtype\n",
      "---  ------   --------------  -----\n",
      " 0   biscuit  7 non-null      int64\n",
      " 1   scone    7 non-null      int64\n",
      " 2   donut    7 non-null      int64\n",
      " 3   muffin   7 non-null      int64\n",
      "dtypes: int64(4)\n",
      "memory usage: 280.0+ bytes\n"
     ]
    }
   ],
   "source": [
    "df.info()  # Prints a summary of the DataFrame, including memory usage and dtypes"
   ]
  },
  {
   "cell_type": "code",
   "execution_count": 6,
   "metadata": {},
   "outputs": [
    {
     "data": {
      "text/plain": [
       "7"
      ]
     },
     "execution_count": 6,
     "metadata": {},
     "output_type": "execute_result"
    }
   ],
   "source": [
    "len(df)  # Returns the number of rows in the DataFrame"
   ]
  },
  {
   "cell_type": "code",
   "execution_count": 7,
   "metadata": {},
   "outputs": [
    {
     "data": {
      "text/plain": [
       "(7, 4)"
      ]
     },
     "execution_count": 7,
     "metadata": {},
     "output_type": "execute_result"
    }
   ],
   "source": [
    "df.shape  # Returns a tuple of (# of rows, # of columns)"
   ]
  },
  {
   "cell_type": "code",
   "execution_count": 8,
   "metadata": {
    "execution": {
     "iopub.execute_input": "2022-05-26T19:38:28.200350Z",
     "iopub.status.busy": "2022-05-26T19:38:28.199840Z",
     "iopub.status.idle": "2022-05-26T19:38:28.215322Z",
     "shell.execute_reply": "2022-05-26T19:38:28.214168Z"
    },
    "jupyter_d1": {
     "execution_state": "idle",
     "name": null,
     "notebook_uuid": "4cc137dd-1fbf-4a95-b7a2-7789040e672d",
     "path": null,
     "position": 5,
     "uuid": "2a177fa1-12b1-4ab0-be92-eb2fe7e01224",
     "working_directory": null
    }
   },
   "outputs": [
    {
     "data": {
      "text/plain": [
       "5"
      ]
     },
     "execution_count": 8,
     "metadata": {},
     "output_type": "execute_result"
    }
   ],
   "source": [
    "df['scone'].nunique()  # Returns number of unique values in the 'scone' column"
   ]
  },
  {
   "cell_type": "code",
   "execution_count": 9,
   "metadata": {
    "execution": {
     "iopub.execute_input": "2022-05-26T19:39:20.934393Z",
     "iopub.status.busy": "2022-05-26T19:39:20.933955Z",
     "iopub.status.idle": "2022-05-26T19:39:20.941571Z",
     "shell.execute_reply": "2022-05-26T19:39:20.940532Z"
    },
    "jupyter_d1": {
     "execution_state": "idle",
     "name": null,
     "notebook_uuid": "4cc137dd-1fbf-4a95-b7a2-7789040e672d",
     "path": null,
     "position": 6,
     "uuid": "cfb10c3c-fe17-4abe-8757-cd70585f9443",
     "working_directory": null
    }
   },
   "outputs": [
    {
     "data": {
      "text/html": [
       "<div>\n",
       "<style scoped>\n",
       "    .dataframe tbody tr th:only-of-type {\n",
       "        vertical-align: middle;\n",
       "    }\n",
       "\n",
       "    .dataframe tbody tr th {\n",
       "        vertical-align: top;\n",
       "    }\n",
       "\n",
       "    .dataframe thead th {\n",
       "        text-align: right;\n",
       "    }\n",
       "</style>\n",
       "<table border=\"1\" class=\"dataframe\">\n",
       "  <thead>\n",
       "    <tr style=\"text-align: right;\">\n",
       "      <th></th>\n",
       "      <th>biscuit</th>\n",
       "      <th>scone</th>\n",
       "      <th>donut</th>\n",
       "      <th>muffin</th>\n",
       "    </tr>\n",
       "  </thead>\n",
       "  <tbody>\n",
       "    <tr>\n",
       "      <th>count</th>\n",
       "      <td>7.000000</td>\n",
       "      <td>7.000000</td>\n",
       "      <td>7.000000</td>\n",
       "      <td>7.000000</td>\n",
       "    </tr>\n",
       "    <tr>\n",
       "      <th>mean</th>\n",
       "      <td>3.857143</td>\n",
       "      <td>6.428571</td>\n",
       "      <td>12.142857</td>\n",
       "      <td>5.571429</td>\n",
       "    </tr>\n",
       "    <tr>\n",
       "      <th>std</th>\n",
       "      <td>2.115701</td>\n",
       "      <td>2.572751</td>\n",
       "      <td>3.532165</td>\n",
       "      <td>2.299068</td>\n",
       "    </tr>\n",
       "    <tr>\n",
       "      <th>min</th>\n",
       "      <td>1.000000</td>\n",
       "      <td>2.000000</td>\n",
       "      <td>8.000000</td>\n",
       "      <td>2.000000</td>\n",
       "    </tr>\n",
       "    <tr>\n",
       "      <th>25%</th>\n",
       "      <td>2.000000</td>\n",
       "      <td>5.000000</td>\n",
       "      <td>9.500000</td>\n",
       "      <td>4.000000</td>\n",
       "    </tr>\n",
       "    <tr>\n",
       "      <th>50%</th>\n",
       "      <td>5.000000</td>\n",
       "      <td>8.000000</td>\n",
       "      <td>12.000000</td>\n",
       "      <td>6.000000</td>\n",
       "    </tr>\n",
       "    <tr>\n",
       "      <th>75%</th>\n",
       "      <td>5.500000</td>\n",
       "      <td>8.000000</td>\n",
       "      <td>14.000000</td>\n",
       "      <td>7.500000</td>\n",
       "    </tr>\n",
       "    <tr>\n",
       "      <th>max</th>\n",
       "      <td>6.000000</td>\n",
       "      <td>9.000000</td>\n",
       "      <td>18.000000</td>\n",
       "      <td>8.000000</td>\n",
       "    </tr>\n",
       "  </tbody>\n",
       "</table>\n",
       "</div>"
      ],
      "text/plain": [
       "        biscuit     scone      donut    muffin\n",
       "count  7.000000  7.000000   7.000000  7.000000\n",
       "mean   3.857143  6.428571  12.142857  5.571429\n",
       "std    2.115701  2.572751   3.532165  2.299068\n",
       "min    1.000000  2.000000   8.000000  2.000000\n",
       "25%    2.000000  5.000000   9.500000  4.000000\n",
       "50%    5.000000  8.000000  12.000000  6.000000\n",
       "75%    5.500000  8.000000  14.000000  7.500000\n",
       "max    6.000000  9.000000  18.000000  8.000000"
      ]
     },
     "execution_count": 9,
     "metadata": {},
     "output_type": "execute_result"
    }
   ],
   "source": [
    "df.describe()  # Basic analysis of each column"
   ]
  },
  {
   "cell_type": "markdown",
   "metadata": {},
   "source": [
    "## Summary Functions\n",
    "We will use these on DataFrames, but these functions are also available for other types of objects (GroupBy, Series, etc.)"
   ]
  },
  {
   "cell_type": "code",
   "execution_count": 10,
   "metadata": {
    "execution": {
     "iopub.execute_input": "2022-05-26T19:39:22.660930Z",
     "iopub.status.busy": "2022-05-26T19:39:22.660007Z",
     "iopub.status.idle": "2022-05-26T19:39:22.684602Z",
     "shell.execute_reply": "2022-05-26T19:39:22.683701Z"
    },
    "jupyter_d1": {
     "execution_state": "idle",
     "name": null,
     "notebook_uuid": "4cc137dd-1fbf-4a95-b7a2-7789040e672d",
     "path": null,
     "position": 7,
     "uuid": "166176f2-3bde-4eed-8a43-5113f88a21cb",
     "working_directory": null
    }
   },
   "outputs": [
    {
     "data": {
      "text/plain": [
       "biscuit    27\n",
       "scone      45\n",
       "donut      85\n",
       "muffin     39\n",
       "dtype: int64"
      ]
     },
     "execution_count": 10,
     "metadata": {},
     "output_type": "execute_result"
    }
   ],
   "source": [
    "df.sum()  # Sum values of each column"
   ]
  },
  {
   "cell_type": "code",
   "execution_count": 11,
   "metadata": {},
   "outputs": [
    {
     "data": {
      "text/plain": [
       "biscuit    7\n",
       "scone      7\n",
       "donut      7\n",
       "muffin     7\n",
       "dtype: int64"
      ]
     },
     "execution_count": 11,
     "metadata": {},
     "output_type": "execute_result"
    }
   ],
   "source": [
    "df.count()  # Count non-NA/null values of each column"
   ]
  },
  {
   "cell_type": "code",
   "execution_count": 12,
   "metadata": {},
   "outputs": [
    {
     "data": {
      "text/plain": [
       "biscuit     5.0\n",
       "scone       8.0\n",
       "donut      12.0\n",
       "muffin      6.0\n",
       "dtype: float64"
      ]
     },
     "execution_count": 12,
     "metadata": {},
     "output_type": "execute_result"
    }
   ],
   "source": [
    "df.median()  # Median value of each column"
   ]
  },
  {
   "cell_type": "code",
   "execution_count": 13,
   "metadata": {},
   "outputs": [
    {
     "data": {
      "text/plain": [
       "biscuit    1\n",
       "scone      2\n",
       "donut      8\n",
       "muffin     2\n",
       "dtype: int64"
      ]
     },
     "execution_count": 13,
     "metadata": {},
     "output_type": "execute_result"
    }
   ],
   "source": [
    "df.min()  # Minimum value of each column"
   ]
  },
  {
   "cell_type": "code",
   "execution_count": 14,
   "metadata": {},
   "outputs": [
    {
     "data": {
      "text/plain": [
       "biscuit     6\n",
       "scone       9\n",
       "donut      18\n",
       "muffin      8\n",
       "dtype: int64"
      ]
     },
     "execution_count": 14,
     "metadata": {},
     "output_type": "execute_result"
    }
   ],
   "source": [
    "df.max()  # Maximum value of each column"
   ]
  },
  {
   "cell_type": "code",
   "execution_count": 15,
   "metadata": {},
   "outputs": [
    {
     "data": {
      "text/plain": [
       "biscuit     3.857143\n",
       "scone       6.428571\n",
       "donut      12.142857\n",
       "muffin      5.571429\n",
       "dtype: float64"
      ]
     },
     "execution_count": 15,
     "metadata": {},
     "output_type": "execute_result"
    }
   ],
   "source": [
    "df.mean()  # Mean value of each column"
   ]
  },
  {
   "cell_type": "code",
   "execution_count": 16,
   "metadata": {},
   "outputs": [
    {
     "data": {
      "text/plain": [
       "biscuit     4.476190\n",
       "scone       6.619048\n",
       "donut      12.476190\n",
       "muffin      5.285714\n",
       "dtype: float64"
      ]
     },
     "execution_count": 16,
     "metadata": {},
     "output_type": "execute_result"
    }
   ],
   "source": [
    "df.var()  # Variance of each column"
   ]
  },
  {
   "cell_type": "code",
   "execution_count": 17,
   "metadata": {},
   "outputs": [
    {
     "data": {
      "text/plain": [
       "biscuit    2.115701\n",
       "scone      2.572751\n",
       "donut      3.532165\n",
       "muffin     2.299068\n",
       "dtype: float64"
      ]
     },
     "execution_count": 17,
     "metadata": {},
     "output_type": "execute_result"
    }
   ],
   "source": [
    "df.std()  # Standard Deviation of each column"
   ]
  }
 ],
 "metadata": {
  "jupyter_d1": {
   "execution_state": null,
   "name": "pandas-tutorial",
   "notebook_uuid": null,
   "path": "/Users/kylenorris/pandas-tutorial.ipynb",
   "position": null,
   "uuid": "4cc137dd-1fbf-4a95-b7a2-7789040e672d",
   "working_directory": "/Users/kylenorris"
  },
  "kernelspec": {
   "display_name": "Python 3 (ipykernel)",
   "language": "python",
   "name": "python3"
  },
  "language_info": {
   "codemirror_mode": {
    "name": "ipython",
    "version": 3
   },
   "file_extension": ".py",
   "mimetype": "text/x-python",
   "name": "python",
   "nbconvert_exporter": "python",
   "pygments_lexer": "ipython3",
   "version": "3.9.12"
  }
 },
 "nbformat": 4,
 "nbformat_minor": 4
}
