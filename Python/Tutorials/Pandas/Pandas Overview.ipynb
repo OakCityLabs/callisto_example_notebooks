{
  "cells": [
    {
      "metadata": {
        "jupyter_d1": {
          "position": 0,
          "uuid": "d1752b4d-3ed2-4cd1-9969-87470698ade6",
          "execution_state": "idle",
          "path": null,
          "working_directory": null,
          "notebook_uuid": "aba6ecca-7913-46f9-8aa4-937b2e8e4dd6",
          "name": null
        }
      },
      "id": null,
      "source": "# A Brief Pandas Tutorial\nThis notebook showcases a few useful features of the *pandas* library.\n## Let's start by installing and importing pandas:",
      "cell_type": "markdown"
    },
    {
      "metadata": {
        "jupyter_d1": {
          "position": 1,
          "uuid": "558007ff-700a-4b4b-8226-5c368a5302e8",
          "execution_state": "idle",
          "path": null,
          "working_directory": null,
          "notebook_uuid": "aba6ecca-7913-46f9-8aa4-937b2e8e4dd6",
          "name": null
        }
      },
      "id": "11501146",
      "source": "%pip install -Uqq pandas",
      "cell_type": "code",
      "execution_count": 1,
      "outputs": [
        {
          "name": "stdout",
          "text": "Note: you may need to restart the kernel to use updated packages.\n",
          "output_type": "stream"
        }
      ]
    },
    {
      "metadata": {
        "jupyter_d1": {
          "position": 2,
          "uuid": "6d0cea0f-5255-484a-823e-ceb73b583f43",
          "execution_state": "idle",
          "path": null,
          "working_directory": null,
          "notebook_uuid": "aba6ecca-7913-46f9-8aa4-937b2e8e4dd6",
          "name": null
        },
        "execution": {
          "iopub.status.busy": "2022-05-26T19:30:28.216677Z",
          "iopub.status.idle": "2022-05-26T19:30:28.222510Z",
          "iopub.execute_input": "2022-05-26T19:30:28.217129Z",
          "shell.execute_reply": "2022-05-26T19:30:28.221182Z"
        }
      },
      "id": null,
      "source": "import pandas as pd",
      "cell_type": "code",
      "execution_count": 2,
      "outputs": []
    },
    {
      "metadata": {
        "jupyter_d1": {
          "position": 3,
          "uuid": "9366e241-a049-47a6-b20d-171efbeaf586",
          "execution_state": "idle",
          "path": null,
          "working_directory": null,
          "notebook_uuid": "aba6ecca-7913-46f9-8aa4-937b2e8e4dd6",
          "name": null
        }
      },
      "id": null,
      "source": "## Create some data\nThere are a variety of ways to create a *DataFrame* object in pandas, but we will use a dictionary. Each *key* in the dictionary will become a column in the DataFrame, and each *value* contains the list of data for that column.",
      "cell_type": "markdown"
    },
    {
      "metadata": {
        "jupyter_d1": {
          "position": 4,
          "uuid": "d7a354f8-031f-4422-8647-b19fc1074a52",
          "execution_state": "idle",
          "path": null,
          "working_directory": null,
          "notebook_uuid": "aba6ecca-7913-46f9-8aa4-937b2e8e4dd6",
          "name": null
        },
        "execution": {
          "iopub.status.busy": "2022-05-26T19:37:06.070346Z",
          "iopub.status.idle": "2022-05-26T19:37:06.086614Z",
          "iopub.execute_input": "2022-05-26T19:37:06.070832Z",
          "shell.execute_reply": "2022-05-26T19:37:06.085494Z"
        }
      },
      "id": null,
      "source": "data = {\n    'coffee': [20,23,19,26,30,43,40],\n    'tea': [15,16,11,21,12,16,21],\n    'hot chocolate': [2,5,1,0,4,4,2],\n}\nindex = [\"Monday\", \"Tuesday\", \"Wednesday\", \"Thursday\", \"Friday\", \"Saturday\", \"Sunday\"]\ndf = pd.DataFrame(data, index=index)\ndf",
      "cell_type": "code",
      "execution_count": 3,
      "outputs": [
        {
          "metadata": {},
          "data": {
            "text/html": "<div>\n<style scoped>\n    .dataframe tbody tr th:only-of-type {\n        vertical-align: middle;\n    }\n\n    .dataframe tbody tr th {\n        vertical-align: top;\n    }\n\n    .dataframe thead th {\n        text-align: right;\n    }\n</style>\n<table border=\"1\" class=\"dataframe\">\n  <thead>\n    <tr style=\"text-align: right;\">\n      <th></th>\n      <th>coffee</th>\n      <th>tea</th>\n      <th>hot chocolate</th>\n    </tr>\n  </thead>\n  <tbody>\n    <tr>\n      <th>Monday</th>\n      <td>20</td>\n      <td>15</td>\n      <td>2</td>\n    </tr>\n    <tr>\n      <th>Tuesday</th>\n      <td>23</td>\n      <td>16</td>\n      <td>5</td>\n    </tr>\n    <tr>\n      <th>Wednesday</th>\n      <td>19</td>\n      <td>11</td>\n      <td>1</td>\n    </tr>\n    <tr>\n      <th>Thursday</th>\n      <td>26</td>\n      <td>21</td>\n      <td>0</td>\n    </tr>\n    <tr>\n      <th>Friday</th>\n      <td>30</td>\n      <td>12</td>\n      <td>4</td>\n    </tr>\n    <tr>\n      <th>Saturday</th>\n      <td>43</td>\n      <td>16</td>\n      <td>4</td>\n    </tr>\n    <tr>\n      <th>Sunday</th>\n      <td>40</td>\n      <td>21</td>\n      <td>2</td>\n    </tr>\n  </tbody>\n</table>\n</div>",
            "application/vnd.dataresource+json": {
              "schema": {
                "pandas_version": "1.4.0",
                "primaryKey": [
                  "index"
                ],
                "fields": [
                  {
                    "name": "index",
                    "type": "string"
                  },
                  {
                    "name": "coffee",
                    "type": "integer"
                  },
                  {
                    "name": "tea",
                    "type": "integer"
                  },
                  {
                    "name": "hot chocolate",
                    "type": "integer"
                  }
                ]
              },
              "data": [
                {
                  "coffee": 20,
                  "hot chocolate": 2,
                  "tea": 15,
                  "index": "Monday"
                },
                {
                  "coffee": 23,
                  "hot chocolate": 5,
                  "tea": 16,
                  "index": "Tuesday"
                },
                {
                  "coffee": 19,
                  "hot chocolate": 1,
                  "tea": 11,
                  "index": "Wednesday"
                },
                {
                  "coffee": 26,
                  "hot chocolate": 0,
                  "tea": 21,
                  "index": "Thursday"
                },
                {
                  "coffee": 30,
                  "hot chocolate": 4,
                  "tea": 12,
                  "index": "Friday"
                },
                {
                  "coffee": 43,
                  "hot chocolate": 4,
                  "tea": 16,
                  "index": "Saturday"
                },
                {
                  "coffee": 40,
                  "hot chocolate": 2,
                  "tea": 21,
                  "index": "Sunday"
                }
              ]
            },
            "text/plain": "           coffee  tea  hot chocolate\nMonday         20   15              2\nTuesday        23   16              5\nWednesday      19   11              1\nThursday       26   21              0\nFriday         30   12              4\nSaturday       43   16              4\nSunday         40   21              2"
          },
          "output_type": "execute_result",
          "execution_count": 3
        }
      ]
    },
    {
      "metadata": {
        "jupyter_d1": {
          "position": 5,
          "uuid": "edff7964-5ce4-4e89-b989-2e1bca1971bf",
          "execution_state": "idle",
          "path": null,
          "working_directory": null,
          "notebook_uuid": "aba6ecca-7913-46f9-8aa4-937b2e8e4dd6",
          "name": null
        }
      },
      "id": null,
      "source": "## Here are a couple of ways pandas allows us to examine the data:",
      "cell_type": "markdown"
    },
    {
      "metadata": {
        "jupyter_d1": {
          "position": 6,
          "uuid": "2a177fa1-12b1-4ab0-be92-eb2fe7e01224",
          "execution_state": "idle",
          "path": null,
          "working_directory": null,
          "notebook_uuid": "aba6ecca-7913-46f9-8aa4-937b2e8e4dd6",
          "name": null
        },
        "execution": {
          "iopub.status.busy": "2022-05-26T19:38:28.199840Z",
          "iopub.status.idle": "2022-05-26T19:38:28.215322Z",
          "iopub.execute_input": "2022-05-26T19:38:28.200350Z",
          "shell.execute_reply": "2022-05-26T19:38:28.214168Z"
        }
      },
      "id": null,
      "source": "df.info()",
      "cell_type": "code",
      "execution_count": 4,
      "outputs": [
        {
          "name": "stdout",
          "text": "<class 'pandas.core.frame.DataFrame'>\nIndex: 7 entries, Monday to Sunday\nData columns (total 3 columns):\n #   Column         Non-Null Count  Dtype\n---  ------         --------------  -----\n 0   coffee         7 non-null      int64\n 1   tea            7 non-null      int64\n 2   hot chocolate  7 non-null      int64\ndtypes: int64(3)\nmemory usage: 224.0+ bytes\n",
          "output_type": "stream"
        }
      ]
    },
    {
      "metadata": {
        "jupyter_d1": {
          "position": 7,
          "uuid": "cfb10c3c-fe17-4abe-8757-cd70585f9443",
          "execution_state": "idle",
          "path": null,
          "working_directory": null,
          "notebook_uuid": "aba6ecca-7913-46f9-8aa4-937b2e8e4dd6",
          "name": null
        },
        "execution": {
          "iopub.status.busy": "2022-05-26T19:39:20.933955Z",
          "iopub.status.idle": "2022-05-26T19:39:20.941571Z",
          "iopub.execute_input": "2022-05-26T19:39:20.934393Z",
          "shell.execute_reply": "2022-05-26T19:39:20.940532Z"
        }
      },
      "id": null,
      "source": "df.columns",
      "cell_type": "code",
      "execution_count": 5,
      "outputs": [
        {
          "metadata": {},
          "data": {
            "text/plain": "Index(['coffee', 'tea', 'hot chocolate'], dtype='object')"
          },
          "output_type": "execute_result",
          "execution_count": 5
        }
      ]
    },
    {
      "metadata": {
        "jupyter_d1": {
          "position": 8,
          "uuid": "166176f2-3bde-4eed-8a43-5113f88a21cb",
          "execution_state": "idle",
          "path": null,
          "working_directory": null,
          "notebook_uuid": "aba6ecca-7913-46f9-8aa4-937b2e8e4dd6",
          "name": null
        },
        "execution": {
          "iopub.status.busy": "2022-05-26T19:39:22.660007Z",
          "iopub.status.idle": "2022-05-26T19:39:22.684602Z",
          "iopub.execute_input": "2022-05-26T19:39:22.660930Z",
          "shell.execute_reply": "2022-05-26T19:39:22.683701Z"
        }
      },
      "id": null,
      "source": "df.describe()",
      "cell_type": "code",
      "execution_count": 6,
      "outputs": [
        {
          "metadata": {},
          "data": {
            "text/html": "<div>\n<style scoped>\n    .dataframe tbody tr th:only-of-type {\n        vertical-align: middle;\n    }\n\n    .dataframe tbody tr th {\n        vertical-align: top;\n    }\n\n    .dataframe thead th {\n        text-align: right;\n    }\n</style>\n<table border=\"1\" class=\"dataframe\">\n  <thead>\n    <tr style=\"text-align: right;\">\n      <th></th>\n      <th>coffee</th>\n      <th>tea</th>\n      <th>hot chocolate</th>\n    </tr>\n  </thead>\n  <tbody>\n    <tr>\n      <th>count</th>\n      <td>7.000000</td>\n      <td>7.00000</td>\n      <td>7.000000</td>\n    </tr>\n    <tr>\n      <th>mean</th>\n      <td>28.714286</td>\n      <td>16.00000</td>\n      <td>2.571429</td>\n    </tr>\n    <tr>\n      <th>std</th>\n      <td>9.516902</td>\n      <td>3.91578</td>\n      <td>1.812654</td>\n    </tr>\n    <tr>\n      <th>min</th>\n      <td>19.000000</td>\n      <td>11.00000</td>\n      <td>0.000000</td>\n    </tr>\n    <tr>\n      <th>25%</th>\n      <td>21.500000</td>\n      <td>13.50000</td>\n      <td>1.500000</td>\n    </tr>\n    <tr>\n      <th>50%</th>\n      <td>26.000000</td>\n      <td>16.00000</td>\n      <td>2.000000</td>\n    </tr>\n    <tr>\n      <th>75%</th>\n      <td>35.000000</td>\n      <td>18.50000</td>\n      <td>4.000000</td>\n    </tr>\n    <tr>\n      <th>max</th>\n      <td>43.000000</td>\n      <td>21.00000</td>\n      <td>5.000000</td>\n    </tr>\n  </tbody>\n</table>\n</div>",
            "application/vnd.dataresource+json": {
              "schema": {
                "pandas_version": "1.4.0",
                "primaryKey": [
                  "index"
                ],
                "fields": [
                  {
                    "name": "index",
                    "type": "string"
                  },
                  {
                    "name": "coffee",
                    "type": "number"
                  },
                  {
                    "name": "tea",
                    "type": "number"
                  },
                  {
                    "name": "hot chocolate",
                    "type": "number"
                  }
                ]
              },
              "data": [
                {
                  "coffee": 7,
                  "hot chocolate": 7,
                  "tea": 7,
                  "index": "count"
                },
                {
                  "coffee": 28.7142857143,
                  "hot chocolate": 2.5714285714,
                  "tea": 16,
                  "index": "mean"
                },
                {
                  "coffee": 9.5169022571,
                  "hot chocolate": 1.8126539343,
                  "tea": 3.9157800415,
                  "index": "std"
                },
                {
                  "coffee": 19,
                  "hot chocolate": 0,
                  "tea": 11,
                  "index": "min"
                },
                {
                  "coffee": 21.5,
                  "hot chocolate": 1.5,
                  "tea": 13.5,
                  "index": "25%"
                },
                {
                  "coffee": 26,
                  "hot chocolate": 2,
                  "tea": 16,
                  "index": "50%"
                },
                {
                  "coffee": 35,
                  "hot chocolate": 4,
                  "tea": 18.5,
                  "index": "75%"
                },
                {
                  "coffee": 43,
                  "hot chocolate": 5,
                  "tea": 21,
                  "index": "max"
                }
              ]
            },
            "text/plain": "          coffee       tea  hot chocolate\ncount   7.000000   7.00000       7.000000\nmean   28.714286  16.00000       2.571429\nstd     9.516902   3.91578       1.812654\nmin    19.000000  11.00000       0.000000\n25%    21.500000  13.50000       1.500000\n50%    26.000000  16.00000       2.000000\n75%    35.000000  18.50000       4.000000\nmax    43.000000  21.00000       5.000000"
          },
          "output_type": "execute_result",
          "execution_count": 6
        }
      ]
    },
    {
      "metadata": {
        "jupyter_d1": {
          "position": 9,
          "uuid": "6b38a995-ed74-4d0c-ae9b-bb0fb9949939",
          "execution_state": "idle",
          "path": null,
          "working_directory": null,
          "notebook_uuid": "aba6ecca-7913-46f9-8aa4-937b2e8e4dd6",
          "name": null
        }
      },
      "id": null,
      "source": "## Pandas also provides some useful tools for selecting parts of the data.\n### We can select a single column like this:",
      "cell_type": "markdown"
    },
    {
      "metadata": {
        "jupyter_d1": {
          "position": 10,
          "uuid": "d800c604-f85a-4dd2-94ac-1310b3c0fe1d",
          "execution_state": "idle",
          "path": null,
          "working_directory": null,
          "notebook_uuid": "aba6ecca-7913-46f9-8aa4-937b2e8e4dd6",
          "name": null
        },
        "execution": {
          "iopub.status.busy": "2022-05-26T19:23:37.873926Z",
          "iopub.status.idle": "2022-05-26T19:23:37.883140Z",
          "iopub.execute_input": "2022-05-26T19:23:37.874335Z",
          "shell.execute_reply": "2022-05-26T19:23:37.881941Z"
        }
      },
      "id": null,
      "source": "df[\"coffee\"]",
      "cell_type": "code",
      "execution_count": 7,
      "outputs": [
        {
          "metadata": {},
          "data": {
            "application/vnd.dataresource+json": {
              "schema": {
                "pandas_version": "1.4.0",
                "primaryKey": [
                  "index"
                ],
                "fields": [
                  {
                    "name": "index",
                    "type": "string"
                  },
                  {
                    "name": "coffee",
                    "type": "integer"
                  }
                ]
              },
              "data": [
                {
                  "coffee": 20,
                  "index": "Monday"
                },
                {
                  "coffee": 23,
                  "index": "Tuesday"
                },
                {
                  "coffee": 19,
                  "index": "Wednesday"
                },
                {
                  "coffee": 26,
                  "index": "Thursday"
                },
                {
                  "coffee": 30,
                  "index": "Friday"
                },
                {
                  "coffee": 43,
                  "index": "Saturday"
                },
                {
                  "coffee": 40,
                  "index": "Sunday"
                }
              ]
            },
            "text/plain": "Monday       20\nTuesday      23\nWednesday    19\nThursday     26\nFriday       30\nSaturday     43\nSunday       40\nName: coffee, dtype: int64"
          },
          "output_type": "execute_result",
          "execution_count": 7
        }
      ]
    },
    {
      "metadata": {
        "jupyter_d1": {
          "position": 11,
          "uuid": "57362d71-657c-4193-afc5-1901220b9a16",
          "execution_state": "idle",
          "path": null,
          "working_directory": null,
          "notebook_uuid": "aba6ecca-7913-46f9-8aa4-937b2e8e4dd6",
          "name": null
        }
      },
      "id": null,
      "source": "### Or a single row like this:",
      "cell_type": "markdown"
    },
    {
      "metadata": {
        "jupyter_d1": {
          "position": 12,
          "uuid": "b83fb4ff-5ba2-438e-b88f-27324adb273b",
          "execution_state": "idle",
          "path": null,
          "working_directory": null,
          "notebook_uuid": "aba6ecca-7913-46f9-8aa4-937b2e8e4dd6",
          "name": null
        },
        "execution": {
          "iopub.status.busy": "2022-05-26T19:42:49.793214Z",
          "iopub.status.idle": "2022-05-26T19:42:49.802457Z",
          "iopub.execute_input": "2022-05-26T19:42:49.793679Z",
          "shell.execute_reply": "2022-05-26T19:42:49.801427Z"
        }
      },
      "id": null,
      "source": "df.loc[\"Friday\"]",
      "cell_type": "code",
      "execution_count": 8,
      "outputs": [
        {
          "metadata": {},
          "data": {
            "application/vnd.dataresource+json": {
              "schema": {
                "pandas_version": "1.4.0",
                "primaryKey": [
                  "index"
                ],
                "fields": [
                  {
                    "name": "index",
                    "type": "string"
                  },
                  {
                    "name": "Friday",
                    "type": "integer"
                  }
                ]
              },
              "data": [
                {
                  "index": "coffee",
                  "Friday": 30
                },
                {
                  "index": "tea",
                  "Friday": 12
                },
                {
                  "index": "hot chocolate",
                  "Friday": 4
                }
              ]
            },
            "text/plain": "coffee           30\ntea              12\nhot chocolate     4\nName: Friday, dtype: int64"
          },
          "output_type": "execute_result",
          "execution_count": 8
        }
      ]
    },
    {
      "metadata": {
        "jupyter_d1": {
          "position": 13,
          "uuid": "39ee95f6-da7d-4503-b6c1-6ac72dde927d",
          "execution_state": "idle",
          "path": null,
          "working_directory": null,
          "notebook_uuid": "aba6ecca-7913-46f9-8aa4-937b2e8e4dd6",
          "name": null
        }
      },
      "id": null,
      "source": "### We can also select rows based on a column's value:",
      "cell_type": "markdown"
    },
    {
      "metadata": {
        "jupyter_d1": {
          "position": 14,
          "uuid": "5bf48afa-02e5-41c9-af97-58d88122454b",
          "execution_state": "idle",
          "path": null,
          "working_directory": null,
          "notebook_uuid": "aba6ecca-7913-46f9-8aa4-937b2e8e4dd6",
          "name": null
        },
        "execution": {
          "iopub.status.busy": "2022-05-26T19:26:17.729966Z",
          "iopub.status.idle": "2022-05-26T19:26:17.742356Z",
          "iopub.execute_input": "2022-05-26T19:26:17.730412Z",
          "shell.execute_reply": "2022-05-26T19:26:17.741364Z"
        }
      },
      "id": null,
      "source": "df[df[\"tea\"] > 20]",
      "cell_type": "code",
      "execution_count": 9,
      "outputs": [
        {
          "metadata": {},
          "data": {
            "text/html": "<div>\n<style scoped>\n    .dataframe tbody tr th:only-of-type {\n        vertical-align: middle;\n    }\n\n    .dataframe tbody tr th {\n        vertical-align: top;\n    }\n\n    .dataframe thead th {\n        text-align: right;\n    }\n</style>\n<table border=\"1\" class=\"dataframe\">\n  <thead>\n    <tr style=\"text-align: right;\">\n      <th></th>\n      <th>coffee</th>\n      <th>tea</th>\n      <th>hot chocolate</th>\n    </tr>\n  </thead>\n  <tbody>\n    <tr>\n      <th>Thursday</th>\n      <td>26</td>\n      <td>21</td>\n      <td>0</td>\n    </tr>\n    <tr>\n      <th>Sunday</th>\n      <td>40</td>\n      <td>21</td>\n      <td>2</td>\n    </tr>\n  </tbody>\n</table>\n</div>",
            "application/vnd.dataresource+json": {
              "schema": {
                "pandas_version": "1.4.0",
                "primaryKey": [
                  "index"
                ],
                "fields": [
                  {
                    "name": "index",
                    "type": "string"
                  },
                  {
                    "name": "coffee",
                    "type": "integer"
                  },
                  {
                    "name": "tea",
                    "type": "integer"
                  },
                  {
                    "name": "hot chocolate",
                    "type": "integer"
                  }
                ]
              },
              "data": [
                {
                  "coffee": 26,
                  "hot chocolate": 0,
                  "tea": 21,
                  "index": "Thursday"
                },
                {
                  "coffee": 40,
                  "hot chocolate": 2,
                  "tea": 21,
                  "index": "Sunday"
                }
              ]
            },
            "text/plain": "          coffee  tea  hot chocolate\nThursday      26   21              0\nSunday        40   21              2"
          },
          "output_type": "execute_result",
          "execution_count": 9
        }
      ]
    },
    {
      "metadata": {
        "jupyter_d1": {
          "position": 15,
          "uuid": "04691467-3da6-4211-a443-03c1ca06df0b",
          "execution_state": "idle",
          "path": null,
          "working_directory": null,
          "notebook_uuid": "aba6ecca-7913-46f9-8aa4-937b2e8e4dd6",
          "name": null
        }
      },
      "id": null,
      "source": "## Pandas also integrates with Matplotlib, a comprehensive visualization library",
      "cell_type": "markdown"
    },
    {
      "metadata": {
        "jupyter_d1": {
          "position": 16,
          "uuid": "c5b93f27-14f1-486f-b21c-855173a47665",
          "execution_state": "idle",
          "path": null,
          "working_directory": null,
          "notebook_uuid": "aba6ecca-7913-46f9-8aa4-937b2e8e4dd6",
          "name": null
        },
        "execution": {
          "iopub.status.busy": "2022-05-26T19:44:30.358633Z",
          "iopub.status.idle": "2022-05-26T19:44:30.582243Z",
          "iopub.execute_input": "2022-05-26T19:44:30.359161Z",
          "shell.execute_reply": "2022-05-26T19:44:30.581106Z"
        }
      },
      "id": null,
      "source": "import matplotlib.pyplot as plt\ndf.plot(kind=\"line\", y=[\"coffee\", \"tea\", \"hot chocolate\"])\nplt.xticks(rotation = 45)\nplt.show()",
      "cell_type": "code",
      "execution_count": 10,
      "outputs": [
        {
          "metadata": {
            "needs_background": "light"
          },
          "data": {
            "text/plain": "<Figure size 432x288 with 1 Axes>",
            "image/png": "[encoded data removed]"
          },
          "output_type": "display_data"
        }
      ]
    }
  ],
  "metadata": {
    "jupyter_d1": {
      "position": null,
      "uuid": "aba6ecca-7913-46f9-8aa4-937b2e8e4dd6",
      "execution_state": null,
      "path": "/Users/kylenorris/pandas-tutorial.ipynb",
      "working_directory": "/Users/kylenorris",
      "notebook_uuid": null,
      "name": "pandas-tutorial"
    },
    "language_info": {
      "file_extension": ".py",
      "codemirror_mode": {
        "name": "ipython",
        "version": 3
      },
      "mimetype": "text/x-python",
      "pygments_lexer": "ipython3",
      "version": "3.9.12",
      "nbconvert_exporter": "python",
      "name": "python"
    },
    "kernelspec": {
      "name": "python3",
      "language": "python",
      "display_name": "Python 3 (ipykernel)"
    }
  },
  "nbformat_minor": 4,
  "nbformat": 4
}
