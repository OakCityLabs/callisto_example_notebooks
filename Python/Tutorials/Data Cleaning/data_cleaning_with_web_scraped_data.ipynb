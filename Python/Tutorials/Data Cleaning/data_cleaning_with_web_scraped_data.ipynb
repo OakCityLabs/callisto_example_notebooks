{
  "cells": [
    {
      "metadata": {
        "jupyter_d1": {
          "position": 0,
          "uuid": "72db7e7a-fd53-4a94-9eaf-04cdb3ad0b30",
          "execution_state": "idle",
          "path": null,
          "working_directory": null,
          "notebook_uuid": "fac06a73-0d67-4b6a-b217-c249ca3f74f7",
          "name": null
        }
      },
      "id": "a41e7050",
      "source": "# Where to find the data:\n# https://www.kaggle.com/datasets/bharatnatrayn/movies-dataset-for-feature-extracion-prediction\n",
      "cell_type": "code",
      "execution_count": 1,
      "outputs": []
    },
    {
      "metadata": {
        "jupyter_d1": {
          "position": 1,
          "uuid": "9878db66-ad2f-46da-92c6-dbdb8c6bd0c4",
          "execution_state": "idle",
          "path": null,
          "working_directory": null,
          "notebook_uuid": "fac06a73-0d67-4b6a-b217-c249ca3f74f7",
          "name": null
        }
      },
      "id": "32a55a4f",
      "source": "import pandas as pd\nimport seaborn as sns\n\ndf = pd.read_csv(\"movies.csv\", index_col=None)\n\ndf.drop(columns=['ONE-LINE', 'STARS'], inplace=True)\n",
      "cell_type": "code",
      "execution_count": 3,
      "outputs": [
        {
          "metadata": {},
          "data": {
            "text/plain": "                                MOVIES         YEAR  \\\n0                        Blood Red Sky       (2021)   \n1  Masters of the Universe: Revelation     (2021– )   \n2                     The Walking Dead  (2010–2022)   \n3                       Rick and Morty     (2013– )   \n4                      Army of Thieves       (2021)   \n\n                                        GENRE  RATING    VOTES  RunTime Gross  \n0      \\nAction, Horror, Thriller                 6.1   21,062    121.0   NaN  \n1  \\nAnimation, Action, Adventure                 5.0   17,870     25.0   NaN  \n2       \\nDrama, Horror, Thriller                 8.2  885,805     44.0   NaN  \n3  \\nAnimation, Adventure, Comedy                 9.2  414,849     23.0   NaN  \n4         \\nAction, Crime, Horror                 NaN      NaN      NaN   NaN  ",
            "application/vnd.dataresource+json": {
              "schema": {
                "pandas_version": "1.4.0",
                "primaryKey": [
                  "index"
                ],
                "fields": [
                  {
                    "name": "index",
                    "type": "integer"
                  },
                  {
                    "name": "MOVIES",
                    "type": "string"
                  },
                  {
                    "name": "YEAR",
                    "type": "string"
                  },
                  {
                    "name": "GENRE",
                    "type": "string"
                  },
                  {
                    "name": "RATING",
                    "type": "number"
                  },
                  {
                    "name": "VOTES",
                    "type": "string"
                  },
                  {
                    "name": "RunTime",
                    "type": "number"
                  },
                  {
                    "name": "Gross",
                    "type": "string"
                  }
                ]
              },
              "data": [
                {
                  "RATING": 6.1,
                  "MOVIES": "Blood Red Sky",
                  "VOTES": "21,062",
                  "RunTime": 121,
                  "YEAR": "(2021)",
                  "GENRE": "\nAction, Horror, Thriller            ",
                  "Gross": null,
                  "index": 0
                },
                {
                  "MOVIES": "Masters of the Universe: Revelation",
                  "RATING": 5,
                  "VOTES": "17,870",
                  "RunTime": 25,
                  "YEAR": "(2021– )",
                  "GENRE": "\nAnimation, Action, Adventure            ",
                  "Gross": null,
                  "index": 1
                },
                {
                  "MOVIES": "The Walking Dead",
                  "RATING": 8.2,
                  "VOTES": "885,805",
                  "RunTime": 44,
                  "YEAR": "(2010–2022)",
                  "GENRE": "\nDrama, Horror, Thriller            ",
                  "Gross": null,
                  "index": 2
                },
                {
                  "MOVIES": "Rick and Morty",
                  "RATING": 9.2,
                  "VOTES": "414,849",
                  "RunTime": 23,
                  "YEAR": "(2013– )",
                  "GENRE": "\nAnimation, Adventure, Comedy            ",
                  "Gross": null,
                  "index": 3
                },
                {
                  "RATING": null,
                  "MOVIES": "Army of Thieves",
                  "VOTES": null,
                  "RunTime": null,
                  "YEAR": "(2021)",
                  "GENRE": "\nAction, Crime, Horror            ",
                  "Gross": null,
                  "index": 4
                }
              ]
            },
            "text/html": "<div>\n<style scoped>\n    .dataframe tbody tr th:only-of-type {\n        vertical-align: middle;\n    }\n\n    .dataframe tbody tr th {\n        vertical-align: top;\n    }\n\n    .dataframe thead th {\n        text-align: right;\n    }\n</style>\n<table border=\"1\" class=\"dataframe\">\n  <thead>\n    <tr style=\"text-align: right;\">\n      <th></th>\n      <th>MOVIES</th>\n      <th>YEAR</th>\n      <th>GENRE</th>\n      <th>RATING</th>\n      <th>VOTES</th>\n      <th>RunTime</th>\n      <th>Gross</th>\n    </tr>\n  </thead>\n  <tbody>\n    <tr>\n      <th>0</th>\n      <td>Blood Red Sky</td>\n      <td>(2021)</td>\n      <td>\\nAction, Horror, Thriller</td>\n      <td>6.1</td>\n      <td>21,062</td>\n      <td>121.0</td>\n      <td>NaN</td>\n    </tr>\n    <tr>\n      <th>1</th>\n      <td>Masters of the Universe: Revelation</td>\n      <td>(2021– )</td>\n      <td>\\nAnimation, Action, Adventure</td>\n      <td>5.0</td>\n      <td>17,870</td>\n      <td>25.0</td>\n      <td>NaN</td>\n    </tr>\n    <tr>\n      <th>2</th>\n      <td>The Walking Dead</td>\n      <td>(2010–2022)</td>\n      <td>\\nDrama, Horror, Thriller</td>\n      <td>8.2</td>\n      <td>885,805</td>\n      <td>44.0</td>\n      <td>NaN</td>\n    </tr>\n    <tr>\n      <th>3</th>\n      <td>Rick and Morty</td>\n      <td>(2013– )</td>\n      <td>\\nAnimation, Adventure, Comedy</td>\n      <td>9.2</td>\n      <td>414,849</td>\n      <td>23.0</td>\n      <td>NaN</td>\n    </tr>\n    <tr>\n      <th>4</th>\n      <td>Army of Thieves</td>\n      <td>(2021)</td>\n      <td>\\nAction, Crime, Horror</td>\n      <td>NaN</td>\n      <td>NaN</td>\n      <td>NaN</td>\n      <td>NaN</td>\n    </tr>\n  </tbody>\n</table>\n</div>"
          },
          "output_type": "execute_result",
          "execution_count": 3
        }
      ]
    },
    {
      "metadata": {
        "jupyter_d1": {
          "position": 2,
          "uuid": "2ed6726e-94b3-4251-bd96-37153925136b",
          "execution_state": "idle",
          "path": null,
          "working_directory": null,
          "notebook_uuid": "fac06a73-0d67-4b6a-b217-c249ca3f74f7",
          "name": null
        }
      },
      "id": "70de2fbc",
      "source": "df.info()\n",
      "cell_type": "code",
      "execution_count": 4,
      "outputs": [
        {
          "name": "stdout",
          "text": [
            "<class 'pandas.core.frame.DataFrame'>\nRangeIndex: 9999 entries, 0 to 9998\nData columns (total 7 columns):\n #   Column   Non-Null Count  Dtype  \n---  ------   --------------  -----  \n 0   MOVIES   9999 non-null   object \n 1   YEAR     9355 non-null   object \n 2   GENRE    9919 non-null   object \n 3   RATING   8179 non-null   float64\n 4   VOTES    8179 non-null   object \n 5   RunTime  7041 non-null   float64\n 6   Gross    460 non-null    object \ndtypes: float64(2), object(5)\nmemory usage: 546.9+ KB\n"
          ],
          "output_type": "stream"
        }
      ]
    },
    {
      "metadata": {
        "jupyter_d1": {
          "position": 3,
          "uuid": "d341fdf2-88ca-4009-a4b9-af656eaf1836",
          "execution_state": "idle",
          "path": null,
          "working_directory": null,
          "notebook_uuid": "fac06a73-0d67-4b6a-b217-c249ca3f74f7",
          "name": null
        }
      },
      "id": "ecd5fa62",
      "source": "# Cleaning the \"Year\" Column\n\n### Current variations in the data:\n1. (2021)\n2. (2021- )\n3. (2010-2022)\n4. (2021 TV Special)\n5. (I) (2013-2016)\n",
      "cell_type": "markdown",
      "outputs": []
    },
    {
      "metadata": {
        "jupyter_d1": {
          "position": 4,
          "uuid": "33b63452-583f-4376-9204-fe8a84b7ba0f",
          "execution_state": "idle",
          "path": null,
          "working_directory": null,
          "notebook_uuid": "fac06a73-0d67-4b6a-b217-c249ca3f74f7",
          "name": null
        }
      },
      "id": "50af8362",
      "source": "df[\"sequel\"] = df[\"YEAR\"].str.extract(r'([I]+)')\nyears_range = df[\"YEAR\"].str.extract(r'([\\d–]+)')\n\nyears_split = years_range[0].str.split(\"–\", expand=True)\n\ndf[\"year_1\"] = years_split[0]\ndf[\"year_2\"] = years_split[1]\n\ndf.drop(columns=[\"YEAR\"], inplace=True)\ndf.head()\n",
      "cell_type": "code",
      "execution_count": 5,
      "outputs": [
        {
          "metadata": {},
          "data": {
            "text/plain": "                                MOVIES  \\\n0                        Blood Red Sky   \n1  Masters of the Universe: Revelation   \n2                     The Walking Dead   \n3                       Rick and Morty   \n4                      Army of Thieves   \n\n                                        GENRE  RATING    VOTES  RunTime Gross  \\\n0      \\nAction, Horror, Thriller                 6.1   21,062    121.0   NaN   \n1  \\nAnimation, Action, Adventure                 5.0   17,870     25.0   NaN   \n2       \\nDrama, Horror, Thriller                 8.2  885,805     44.0   NaN   \n3  \\nAnimation, Adventure, Comedy                 9.2  414,849     23.0   NaN   \n4         \\nAction, Crime, Horror                 NaN      NaN      NaN   NaN   \n\n  sequel year_1 year_2  \n0    NaN   2021   None  \n1    NaN   2021         \n2    NaN   2010   2022  \n3    NaN   2013         \n4    NaN   2021   None  ",
            "application/vnd.dataresource+json": {
              "schema": {
                "pandas_version": "1.4.0",
                "primaryKey": [
                  "index"
                ],
                "fields": [
                  {
                    "name": "index",
                    "type": "integer"
                  },
                  {
                    "name": "MOVIES",
                    "type": "string"
                  },
                  {
                    "name": "GENRE",
                    "type": "string"
                  },
                  {
                    "name": "RATING",
                    "type": "number"
                  },
                  {
                    "name": "VOTES",
                    "type": "string"
                  },
                  {
                    "name": "RunTime",
                    "type": "number"
                  },
                  {
                    "name": "Gross",
                    "type": "string"
                  },
                  {
                    "name": "sequel",
                    "type": "string"
                  },
                  {
                    "name": "year_1",
                    "type": "string"
                  },
                  {
                    "name": "year_2",
                    "type": "string"
                  }
                ]
              },
              "data": [
                {
                  "sequel": null,
                  "MOVIES": "Blood Red Sky",
                  "year_2": null,
                  "VOTES": "21,062",
                  "RunTime": 121,
                  "year_1": "2021",
                  "RATING": 6.1,
                  "GENRE": "\nAction, Horror, Thriller            ",
                  "Gross": null,
                  "index": 0
                },
                {
                  "sequel": null,
                  "MOVIES": "Masters of the Universe: Revelation",
                  "year_2": "",
                  "VOTES": "17,870",
                  "RunTime": 25,
                  "year_1": "2021",
                  "RATING": 5,
                  "GENRE": "\nAnimation, Action, Adventure            ",
                  "Gross": null,
                  "index": 1
                },
                {
                  "sequel": null,
                  "MOVIES": "The Walking Dead",
                  "year_2": "2022",
                  "VOTES": "885,805",
                  "RunTime": 44,
                  "RATING": 8.2,
                  "year_1": "2010",
                  "GENRE": "\nDrama, Horror, Thriller            ",
                  "Gross": null,
                  "index": 2
                },
                {
                  "sequel": null,
                  "MOVIES": "Rick and Morty",
                  "year_2": "",
                  "VOTES": "414,849",
                  "RunTime": 23,
                  "RATING": 9.2,
                  "year_1": "2013",
                  "GENRE": "\nAnimation, Adventure, Comedy            ",
                  "Gross": null,
                  "index": 3
                },
                {
                  "sequel": null,
                  "MOVIES": "Army of Thieves",
                  "year_2": null,
                  "VOTES": null,
                  "RunTime": null,
                  "year_1": "2021",
                  "RATING": null,
                  "GENRE": "\nAction, Crime, Horror            ",
                  "Gross": null,
                  "index": 4
                }
              ]
            },
            "text/html": "<div>\n<style scoped>\n    .dataframe tbody tr th:only-of-type {\n        vertical-align: middle;\n    }\n\n    .dataframe tbody tr th {\n        vertical-align: top;\n    }\n\n    .dataframe thead th {\n        text-align: right;\n    }\n</style>\n<table border=\"1\" class=\"dataframe\">\n  <thead>\n    <tr style=\"text-align: right;\">\n      <th></th>\n      <th>MOVIES</th>\n      <th>GENRE</th>\n      <th>RATING</th>\n      <th>VOTES</th>\n      <th>RunTime</th>\n      <th>Gross</th>\n      <th>sequel</th>\n      <th>year_1</th>\n      <th>year_2</th>\n    </tr>\n  </thead>\n  <tbody>\n    <tr>\n      <th>0</th>\n      <td>Blood Red Sky</td>\n      <td>\\nAction, Horror, Thriller</td>\n      <td>6.1</td>\n      <td>21,062</td>\n      <td>121.0</td>\n      <td>NaN</td>\n      <td>NaN</td>\n      <td>2021</td>\n      <td>None</td>\n    </tr>\n    <tr>\n      <th>1</th>\n      <td>Masters of the Universe: Revelation</td>\n      <td>\\nAnimation, Action, Adventure</td>\n      <td>5.0</td>\n      <td>17,870</td>\n      <td>25.0</td>\n      <td>NaN</td>\n      <td>NaN</td>\n      <td>2021</td>\n      <td></td>\n    </tr>\n    <tr>\n      <th>2</th>\n      <td>The Walking Dead</td>\n      <td>\\nDrama, Horror, Thriller</td>\n      <td>8.2</td>\n      <td>885,805</td>\n      <td>44.0</td>\n      <td>NaN</td>\n      <td>NaN</td>\n      <td>2010</td>\n      <td>2022</td>\n    </tr>\n    <tr>\n      <th>3</th>\n      <td>Rick and Morty</td>\n      <td>\\nAnimation, Adventure, Comedy</td>\n      <td>9.2</td>\n      <td>414,849</td>\n      <td>23.0</td>\n      <td>NaN</td>\n      <td>NaN</td>\n      <td>2013</td>\n      <td></td>\n    </tr>\n    <tr>\n      <th>4</th>\n      <td>Army of Thieves</td>\n      <td>\\nAction, Crime, Horror</td>\n      <td>NaN</td>\n      <td>NaN</td>\n      <td>NaN</td>\n      <td>NaN</td>\n      <td>NaN</td>\n      <td>2021</td>\n      <td>None</td>\n    </tr>\n  </tbody>\n</table>\n</div>"
          },
          "output_type": "execute_result",
          "execution_count": 5
        }
      ]
    },
    {
      "metadata": {
        "jupyter_d1": {
          "position": 5,
          "uuid": "72e28e17-79ef-49a1-a3dd-b5242d7f5b4d",
          "execution_state": "idle",
          "path": null,
          "working_directory": null,
          "notebook_uuid": "fac06a73-0d67-4b6a-b217-c249ca3f74f7",
          "name": null
        }
      },
      "id": "03347e9f",
      "source": "df.iat[0,1]\n",
      "cell_type": "code",
      "execution_count": 6,
      "outputs": [
        {
          "metadata": {},
          "data": {
            "text/plain": "'\\nAction, Horror, Thriller            '"
          },
          "output_type": "execute_result",
          "execution_count": 6
        }
      ]
    },
    {
      "metadata": {
        "jupyter_d1": {
          "position": 6,
          "uuid": "e74b535f-248f-42fd-b0d2-f33c1b29f50e",
          "execution_state": "idle",
          "path": null,
          "working_directory": null,
          "notebook_uuid": "fac06a73-0d67-4b6a-b217-c249ca3f74f7",
          "name": null
        }
      },
      "id": "67817698",
      "source": "df[\"GENRE\"] = df[\"GENRE\"].str.strip()\ngenres = df[\"GENRE\"].str.split(\", \", expand=True)\n\ndf[\"genre1\"] = genres[0]\ndf[\"genre2\"] = genres[1]\ndf[\"genre3\"] = genres[2]\n\ndf.drop(columns=[\"GENRE\"], inplace=True)\ndf.head()\n",
      "cell_type": "code",
      "execution_count": 7,
      "outputs": [
        {
          "metadata": {},
          "data": {
            "text/plain": "                                MOVIES  RATING    VOTES  RunTime Gross sequel  \\\n0                        Blood Red Sky     6.1   21,062    121.0   NaN    NaN   \n1  Masters of the Universe: Revelation     5.0   17,870     25.0   NaN    NaN   \n2                     The Walking Dead     8.2  885,805     44.0   NaN    NaN   \n3                       Rick and Morty     9.2  414,849     23.0   NaN    NaN   \n4                      Army of Thieves     NaN      NaN      NaN   NaN    NaN   \n\n  year_1 year_2     genre1     genre2     genre3  \n0   2021   None     Action     Horror   Thriller  \n1   2021         Animation     Action  Adventure  \n2   2010   2022      Drama     Horror   Thriller  \n3   2013         Animation  Adventure     Comedy  \n4   2021   None     Action      Crime     Horror  ",
            "application/vnd.dataresource+json": {
              "schema": {
                "pandas_version": "1.4.0",
                "primaryKey": [
                  "index"
                ],
                "fields": [
                  {
                    "name": "index",
                    "type": "integer"
                  },
                  {
                    "name": "MOVIES",
                    "type": "string"
                  },
                  {
                    "name": "RATING",
                    "type": "number"
                  },
                  {
                    "name": "VOTES",
                    "type": "string"
                  },
                  {
                    "name": "RunTime",
                    "type": "number"
                  },
                  {
                    "name": "Gross",
                    "type": "string"
                  },
                  {
                    "name": "sequel",
                    "type": "string"
                  },
                  {
                    "name": "year_1",
                    "type": "string"
                  },
                  {
                    "name": "year_2",
                    "type": "string"
                  },
                  {
                    "name": "genre1",
                    "type": "string"
                  },
                  {
                    "name": "genre2",
                    "type": "string"
                  },
                  {
                    "name": "genre3",
                    "type": "string"
                  }
                ]
              },
              "data": [
                {
                  "index": 0,
                  "genre2": "Horror",
                  "sequel": null,
                  "genre1": "Action",
                  "year_2": null,
                  "RATING": 6.1,
                  "year_1": "2021",
                  "MOVIES": "Blood Red Sky",
                  "VOTES": "21,062",
                  "Gross": null,
                  "RunTime": 121,
                  "genre3": "Thriller"
                },
                {
                  "index": 1,
                  "genre2": "Action",
                  "sequel": null,
                  "genre1": "Animation",
                  "year_2": "",
                  "RATING": 5,
                  "MOVIES": "Masters of the Universe: Revelation",
                  "VOTES": "17,870",
                  "year_1": "2021",
                  "Gross": null,
                  "RunTime": 25,
                  "genre3": "Adventure"
                },
                {
                  "index": 2,
                  "genre2": "Horror",
                  "sequel": null,
                  "genre1": "Drama",
                  "year_2": "2022",
                  "RATING": 8.2,
                  "MOVIES": "The Walking Dead",
                  "VOTES": "885,805",
                  "year_1": "2010",
                  "Gross": null,
                  "RunTime": 44,
                  "genre3": "Thriller"
                },
                {
                  "index": 3,
                  "genre2": "Adventure",
                  "sequel": null,
                  "genre1": "Animation",
                  "year_2": "",
                  "RATING": 9.2,
                  "MOVIES": "Rick and Morty",
                  "VOTES": "414,849",
                  "year_1": "2013",
                  "Gross": null,
                  "RunTime": 23,
                  "genre3": "Comedy"
                },
                {
                  "index": 4,
                  "genre2": "Crime",
                  "sequel": null,
                  "genre1": "Action",
                  "year_2": null,
                  "RATING": null,
                  "year_1": "2021",
                  "MOVIES": "Army of Thieves",
                  "VOTES": null,
                  "Gross": null,
                  "RunTime": null,
                  "genre3": "Horror"
                }
              ]
            },
            "text/html": "<div>\n<style scoped>\n    .dataframe tbody tr th:only-of-type {\n        vertical-align: middle;\n    }\n\n    .dataframe tbody tr th {\n        vertical-align: top;\n    }\n\n    .dataframe thead th {\n        text-align: right;\n    }\n</style>\n<table border=\"1\" class=\"dataframe\">\n  <thead>\n    <tr style=\"text-align: right;\">\n      <th></th>\n      <th>MOVIES</th>\n      <th>RATING</th>\n      <th>VOTES</th>\n      <th>RunTime</th>\n      <th>Gross</th>\n      <th>sequel</th>\n      <th>year_1</th>\n      <th>year_2</th>\n      <th>genre1</th>\n      <th>genre2</th>\n      <th>genre3</th>\n    </tr>\n  </thead>\n  <tbody>\n    <tr>\n      <th>0</th>\n      <td>Blood Red Sky</td>\n      <td>6.1</td>\n      <td>21,062</td>\n      <td>121.0</td>\n      <td>NaN</td>\n      <td>NaN</td>\n      <td>2021</td>\n      <td>None</td>\n      <td>Action</td>\n      <td>Horror</td>\n      <td>Thriller</td>\n    </tr>\n    <tr>\n      <th>1</th>\n      <td>Masters of the Universe: Revelation</td>\n      <td>5.0</td>\n      <td>17,870</td>\n      <td>25.0</td>\n      <td>NaN</td>\n      <td>NaN</td>\n      <td>2021</td>\n      <td></td>\n      <td>Animation</td>\n      <td>Action</td>\n      <td>Adventure</td>\n    </tr>\n    <tr>\n      <th>2</th>\n      <td>The Walking Dead</td>\n      <td>8.2</td>\n      <td>885,805</td>\n      <td>44.0</td>\n      <td>NaN</td>\n      <td>NaN</td>\n      <td>2010</td>\n      <td>2022</td>\n      <td>Drama</td>\n      <td>Horror</td>\n      <td>Thriller</td>\n    </tr>\n    <tr>\n      <th>3</th>\n      <td>Rick and Morty</td>\n      <td>9.2</td>\n      <td>414,849</td>\n      <td>23.0</td>\n      <td>NaN</td>\n      <td>NaN</td>\n      <td>2013</td>\n      <td></td>\n      <td>Animation</td>\n      <td>Adventure</td>\n      <td>Comedy</td>\n    </tr>\n    <tr>\n      <th>4</th>\n      <td>Army of Thieves</td>\n      <td>NaN</td>\n      <td>NaN</td>\n      <td>NaN</td>\n      <td>NaN</td>\n      <td>NaN</td>\n      <td>2021</td>\n      <td>None</td>\n      <td>Action</td>\n      <td>Crime</td>\n      <td>Horror</td>\n    </tr>\n  </tbody>\n</table>\n</div>"
          },
          "output_type": "execute_result",
          "execution_count": 7
        }
      ]
    },
    {
      "metadata": {
        "jupyter_d1": {
          "position": 7,
          "uuid": "c2d9da26-85b7-403f-8f17-99eeb9813571",
          "execution_state": "idle",
          "path": null,
          "working_directory": null,
          "notebook_uuid": "fac06a73-0d67-4b6a-b217-c249ca3f74f7",
          "name": null
        }
      },
      "id": "ef0f07e6",
      "source": "plot_df = df[[\"year_1\", \"RATING\"]].copy()\nplot_df.sort_values(inplace=True, by=\"year_1\")\n\ng = sns.lineplot(x=\"year_1\", y=\"RATING\", data=plot_df)\n\nfor ind, label in enumerate(g.get_xticklabels()):\n    if ind % 10 == 0:  # every 10th label is kept\n        label.set_visible(True)\n    else:\n        label.set_visible(False)\n",
      "cell_type": "code",
      "execution_count": 8,
      "outputs": [
        {
          "metadata": {},
          "data": {
            "image/png": "[encoded data removed]",
            "text/plain": "<Figure size 640x480 with 1 Axes>"
          },
          "output_type": "display_data"
        }
      ]
    }
  ],
  "metadata": {
    "jupyter_d1": {
      "position": null,
      "uuid": "fac06a73-0d67-4b6a-b217-c249ca3f74f7",
      "execution_state": null,
      "path": "/Users/kylenorris/Data Science Notebooks/Data Cleaning Notebooks/cleaning_1.ipynb",
      "working_directory": "/Users/kylenorris/Data Science Notebooks/Data Cleaning Notebooks",
      "notebook_uuid": null,
      "name": "cleaning_1"
    },
    "language_info": {
      "file_extension": ".py",
      "codemirror_mode": {
        "name": "ipython",
        "version": 3
      },
      "mimetype": "text/x-python",
      "pygments_lexer": "ipython3",
      "version": "3.8.2",
      "nbconvert_exporter": "python",
      "name": "python"
    },
    "kernelspec": {
      "name": "python3",
      "language": "python",
      "display_name": "Python 3"
    }
  },
  "nbformat_minor": 4,
  "nbformat": 4
}
